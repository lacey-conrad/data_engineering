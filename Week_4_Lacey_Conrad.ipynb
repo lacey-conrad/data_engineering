{
 "cells": [
  {
   "cell_type": "code",
   "execution_count": 1,
   "metadata": {},
   "outputs": [
    {
     "name": "stdout",
     "output_type": "stream",
     "text": [
      "Requirement already satisfied: pymongo in c:\\anaconda\\lib\\site-packages (3.9.0)\n",
      "Note: you may need to restart the kernel to use updated packages.\n"
     ]
    }
   ],
   "source": [
    "pip install pymongo"
   ]
  },
  {
   "cell_type": "code",
   "execution_count": 2,
   "metadata": {},
   "outputs": [],
   "source": [
    "from pymongo import MongoClient"
   ]
  },
  {
   "cell_type": "code",
   "execution_count": 3,
   "metadata": {},
   "outputs": [],
   "source": [
    "client = MongoClient()"
   ]
  },
  {
   "cell_type": "code",
   "execution_count": 4,
   "metadata": {},
   "outputs": [],
   "source": [
    "db=client['la_traffic']"
   ]
  },
  {
   "cell_type": "code",
   "execution_count": 5,
   "metadata": {},
   "outputs": [],
   "source": [
    "tickets=db['la_traffic_citations']"
   ]
  },
  {
   "cell_type": "code",
   "execution_count": 6,
   "metadata": {},
   "outputs": [
    {
     "data": {
      "text/plain": [
       "{'_id': ObjectId('5ecbea08a1360440c4dcd9d3'),\n",
       " 'Ticket number': '1103341116',\n",
       " 'Issue Date': '2015-12-21T00:00:00.000',\n",
       " 'Issue time': '1251',\n",
       " 'Meter Id': '',\n",
       " 'Marked Time': '',\n",
       " 'RP State Plate': 'CA',\n",
       " 'Plate Expiry Date': '200304',\n",
       " 'VIN': '',\n",
       " 'Make': 'HOND',\n",
       " 'Body Style': 'PA',\n",
       " 'Color': 'GY',\n",
       " 'Location': '13147 WELBY WAY',\n",
       " 'Route': '01521',\n",
       " 'Agency': '1',\n",
       " 'Violation code': '4000A1',\n",
       " 'Violation Description': 'NO EVIDENCE OF REG',\n",
       " 'Fine amount': '50',\n",
       " 'Latitude': '99999',\n",
       " 'Longitude': '99999',\n",
       " 'Agency Description': '',\n",
       " 'Color Description': '',\n",
       " 'Body Style Description': ''}"
      ]
     },
     "execution_count": 6,
     "metadata": {},
     "output_type": "execute_result"
    }
   ],
   "source": [
    "tickets.find_one()"
   ]
  },
  {
   "cell_type": "code",
   "execution_count": 10,
   "metadata": {},
   "outputs": [],
   "source": [
    "co_tickets = tickets.find({'RP State Plate':{'$eq': 'FL'}}).limit(100)"
   ]
  },
  {
   "cell_type": "code",
   "execution_count": 11,
   "metadata": {},
   "outputs": [
    {
     "data": {
      "text/plain": [
       "{'_id': ObjectId('5ecbea08a1360440c4dcd9e7'),\n",
       " 'Ticket number': '1107780822',\n",
       " 'Issue Date': '2015-12-22T00:00:00.000',\n",
       " 'Issue time': '1105',\n",
       " 'Meter Id': '',\n",
       " 'Marked Time': '',\n",
       " 'RP State Plate': 'FL',\n",
       " 'Plate Expiry Date': '201611',\n",
       " 'VIN': '',\n",
       " 'Make': 'FORD',\n",
       " 'Body Style': 'PA',\n",
       " 'Color': 'WH',\n",
       " 'Location': '',\n",
       " 'Route': '2A1',\n",
       " 'Agency': '1',\n",
       " 'Violation code': '8069B',\n",
       " 'Violation Description': 'NO PARKING',\n",
       " 'Fine amount': '73',\n",
       " 'Latitude': '99999',\n",
       " 'Longitude': '99999',\n",
       " 'Agency Description': '',\n",
       " 'Color Description': '',\n",
       " 'Body Style Description': ''}"
      ]
     },
     "execution_count": 11,
     "metadata": {},
     "output_type": "execute_result"
    }
   ],
   "source": [
    "co_tickets[0]"
   ]
  },
  {
   "cell_type": "code",
   "execution_count": 11,
   "metadata": {},
   "outputs": [],
   "source": [
    "import pandas as pd\n",
    "import matplotlib.pyplot as plt\n",
    "%matplotlib inline"
   ]
  },
  {
   "cell_type": "code",
   "execution_count": 12,
   "metadata": {},
   "outputs": [],
   "source": [
    "df = pd.io.json.json_normalize(co_tickets)"
   ]
  },
  {
   "cell_type": "code",
   "execution_count": 13,
   "metadata": {},
   "outputs": [
    {
     "data": {
      "text/html": [
       "<div>\n",
       "<style scoped>\n",
       "    .dataframe tbody tr th:only-of-type {\n",
       "        vertical-align: middle;\n",
       "    }\n",
       "\n",
       "    .dataframe tbody tr th {\n",
       "        vertical-align: top;\n",
       "    }\n",
       "\n",
       "    .dataframe thead th {\n",
       "        text-align: right;\n",
       "    }\n",
       "</style>\n",
       "<table border=\"1\" class=\"dataframe\">\n",
       "  <thead>\n",
       "    <tr style=\"text-align: right;\">\n",
       "      <th></th>\n",
       "      <th>_id</th>\n",
       "      <th>Ticket number</th>\n",
       "      <th>Issue Date</th>\n",
       "      <th>Issue time</th>\n",
       "      <th>Meter Id</th>\n",
       "      <th>Marked Time</th>\n",
       "      <th>RP State Plate</th>\n",
       "      <th>Plate Expiry Date</th>\n",
       "      <th>VIN</th>\n",
       "      <th>Make</th>\n",
       "      <th>...</th>\n",
       "      <th>Route</th>\n",
       "      <th>Agency</th>\n",
       "      <th>Violation code</th>\n",
       "      <th>Violation Description</th>\n",
       "      <th>Fine amount</th>\n",
       "      <th>Latitude</th>\n",
       "      <th>Longitude</th>\n",
       "      <th>Agency Description</th>\n",
       "      <th>Color Description</th>\n",
       "      <th>Body Style Description</th>\n",
       "    </tr>\n",
       "  </thead>\n",
       "  <tbody>\n",
       "    <tr>\n",
       "      <td>0</td>\n",
       "      <td>5ecbea08a1360440c4dcddb8</td>\n",
       "      <td>4272435510</td>\n",
       "      <td>2015-12-30T00:00:00.000</td>\n",
       "      <td>1253</td>\n",
       "      <td>BF673</td>\n",
       "      <td></td>\n",
       "      <td>CO</td>\n",
       "      <td>201706</td>\n",
       "      <td></td>\n",
       "      <td>CHRY</td>\n",
       "      <td>...</td>\n",
       "      <td>00474</td>\n",
       "      <td>54</td>\n",
       "      <td>88.03A</td>\n",
       "      <td>OUTSIDE LINES/METER</td>\n",
       "      <td>58</td>\n",
       "      <td>6449916.6</td>\n",
       "      <td>1852253.7</td>\n",
       "      <td></td>\n",
       "      <td></td>\n",
       "      <td></td>\n",
       "    </tr>\n",
       "    <tr>\n",
       "      <td>1</td>\n",
       "      <td>5ecbea09a1360440c4dcde9e</td>\n",
       "      <td>4272603473</td>\n",
       "      <td>2015-12-30T00:00:00.000</td>\n",
       "      <td>301</td>\n",
       "      <td></td>\n",
       "      <td></td>\n",
       "      <td>CO</td>\n",
       "      <td>201607</td>\n",
       "      <td></td>\n",
       "      <td>HYUN</td>\n",
       "      <td>...</td>\n",
       "      <td>00107</td>\n",
       "      <td>55</td>\n",
       "      <td>80.56E4+</td>\n",
       "      <td>RED ZONE</td>\n",
       "      <td>93</td>\n",
       "      <td>6475587.7</td>\n",
       "      <td>1840381</td>\n",
       "      <td></td>\n",
       "      <td></td>\n",
       "      <td></td>\n",
       "    </tr>\n",
       "    <tr>\n",
       "      <td>2</td>\n",
       "      <td>5ecbea09a1360440c4dcdfc8</td>\n",
       "      <td>4272779803</td>\n",
       "      <td>2015-12-30T00:00:00.000</td>\n",
       "      <td>725</td>\n",
       "      <td></td>\n",
       "      <td></td>\n",
       "      <td>CO</td>\n",
       "      <td>201608</td>\n",
       "      <td></td>\n",
       "      <td>FORD</td>\n",
       "      <td>...</td>\n",
       "      <td>00442</td>\n",
       "      <td>54</td>\n",
       "      <td>80.70</td>\n",
       "      <td>NO STOPPING/ANTI-GRI</td>\n",
       "      <td>163</td>\n",
       "      <td>6469130.6</td>\n",
       "      <td>1844981.4</td>\n",
       "      <td></td>\n",
       "      <td></td>\n",
       "      <td></td>\n",
       "    </tr>\n",
       "    <tr>\n",
       "      <td>3</td>\n",
       "      <td>5ecbea09a1360440c4dce084</td>\n",
       "      <td>4272895266</td>\n",
       "      <td>2015-12-30T00:00:00.000</td>\n",
       "      <td>1809</td>\n",
       "      <td></td>\n",
       "      <td></td>\n",
       "      <td>CO</td>\n",
       "      <td>201605</td>\n",
       "      <td></td>\n",
       "      <td>JEEP</td>\n",
       "      <td>...</td>\n",
       "      <td>00402</td>\n",
       "      <td>54</td>\n",
       "      <td>80.69B</td>\n",
       "      <td>NO PARKING</td>\n",
       "      <td>73</td>\n",
       "      <td>6460327.1</td>\n",
       "      <td>1859514.2</td>\n",
       "      <td></td>\n",
       "      <td></td>\n",
       "      <td></td>\n",
       "    </tr>\n",
       "    <tr>\n",
       "      <td>4</td>\n",
       "      <td>5ecbea09a1360440c4dce0d6</td>\n",
       "      <td>4273857921</td>\n",
       "      <td>2016-01-03T00:00:00.000</td>\n",
       "      <td>1152</td>\n",
       "      <td></td>\n",
       "      <td></td>\n",
       "      <td>CO</td>\n",
       "      <td></td>\n",
       "      <td></td>\n",
       "      <td>DODG</td>\n",
       "      <td>...</td>\n",
       "      <td>00201</td>\n",
       "      <td>51</td>\n",
       "      <td>80.69B</td>\n",
       "      <td>NO PARKING</td>\n",
       "      <td>73</td>\n",
       "      <td>99999</td>\n",
       "      <td>99999</td>\n",
       "      <td></td>\n",
       "      <td></td>\n",
       "      <td></td>\n",
       "    </tr>\n",
       "  </tbody>\n",
       "</table>\n",
       "<p>5 rows × 23 columns</p>\n",
       "</div>"
      ],
      "text/plain": [
       "                        _id Ticket number               Issue Date Issue time  \\\n",
       "0  5ecbea08a1360440c4dcddb8    4272435510  2015-12-30T00:00:00.000       1253   \n",
       "1  5ecbea09a1360440c4dcde9e    4272603473  2015-12-30T00:00:00.000        301   \n",
       "2  5ecbea09a1360440c4dcdfc8    4272779803  2015-12-30T00:00:00.000        725   \n",
       "3  5ecbea09a1360440c4dce084    4272895266  2015-12-30T00:00:00.000       1809   \n",
       "4  5ecbea09a1360440c4dce0d6    4273857921  2016-01-03T00:00:00.000       1152   \n",
       "\n",
       "  Meter Id Marked Time RP State Plate Plate Expiry Date VIN  Make  ...  Route  \\\n",
       "0    BF673                         CO            201706      CHRY  ...  00474   \n",
       "1                                  CO            201607      HYUN  ...  00107   \n",
       "2                                  CO            201608      FORD  ...  00442   \n",
       "3                                  CO            201605      JEEP  ...  00402   \n",
       "4                                  CO                        DODG  ...  00201   \n",
       "\n",
       "  Agency Violation code Violation Description Fine amount   Latitude  \\\n",
       "0     54         88.03A   OUTSIDE LINES/METER          58  6449916.6   \n",
       "1     55       80.56E4+              RED ZONE          93  6475587.7   \n",
       "2     54          80.70  NO STOPPING/ANTI-GRI         163  6469130.6   \n",
       "3     54         80.69B            NO PARKING          73  6460327.1   \n",
       "4     51         80.69B            NO PARKING          73      99999   \n",
       "\n",
       "   Longitude Agency Description Color Description Body Style Description  \n",
       "0  1852253.7                                                              \n",
       "1    1840381                                                              \n",
       "2  1844981.4                                                              \n",
       "3  1859514.2                                                              \n",
       "4      99999                                                              \n",
       "\n",
       "[5 rows x 23 columns]"
      ]
     },
     "execution_count": 13,
     "metadata": {},
     "output_type": "execute_result"
    }
   ],
   "source": [
    "df.head()"
   ]
  },
  {
   "cell_type": "code",
   "execution_count": 14,
   "metadata": {},
   "outputs": [
    {
     "data": {
      "image/png": "[encoded data removed]",
      "text/plain": [
       "<Figure size 432x288 with 1 Axes>"
      ]
     },
     "metadata": {
      "needs_background": "light"
     },
     "output_type": "display_data"
    }
   ],
   "source": [
    "ax = df['Make'].value_counts()[:20].plot.bar()\n",
    "plt.tight_layout()"
   ]
  },
  {
   "cell_type": "code",
   "execution_count": 15,
   "metadata": {},
   "outputs": [],
   "source": [
    "fig = ax.get_figure()\n",
    "fig.savefig('barplot.jpg')"
   ]
  },
  {
   "cell_type": "code",
   "execution_count": 16,
   "metadata": {},
   "outputs": [],
   "source": [
    "ca = tickets.find({'RP State Plate':{'$eq': 'CA'}}).limit(100)"
   ]
  },
  {
   "cell_type": "code",
   "execution_count": 17,
   "metadata": {},
   "outputs": [
    {
     "data": {
      "text/plain": [
       "{'_id': ObjectId('5ecbea08a1360440c4dcd9d3'),\n",
       " 'Ticket number': '1103341116',\n",
       " 'Issue Date': '2015-12-21T00:00:00.000',\n",
       " 'Issue time': '1251',\n",
       " 'Meter Id': '',\n",
       " 'Marked Time': '',\n",
       " 'RP State Plate': 'CA',\n",
       " 'Plate Expiry Date': '200304',\n",
       " 'VIN': '',\n",
       " 'Make': 'HOND',\n",
       " 'Body Style': 'PA',\n",
       " 'Color': 'GY',\n",
       " 'Location': '13147 WELBY WAY',\n",
       " 'Route': '01521',\n",
       " 'Agency': '1',\n",
       " 'Violation code': '4000A1',\n",
       " 'Violation Description': 'NO EVIDENCE OF REG',\n",
       " 'Fine amount': '50',\n",
       " 'Latitude': '99999',\n",
       " 'Longitude': '99999',\n",
       " 'Agency Description': '',\n",
       " 'Color Description': '',\n",
       " 'Body Style Description': ''}"
      ]
     },
     "execution_count": 17,
     "metadata": {},
     "output_type": "execute_result"
    }
   ],
   "source": [
    "ca[0]"
   ]
  },
  {
   "cell_type": "code",
   "execution_count": 23,
   "metadata": {},
   "outputs": [],
   "source": [
    "no_ca = tickets.find({'RP State Plate':{'$ne': 'CA'}})"
   ]
  },
  {
   "cell_type": "code",
   "execution_count": 24,
   "metadata": {},
   "outputs": [
    {
     "data": {
      "text/plain": [
       "{'_id': ObjectId('5ecbea08a1360440c4dcd9e7'),\n",
       " 'Ticket number': '1107780822',\n",
       " 'Issue Date': '2015-12-22T00:00:00.000',\n",
       " 'Issue time': '1105',\n",
       " 'Meter Id': '',\n",
       " 'Marked Time': '',\n",
       " 'RP State Plate': 'FL',\n",
       " 'Plate Expiry Date': '201611',\n",
       " 'VIN': '',\n",
       " 'Make': 'FORD',\n",
       " 'Body Style': 'PA',\n",
       " 'Color': 'WH',\n",
       " 'Location': '',\n",
       " 'Route': '2A1',\n",
       " 'Agency': '1',\n",
       " 'Violation code': '8069B',\n",
       " 'Violation Description': 'NO PARKING',\n",
       " 'Fine amount': '73',\n",
       " 'Latitude': '99999',\n",
       " 'Longitude': '99999',\n",
       " 'Agency Description': '',\n",
       " 'Color Description': '',\n",
       " 'Body Style Description': ''}"
      ]
     },
     "execution_count": 24,
     "metadata": {},
     "output_type": "execute_result"
    }
   ],
   "source": [
    "no_ca[0]"
   ]
  },
  {
   "cell_type": "code",
   "execution_count": 25,
   "metadata": {},
   "outputs": [],
   "source": [
    "df2 = pd.io.json.json_normalize(no_ca)"
   ]
  },
  {
   "cell_type": "code",
   "execution_count": 26,
   "metadata": {},
   "outputs": [
    {
     "data": {
      "text/html": [
       "<div>\n",
       "<style scoped>\n",
       "    .dataframe tbody tr th:only-of-type {\n",
       "        vertical-align: middle;\n",
       "    }\n",
       "\n",
       "    .dataframe tbody tr th {\n",
       "        vertical-align: top;\n",
       "    }\n",
       "\n",
       "    .dataframe thead th {\n",
       "        text-align: right;\n",
       "    }\n",
       "</style>\n",
       "<table border=\"1\" class=\"dataframe\">\n",
       "  <thead>\n",
       "    <tr style=\"text-align: right;\">\n",
       "      <th></th>\n",
       "      <th>_id</th>\n",
       "      <th>Ticket number</th>\n",
       "      <th>Issue Date</th>\n",
       "      <th>Issue time</th>\n",
       "      <th>Meter Id</th>\n",
       "      <th>Marked Time</th>\n",
       "      <th>RP State Plate</th>\n",
       "      <th>Plate Expiry Date</th>\n",
       "      <th>VIN</th>\n",
       "      <th>Make</th>\n",
       "      <th>...</th>\n",
       "      <th>Route</th>\n",
       "      <th>Agency</th>\n",
       "      <th>Violation code</th>\n",
       "      <th>Violation Description</th>\n",
       "      <th>Fine amount</th>\n",
       "      <th>Latitude</th>\n",
       "      <th>Longitude</th>\n",
       "      <th>Agency Description</th>\n",
       "      <th>Color Description</th>\n",
       "      <th>Body Style Description</th>\n",
       "    </tr>\n",
       "  </thead>\n",
       "  <tbody>\n",
       "    <tr>\n",
       "      <td>0</td>\n",
       "      <td>5ecbea08a1360440c4dcd9fe</td>\n",
       "      <td>1109455266</td>\n",
       "      <td>2015-12-26T00:00:00.000</td>\n",
       "      <td>1815</td>\n",
       "      <td></td>\n",
       "      <td></td>\n",
       "      <td>NY</td>\n",
       "      <td></td>\n",
       "      <td></td>\n",
       "      <td>TOYO</td>\n",
       "      <td>...</td>\n",
       "      <td></td>\n",
       "      <td>36</td>\n",
       "      <td>8603</td>\n",
       "      <td>PK IN PROH AREA</td>\n",
       "      <td>68</td>\n",
       "      <td>6467477.1</td>\n",
       "      <td>1868721</td>\n",
       "      <td></td>\n",
       "      <td></td>\n",
       "      <td></td>\n",
       "    </tr>\n",
       "    <tr>\n",
       "      <td>1</td>\n",
       "      <td>5ecbea08a1360440c4dcda08</td>\n",
       "      <td>1109704934</td>\n",
       "      <td>2015-12-28T00:00:00.000</td>\n",
       "      <td>847</td>\n",
       "      <td></td>\n",
       "      <td></td>\n",
       "      <td>OR</td>\n",
       "      <td>200316</td>\n",
       "      <td></td>\n",
       "      <td>SUBA</td>\n",
       "      <td>...</td>\n",
       "      <td></td>\n",
       "      <td>54</td>\n",
       "      <td>8069BS</td>\n",
       "      <td>NO PARK/STREET CLEAN</td>\n",
       "      <td>73</td>\n",
       "      <td>99999</td>\n",
       "      <td>99999</td>\n",
       "      <td></td>\n",
       "      <td></td>\n",
       "      <td></td>\n",
       "    </tr>\n",
       "    <tr>\n",
       "      <td>2</td>\n",
       "      <td>5ecbea08a1360440c4dcda28</td>\n",
       "      <td>1111884093</td>\n",
       "      <td>2015-12-12T00:00:00.000</td>\n",
       "      <td>938</td>\n",
       "      <td></td>\n",
       "      <td></td>\n",
       "      <td>WA</td>\n",
       "      <td>201505</td>\n",
       "      <td></td>\n",
       "      <td>VOLK</td>\n",
       "      <td>...</td>\n",
       "      <td>1A4</td>\n",
       "      <td>11</td>\n",
       "      <td>4000A1</td>\n",
       "      <td>NO EVIDENCE OF REG</td>\n",
       "      <td>50</td>\n",
       "      <td>99999</td>\n",
       "      <td>99999</td>\n",
       "      <td></td>\n",
       "      <td></td>\n",
       "      <td></td>\n",
       "    </tr>\n",
       "    <tr>\n",
       "      <td>3</td>\n",
       "      <td>5ecbea08a1360440c4dcda2c</td>\n",
       "      <td>1111884130</td>\n",
       "      <td>2015-12-19T00:00:00.000</td>\n",
       "      <td>1200</td>\n",
       "      <td></td>\n",
       "      <td></td>\n",
       "      <td>NJ</td>\n",
       "      <td>201212</td>\n",
       "      <td></td>\n",
       "      <td>SUBA</td>\n",
       "      <td>...</td>\n",
       "      <td>1A4</td>\n",
       "      <td>11</td>\n",
       "      <td>4000A1</td>\n",
       "      <td>NO EVIDENCE OF REG</td>\n",
       "      <td>50</td>\n",
       "      <td>6415432.1</td>\n",
       "      <td>1898663.3</td>\n",
       "      <td></td>\n",
       "      <td></td>\n",
       "      <td></td>\n",
       "    </tr>\n",
       "    <tr>\n",
       "      <td>4</td>\n",
       "      <td>5ecbea08a1360440c4dcda30</td>\n",
       "      <td>1111927526</td>\n",
       "      <td>2015-12-21T00:00:00.000</td>\n",
       "      <td>1000</td>\n",
       "      <td></td>\n",
       "      <td></td>\n",
       "      <td>CO</td>\n",
       "      <td>201403</td>\n",
       "      <td></td>\n",
       "      <td>CHRY</td>\n",
       "      <td>...</td>\n",
       "      <td>1A4</td>\n",
       "      <td>11</td>\n",
       "      <td>002</td>\n",
       "      <td>4000A</td>\n",
       "      <td>50</td>\n",
       "      <td>6415432.1</td>\n",
       "      <td>1898663.3</td>\n",
       "      <td></td>\n",
       "      <td></td>\n",
       "      <td></td>\n",
       "    </tr>\n",
       "  </tbody>\n",
       "</table>\n",
       "<p>5 rows × 23 columns</p>\n",
       "</div>"
      ],
      "text/plain": [
       "                        _id Ticket number               Issue Date Issue time  \\\n",
       "0  5ecbea08a1360440c4dcd9fe    1109455266  2015-12-26T00:00:00.000       1815   \n",
       "1  5ecbea08a1360440c4dcda08    1109704934  2015-12-28T00:00:00.000        847   \n",
       "2  5ecbea08a1360440c4dcda28    1111884093  2015-12-12T00:00:00.000        938   \n",
       "3  5ecbea08a1360440c4dcda2c    1111884130  2015-12-19T00:00:00.000       1200   \n",
       "4  5ecbea08a1360440c4dcda30    1111927526  2015-12-21T00:00:00.000       1000   \n",
       "\n",
       "  Meter Id Marked Time RP State Plate Plate Expiry Date VIN  Make  ... Route  \\\n",
       "0                                  NY                        TOYO  ...         \n",
       "1                                  OR            200316      SUBA  ...         \n",
       "2                                  WA            201505      VOLK  ...   1A4   \n",
       "3                                  NJ            201212      SUBA  ...   1A4   \n",
       "4                                  CO            201403      CHRY  ...   1A4   \n",
       "\n",
       "  Agency Violation code Violation Description Fine amount   Latitude  \\\n",
       "0     36           8603       PK IN PROH AREA          68  6467477.1   \n",
       "1     54         8069BS  NO PARK/STREET CLEAN          73      99999   \n",
       "2     11         4000A1    NO EVIDENCE OF REG          50      99999   \n",
       "3     11         4000A1    NO EVIDENCE OF REG          50  6415432.1   \n",
       "4     11            002                 4000A          50  6415432.1   \n",
       "\n",
       "   Longitude Agency Description Color Description Body Style Description  \n",
       "0    1868721                                                              \n",
       "1      99999                                                              \n",
       "2      99999                                                              \n",
       "3  1898663.3                                                              \n",
       "4  1898663.3                                                              \n",
       "\n",
       "[5 rows x 23 columns]"
      ]
     },
     "execution_count": 26,
     "metadata": {},
     "output_type": "execute_result"
    }
   ],
   "source": [
    "df2.head()"
   ]
  },
  {
   "cell_type": "code",
   "execution_count": 27,
   "metadata": {},
   "outputs": [
    {
     "data": {
      "text/plain": [
       "Text(0.5, 1, 'Parking citations given in California by state (excluding California)')"
      ]
     },
     "execution_count": 27,
     "metadata": {},
     "output_type": "execute_result"
    },
    {
     "data": {
      "image/png": "[encoded data removed]",
      "text/plain": [
       "<Figure size 432x288 with 1 Axes>"
      ]
     },
     "metadata": {
      "needs_background": "light"
     },
     "output_type": "display_data"
    }
   ],
   "source": [
    "no_ca_chart = df2['RP State Plate'].value_counts()[:20].plot.bar()\n",
    "plt.tight_layout()\n",
    "no_ca_chart.set_xlabel(\"State\")\n",
    "no_ca_chart.set_ylabel(\"Number of Violations\")\n",
    "no_ca_chart.set_title(\"Parking citations given in California by state (excluding California)\")"
   ]
  },
  {
   "cell_type": "code",
   "execution_count": 28,
   "metadata": {},
   "outputs": [],
   "source": [
    "fig = no_ca_chart.get_figure()\n",
    "fig.savefig('no_ca.jpg')"
   ]
  },
  {
   "cell_type": "code",
   "execution_count": 62,
   "metadata": {},
   "outputs": [],
   "source": [
    "fine_sort = tickets.find({},{\"Ticket number\":1, \"Violation Description\":1, \"Fine amount\":1}).sort(\"Fine amount\", -1).limit(100)"
   ]
  },
  {
   "cell_type": "code",
   "execution_count": 63,
   "metadata": {},
   "outputs": [],
   "source": [
    "df3 = pd.io.json.json_normalize(fine_sort)"
   ]
  },
  {
   "cell_type": "code",
   "execution_count": 65,
   "metadata": {},
   "outputs": [
    {
     "data": {
      "text/html": [
       "<div>\n",
       "<style scoped>\n",
       "    .dataframe tbody tr th:only-of-type {\n",
       "        vertical-align: middle;\n",
       "    }\n",
       "\n",
       "    .dataframe tbody tr th {\n",
       "        vertical-align: top;\n",
       "    }\n",
       "\n",
       "    .dataframe thead th {\n",
       "        text-align: right;\n",
       "    }\n",
       "</style>\n",
       "<table border=\"1\" class=\"dataframe\">\n",
       "  <thead>\n",
       "    <tr style=\"text-align: right;\">\n",
       "      <th></th>\n",
       "      <th>_id</th>\n",
       "      <th>Ticket number</th>\n",
       "      <th>Violation Description</th>\n",
       "      <th>Fine amount</th>\n",
       "    </tr>\n",
       "  </thead>\n",
       "  <tbody>\n",
       "    <tr>\n",
       "      <td>0</td>\n",
       "      <td>5ecbeda3a1360440c4710b31</td>\n",
       "      <td>4357748430</td>\n",
       "      <td>PK OVERSIZ</td>\n",
       "      <td>98.0</td>\n",
       "    </tr>\n",
       "    <tr>\n",
       "      <td>1</td>\n",
       "      <td>5ecbeda5a1360440c47162c5</td>\n",
       "      <td>4357851842</td>\n",
       "      <td>PK OVERSIZ</td>\n",
       "      <td>98.0</td>\n",
       "    </tr>\n",
       "    <tr>\n",
       "      <td>2</td>\n",
       "      <td>5ecbeda6a1360440c4717e36</td>\n",
       "      <td>4359460033</td>\n",
       "      <td>PK OVERSIZ</td>\n",
       "      <td>98.0</td>\n",
       "    </tr>\n",
       "    <tr>\n",
       "      <td>3</td>\n",
       "      <td>5ecbeda6a1360440c471821f</td>\n",
       "      <td>4360048254</td>\n",
       "      <td>PK OVERSIZ</td>\n",
       "      <td>98.0</td>\n",
       "    </tr>\n",
       "    <tr>\n",
       "      <td>4</td>\n",
       "      <td>5ecbeda6a1360440c4718224</td>\n",
       "      <td>4360048265</td>\n",
       "      <td>PK OVERSIZ</td>\n",
       "      <td>98.0</td>\n",
       "    </tr>\n",
       "    <tr>\n",
       "      <td>5</td>\n",
       "      <td>5ecbeda9a1360440c472075b</td>\n",
       "      <td>4359446453</td>\n",
       "      <td>PK OVERSIZ</td>\n",
       "      <td>98.0</td>\n",
       "    </tr>\n",
       "    <tr>\n",
       "      <td>6</td>\n",
       "      <td>5ecbedaaa1360440c47212c2</td>\n",
       "      <td>4359346530</td>\n",
       "      <td>PK OVERSIZ</td>\n",
       "      <td>98.0</td>\n",
       "    </tr>\n",
       "    <tr>\n",
       "      <td>7</td>\n",
       "      <td>5ecbedb3a1360440c4736e12</td>\n",
       "      <td>4504035281</td>\n",
       "      <td>PK OVERSIZ</td>\n",
       "      <td>98.0</td>\n",
       "    </tr>\n",
       "    <tr>\n",
       "      <td>8</td>\n",
       "      <td>5ecbedb3a1360440c47371d2</td>\n",
       "      <td>4504283582</td>\n",
       "      <td>PK OVERSIZ</td>\n",
       "      <td>98.0</td>\n",
       "    </tr>\n",
       "    <tr>\n",
       "      <td>9</td>\n",
       "      <td>5ecbea0da1360440c4dd8723</td>\n",
       "      <td>4274078911</td>\n",
       "      <td>PK OVERSIZ</td>\n",
       "      <td>98</td>\n",
       "    </tr>\n",
       "  </tbody>\n",
       "</table>\n",
       "</div>"
      ],
      "text/plain": [
       "                        _id Ticket number Violation Description Fine amount\n",
       "0  5ecbeda3a1360440c4710b31    4357748430            PK OVERSIZ        98.0\n",
       "1  5ecbeda5a1360440c47162c5    4357851842            PK OVERSIZ        98.0\n",
       "2  5ecbeda6a1360440c4717e36    4359460033            PK OVERSIZ        98.0\n",
       "3  5ecbeda6a1360440c471821f    4360048254            PK OVERSIZ        98.0\n",
       "4  5ecbeda6a1360440c4718224    4360048265            PK OVERSIZ        98.0\n",
       "5  5ecbeda9a1360440c472075b    4359446453            PK OVERSIZ        98.0\n",
       "6  5ecbedaaa1360440c47212c2    4359346530            PK OVERSIZ        98.0\n",
       "7  5ecbedb3a1360440c4736e12    4504035281            PK OVERSIZ        98.0\n",
       "8  5ecbedb3a1360440c47371d2    4504283582            PK OVERSIZ        98.0\n",
       "9  5ecbea0da1360440c4dd8723    4274078911            PK OVERSIZ          98"
      ]
     },
     "execution_count": 65,
     "metadata": {},
     "output_type": "execute_result"
    }
   ],
   "source": [
    "df3.head(10)"
   ]
  },
  {
   "cell_type": "code",
   "execution_count": 66,
   "metadata": {},
   "outputs": [
    {
     "data": {
      "text/plain": [
       "pymongo.cursor.Cursor"
      ]
     },
     "execution_count": 66,
     "metadata": {},
     "output_type": "execute_result"
    }
   ],
   "source": [
    "type(fine_sort)"
   ]
  },
  {
   "cell_type": "code",
   "execution_count": null,
   "metadata": {},
   "outputs": [],
   "source": []
  }
 ],
 "metadata": {
  "kernelspec": {
   "display_name": "Python 3",
   "language": "python",
   "name": "python3"
  },
  "language_info": {
   "codemirror_mode": {
    "name": "ipython",
    "version": 3
   },
   "file_extension": ".py",
   "mimetype": "text/x-python",
   "name": "python",
   "nbconvert_exporter": "python",
   "pygments_lexer": "ipython3",
   "version": "3.7.6"
  }
 },
 "nbformat": 4,
 "nbformat_minor": 2
}
