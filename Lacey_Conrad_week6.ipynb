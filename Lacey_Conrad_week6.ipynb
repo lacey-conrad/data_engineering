{
 "cells": [
  {
   "cell_type": "code",
   "execution_count": 4,
   "metadata": {},
   "outputs": [],
   "source": [
    "import requests as req\n",
    "import pandas as pd\n",
    "\n",
    "from pymongo import MongoClient\n",
    "from tqdm import tqdm_notebook\n",
    "from pprint import pprint\n",
    "from bs4 import BeautifulSoup as bs"
   ]
  },
  {
   "cell_type": "code",
   "execution_count": 5,
   "metadata": {},
   "outputs": [],
   "source": [
    "res = req.get('https://www.longmontcolorado.gov/news/-npage-2')"
   ]
  },
  {
   "cell_type": "code",
   "execution_count": 6,
   "metadata": {},
   "outputs": [
    {
     "data": {
      "text/plain": [
       "b'\\r\\n<!DOCTYPE html>\\r\\n\\r\\n<html lang=\"en\">\\r\\n<head id=\"Head1\"><meta charset=\"UTF-8\" /><meta http-equiv=\"X-UA-Compatible\" content=\"IE=9; IE=8; IE=7; IE=EDGE\" /><title>\\r\\n\\t\\r\\n    Citywide News | City of Longmont, Colorado\\r\\n\\r\\n</title>\\r\\n    <meta name=\"viewport\" content=\"width=device-width\" />\\r\\n    \\r\\n    <link href=\"/DefaultContent/Default/StyleBundleDesignTheme.cssbnd?v=ioinOC033D9ASRJPXUIzdsDMlIoz6Jcys2ud3eut2IE1\" rel=\"stylesheet\"/>\\r\\n<link href=\"/Project/Contents/Main/StyleBundleDesignTheme.cssbnd?v=YPSNzqJiALyzwk_w29mdizcCHgwYvXsH3goKXXHYayM1\" rel=\"stylesheet\"/>\\r\\n<link href=\"/Areas/Admin/Content/StyleBundleFrontendExtra.cssbnd?v=TXLLavBbQdlTrg6sukdO1rojFtp3vRD061rBA3Rt7YM1\" rel=\"stylesheet\"/>\\r\\n<link href=\"/DefaultContent/Default/Print.cssbnd?v=47rmsGcOk4CIHfb2HDg7t9s31eiFEWHej5QI1ytFlII1\" rel=\"stylesheet\" media=\"print\" />\\r\\n<link href=\"/Project/Contents/Main/Print.cssbnd?v=bLUgX7y-_C2liahoRb_uFiH8DdQt2T71OlK3YdiQJ-g1\" rel=\"stylesheet\" media=\"print\" />\\r\\n<script src=\"/Scripts/ScriptBundleFAllInOne.jsbnd?v=_0E6bVtQd-O5YSZzK-1e0W7B2rzrQsdunuea-jisyIg1\"></script>\\r\\n\\r\\n<script>\\r\\n    function handleExternalURL() { };\\r\\n</script>\\r\\n<script>window.visionOptions = {virtualApplicationPath:\\'/\\',logOnPath:\\'Admin/LogOn\\',logOffPath:\\'Admin/LogOff\\',enableSessionTimeout:false,sessionTimeoutInMinutes:60,timeToAlertBeforeSessionTimeoutInMinutes:5,extendSessionTimeoutPath:\\'Admin/Account/ExtendSessionTimeout\\',mainFolderPath:\\'/Project/Contents/Main/\\',centerLocation:\\'Longmont, Co\\', siteID:1, navigationID:3, isHomePage:false, emergencyNoticeChanged:true, loggedIn:false, showTopTips:true, currentDesignFolderPath:\\'/Project/Contents/Main/\\', useDesignThemFontSizeCss:false , clientResponsiveTableEnabled:true, imageUrl:\\'/Home/ShowPublishedImage/\\', engagementAdminEndPoint:\\'/Admin/Engagement/\\', visionLiveAdminEndPoint:\\'/Admin/Components/\\', cmsAdminEndPoint:\\'/Admin/\\', enableSplashUrl:true, eSignatureView: \\'/Shared/SignatureView\\', socialMediaInfo :{ twitter : { maxLength : 280  } }, baseImageUrl:\\'/Home/ShowPublishedImage\\' };;window.visionApps={\"cms_core\":{\"DateFormat\":\"MM/dd/yyyy\",\"TimeFormat\":\"h:mm TT\",\"PhoneFormat\":\"(999) 999-9999\",\"OrganizationName\":\"City of Longmont, Colorado\",\"TimeAMFormat\":\"AM\",\"TimePMFormat\":\"PM\",\"GoogleReCaptchaPublicKey\":\"6Lf9IC4UAAAAAA8fm11pj1DLyxFA0CGjUvKrfjY0\"}};;window.visionApps.token=\"eyJhbGciOiJBMjU2S1ciLCJlbmMiOiJBMjU2Q0JDLUhTNTEyIiwiayI6IkJidE5ZYWE4S29kQVV2N0tqcU1GdkE9PSJ9.aa0WC9reCRRKijWqsYJifHmnoBl-UFt_MYhoBHDKGurftW7A22iIx5h9C_2h1qE-49-iuA-aIPz0BBHX7XBPnF7owr75nSLH.ZnNErI8DM3oTBcvtVh_GGg.NRRuQMCP7AdL2uUGCKdmuu23G55zmqzKZ9pDyDxSnyWBkgU2roLYpGH4qoILYjPv2A-nNB8erEi-l_xMTG_5jwNv2mhfhkySEf4J2MFebH5Pt1yTilAxYSlmoollU6HghcvdrLdplawH1CscaC_-7seGRsgZOVI9U61Ow5bXCyLLAIuDGeXXwz9cZgRwWObWgsLFTuWd9A_bVENH46hqxMFMa8XKnECWjQh3C6yyfmk.lHO2oM3q6nfxb3fyLDHjyHK2DBfk-o7bE6IClDfFkiY\";(function(window){window.cmsCoreConfig={}; (function(config){ (function(window){window.coreComponentFormConfig={\"apiEndPoint\":\"https://form.visioninternet.com/\"};})(window);; })(window.cmsCoreConfig); })(window);(function(window){window.visionLiveConfig={}; (function(config){ config.flexibleComponent={\"serverURL\":\"https://flex.visioninternet.com/\"};; })(window.visionLiveConfig); })(window);(function(window){window.engagementConfig={\"apiEndPoint\":\"https://visionpulse.visioninternet.com\",\"ssoLoginUrl\":\"/Sys/Sso/Login\"};})(window);</script>\\r\\n\\r\\n    <script type=\"text/javascript\">\\r\\n        // added the htmlEncode and htmlDecode method to fixed the js load order issue.\\r\\n        $.extend($, {\\r\\n            htmlEncode: function (html) {\\r\\n                var temp = document.createElement(\"div\");\\r\\n                (temp.textContent != undefined) ? (temp.textContent = html) : (temp.innerText = html);\\r\\n                var output = temp.innerHTML;\\r\\n                temp = null;\\r\\n                return output;\\r\\n            },\\r\\n            htmlDecode: function (text) {\\r\\n                var temp = document.createElement(\"div\");\\r\\n                temp.innerHTML = text;\\r\\n                var output = temp.innerText || temp.textContent;\\r\\n                temp = null;\\r\\n                return output;\\r\\n            }\\r\\n        });\\r\\n        $(function () {\\r\\n            //script for view full site button, placed here to keep firefox for mobile devices happy\\r\\n            var viewFullElement = document.getElementById(\"view-full\");\\r\\n            var isResponsive = \"yes\";\\r\\n            if (viewFullElement) {\\r\\n                if (isResponsive == \"yes\") {\\r\\n                    viewFullElement.className = \\'mobile_only fullsite\\';\\r\\n                }\\r\\n                else {\\r\\n                    viewFullElement.innerHTML = \\'View Mobile Optimized\\';\\r\\n                    viewFullElement.className = \\'\\';\\r\\n                }\\r\\n            }\\r\\n        });\\r\\n    </script>\\r\\n    \\r\\n\\r\\n    <!--[if lt IE 9]>\\r\\n        <script src=\"/Scripts/ScriptBundleOthers.jsbnd?v=3Q7FhTQfRrKx8h7Kvdbh9bBluzlNlXKsFAERd4g8_TY1\"></script>\\r\\n\\r\\n\\t<![endif]-->\\r\\n\\r\\n    \\r\\n    <link id=\"active_font\" rel=\"stylesheet\" type=\"text/css\" href=\"/Project/Contents/Main/x-small.css\">\\r\\n    \\r\\n    <link rel=\"Shortcut Icon\" href=\"/favicon.ico\" />\\r\\n\\r\\n    \\r\\n    \\r\\n\\r\\n<!-- Google Universal Analytics -->\\r\\n<script type=\"text/javascript\">\\r\\n    (function (i, s, o, g, r, a, m) {\\r\\n        i[\\'GoogleAnalyticsObject\\'] = r; i[r] = i[r] || function () {\\r\\n            (i[r].q = i[r].q || []).push(arguments)\\r\\n        }, i[r].l = 1 * new Date(); a = s.createElement(o),\\r\\n        m = s.getElementsByTagName(o)[0]; a.async = 1; a.src = g; m.parentNode.insertBefore(a, m)\\r\\n    })(window, document, \\'script\\', \\'https://www.google-analytics.com/analytics.js\\', \\'ga\\');\\r\\n\\r\\n    ga(\\'create\\', \\'UA-52537714-1\\', \\'auto\\');\\r\\n    ga(\\'require\\', \\'displayfeatures\\');\\r\\n    //TFS 21771, Enhanced Link Attribution, https://developers.google.com/analytics/devguides/collection/analyticsjs/enhanced-link-attribution\\r\\n    ga(\\'require\\', \\'linkid\\'); \\r\\n    ga(\\'set\\', \\'dimension1\\', \\'Citywide News, ID:3\\');\\r\\n    ga(\\'set\\', \\'dimension2\\', \\'2020\\');\\r\\n    ga(\\'send\\', \\'pageview\\');\\r\\n</script>\\r\\n<!-- End Google Universal Analytics -->\\r\\n\\r\\n      \\r\\n    \\r\\n    <meta name=\"description\" content=\"Provides list of all news listings for various departments and divisions, city-wide.\" />\\r\\n    <meta name=\"keywords\" content=\"news, updates, alerts\" />\\r\\n    \\r\\n\\r\\n<!-- Apple Touch Icons -->\\r\\n<link rel=\"apple-touch-icon\" sizes=\"57x57\" href=\"/Project/Contents/Main/_gfx/favicons/apple-touch-icon-57x57-precomposed.png\" />\\r\\n<link rel=\"apple-touch-icon\" sizes=\"72x72\" href=\"/Project/Contents/Main/_gfx/favicons/apple-touch-icon-72x72-precomposed.png\" />\\r\\n<link rel=\"apple-touch-icon\" sizes=\"114x114\" href=\"/Project/Contents/Main/_gfx/favicons/apple-touch-icon-114x114-precomposed.png\" />\\r\\n<link rel=\"apple-touch-icon\" sizes=\"144x144\" href=\"/Project/Contents/Main/_gfx/favicons/apple-touch-icon-144x144-precomposed.png\" />\\r\\n<link rel=\"apple-touch-icon\" sizes=\"60x60\" href=\"/Project/Contents/Main/_gfx/favicons/apple-touch-icon-60x60-precomposed.png\" />\\r\\n<link rel=\"apple-touch-icon\" sizes=\"120x120\" href=\"/Project/Contents/Main/_gfx/favicons/apple-touch-icon-120x120-precomposed.png\" />\\r\\n<link rel=\"apple-touch-icon\" sizes=\"76x76\" href=\"/Project/Contents/Main/_gfx/favicons/apple-touch-icon-76x76-precomposed.png\" />\\r\\n<link rel=\"apple-touch-icon\" sizes=\"152x152\" href=\"/Project/Contents/Main/_gfx/favicons/apple-touch-icon-152x152-precomposed.png\" />\\r\\n\\r\\n<!-- Android -->\\r\\n<link rel=\"icon\" type=\"image/png\" sizes=\"192x192\"  href=\"/Project/Contents/Main/_gfx/favicons/android-icon-192x192.png\">\\r\\n\\r\\n<!-- Windows 8 Tile Icons -->\\r\\n<meta name=\"msapplication-square70x70logo\" content=\"/Project/Contents/Main/_gfx/favicons/ms-icon-70x70.png\" />\\r\\n<meta name=\"msapplication-square150x150logo\" content=\"/Project/Contents/Main/_gfx/favicons/ms-icon-150x150.png\" />\\r\\n<meta name=\"msapplication-square310x310logo\" content=\"/Project/Contents/Main/_gfx/favicons/ms-icon-310x310.png\" />\\r\\n<script>\\r\\n    $(window).load(function () {\\r\\n        if ($(\\'#sitecolumn\\', \\'#configure_widgets\\').length) {\\r\\n            $(\\'#sitecolumn\\', \\'#configure_widgets\\').remove();\\r\\n        }\\r\\n    });\\r\\n</script>\\r\\n\\r\\n    <script>\\r\\n        $(function () {\\r\\n            $.frontendSessionManager({\\r\\n                virtualApplicationPath:\"/\",\\r\\n                backendUserLogin: false,\\r\\n                frontendUserLogin: false,\\r\\n                sessionTimeoutInMinutes:60,\\r\\n                timeToAlertBeforeSessionTimeoutInMinutes:5,\\r\\n                extendSessionTimeoutPath:\"Home/FrontEndExtendSessionTimeout\"\\r\\n            }).setTimerForSessionExpiration();\\r\\n        });\\r\\n    </script>\\r\\n    \\r\\n\\r\\n    <!-- Google Tag Manager -->\\r\\n<noscript><iframe src=\"//www.googletagmanager.com/ns.html?id=GTM-5252NJ\"\\r\\nheight=\"0\" width=\"0\" style=\"display:none;visibility:hidden\"></iframe></noscript>\\r\\n<script>(function(w,d,s,l,i){w[l]=w[l]||[];w[l].push({\\'gtm.start\\':\\r\\nnew Date().getTime(),event:\\'gtm.js\\'});var f=d.getElementsByTagName(s)[0], j=d.createElement(s),dl=l!=\\'dataLayer\\'?\\'&l=\\'+l:\\'\\';j.async=true;j.src=\\r\\n\\'//www.googletagmanager.com/gtm.js?id=\\'+i+dl;f.parentNode.insertBefore(j,f);\\r\\n})(window,document,\\'script\\',\\'dataLayer\\',\\'GTM-5252NJ\\');</script>\\r\\n<!-- End Google Tag Manager -->\\r\\n<!-- Start Cludo -->\\r\\n<link href=\"https://customer.cludo.com/css/templates/v1.1/essentials/cludo-search.min.css\" type=\"text/css\" rel=\"stylesheet\">\\r\\n<script type=\"text/javascript\" src=\"//customer.cludo.com/scripts/bundles/search-script.min.js\"></script>\\r\\n<!-- End Cludo -->\\r\\n<!-- Start UserWay -->\\r\\n<script type=\"text/javascript\">\\r\\n\\r\\nvar _userway_config = {\\r\\n\\r\\n/* uncomment the following line to override default position*/\\r\\n\\r\\n/* position: \\'2\\', */\\r\\n\\r\\n/* uncomment the following line to override default size (values: small, large)*/\\r\\n\\r\\n/* size: \\'small\\', */\\r\\n\\r\\n/* uncomment the following line to override default language (e.g., fr, de, es, he, nl, etc.)*/\\r\\n\\r\\n/* language: \\'en-US\\', */\\r\\n\\r\\n/* uncomment the following line to override color set via widget (e.g., #053f67)*/\\r\\n\\r\\n/* color: \\'#053f67\\', */\\r\\n\\r\\n/* uncomment the following line to override type set via widget(1=person, 2=chair, 3=eye)*/\\r\\n\\r\\n/* type: \\'2\\', */\\r\\n\\r\\n/* uncomment the following line to override support on mobile devices*/\\r\\n\\r\\n/* mobile: true, */\\r\\n\\r\\naccount: \\'2JovSLJhWk\\'\\r\\n\\r\\n};\\r\\n\\r\\n</script>\\r\\n\\r\\n<script type=\"text/javascript\" src=\"https://cdn.userway.org/widget.js\"></script></head>\\r\\n\\r\\n<body class=\"front_end_body site_standardsitetemplate \">    \\r\\n    <link href=\"/DefaultContent/Default/StyleBundleAngularLib.cssbnd?v=sED2Qjf38ysQJYZW_ZvZj-7IGXKm4NOJhdA51oOtG5A1\" rel=\"stylesheet\"/>\\r\\n\\r\\n\\r\\n\\r\\n<script>\\r\\n    window.frontendCommonConfig = {\\r\\n        loginPage: \\'https://www.longmontcolorado.gov/sys/sso/login\\',\\r\\n        popupLoginPage: \\'/sys/sso/popuplogin\\',\\r\\n        photoBaseUrlForPeople: \\'https://www.longmontcolorado.gov/sys/sso/ShowProfilePhoto?id=\\',\\r\\n        photoBaseUrl: \\'https://www.longmontcolorado.gov/Home/ShowPublishedImage/\\',\\r\\n        token: window.visionApps ? window.visionApps.token : \\'\\',\\r\\n        cmsUserLogged: false,\\r\\n        anonymousAvatar: \\'https://www.longmontcolorado.gov/DefaultContent/Default/_gfx/anonymous.png\\',\\r\\n        loginUser: {\\r\\n            name: \\'\\',\\r\\n            avatar: \\'\\',\\r\\n            userID: null,\\r\\n            firstName: \\'\\',\\r\\n            lastName: \\'\\',\\r\\n            imageID: null,\\r\\n            email: \\'\\',\\r\\n        }\\r\\n    };\\r\\n</script>\\r\\n\\r\\n\\r\\n<script>\\r\\n    //It\\'s before the AngularJSLib Loading, which might be update in the AngularJSLib bundle.\\r\\n    window.viPredefinedModules = [];\\r\\n</script>\\r\\n<script src=\"/Scripts/ScriptBundleAngularLib.jsbnd?v=c2kPXnVVZddEbtrCCG5jLodQ82oMGHvEOXWx1ZVwAEY1\"></script>\\r\\n\\r\\n\\r\\n<script>\\r\\n    (function (window, angular) {\\r\\n\\r\\n        $(\"body\").attr(\"ng-app\", \"vi.cms\");\\r\\n        \\r\\n        window.viCurrentModule = angular.module(\"vi.cms\", window.viPredefinedModules || []);\\r\\n    })(window, angular);\\r\\n</script>\\r\\n    \\r\\n    <script src=\"/Scripts/frontendCoreBundle.jsbnd?v=cv1BVDUSy9PyW-doXclHgvb1I5giBnDl7_LSWBvBb7Q1\"></script>\\r\\n\\r\\n\\r\\n    \\r\\n    <!--stopindex-->\\r\\n    <noscript>\\r\\n        <div class=\"noscript_alert\"><span>Please enable JavaScript in your browser for a better user experience.</span></div>\\r\\n    </noscript>\\r\\n    <!--startindex-->\\r\\n    <div class=\"vi-temp-message-container\" style=\"display:none;\"></div>\\r\\n        \\r\\n    \\r\\n    \\r\\n<!--stopindex-->\\r\\n<div class=\"alert_container\">\\r\\n    <a class=\"hide\" id=\"alert_controls\" data-action=\"/Home/SetTopTipCookie\">Show/Hide</a>\\r\\n    <div class=\"important_alert_wrapper \">\\r\\n        <div class=\"alert_right\">\\r\\n            <div class=\"important_alert\"><style>\\r\\n    p.ex {\\r\\n    text-shadow: 0 0 1px rgba(255,255,255);\\r\\n    -webkit-font-smoothing: antialiased;\\r\\n    font-weight: bold;\\r\\n    font-size: 23px!important;\\r\\n    padding: 0 0 9px 0;\\r\\n    line-height: 120%!important;\\r\\n    margin: 35px 0 10px 0;\\r\\n    overflow: hidden;\\r\\n    }\\r\\n</style>\\r\\n<div>\\r\\n<p style=\"text-align: center;\"><a href=\"/departments/departments-n-z/public-information/coronavirus-disease-2019-information\" target=\"_self\"><img src=\"https://www.longmontcolorado.gov/home/showimage?id=23332\" alt=\"CORONAVIRUS\" style=\"margin: 0px 5px; float: right; width: 300px;\"></a></p>\\r\\n</div>\\r\\n<div>\\r\\n<h2><a href=\"/departments/departments-n-z/public-information/coronavirus-disease-2019-information\" target=\"_blank\">Visit our Coronavirus page</a> to stay up-to-date on the latest  information and resources. ALL IN-PERSON CITY PROGRAMS AND EVENTS ARE CANCELLED UNTIL FURTHER NOTICE. <a href=\"/departments/departments-n-z/public-information/coronavirus-disease-2019-information/how-to-access-city-services-during-facility-closures-due-to-covid19\" target=\"_blank\">See current closure details</a>.</h2>\\r\\n</div>\\r\\n<!-- --- Comment out this information -- -->\\r\\n<!-- \\r\\n\\r\\n\\r\\n<style>\\r\\n    p.ex {\\r\\n    text-shadow: 0 0 1px rgba(255,255,255);\\r\\n    -webkit-font-smoothing: antialiased;\\r\\n    font-weight: bold;\\r\\n    font-size: 23px!important;\\r\\n    padding: 0 0 9px 0;\\r\\n    line-height: 120%!important;\\r\\n    margin: 35px 0 10px 0;\\r\\n    overflow: hidden;\\r\\n    }\\r\\n</style>\\r\\n<div>\\r\\n<p style=\"text-align: center;\"><a href=\"/departments/departments-n-z/public-information/coronavirus-disease-2019-information\" target=\"_self\"><img src=\"https://www.longmontcolorado.gov/home/showimage?id=23332\" alt=\"CORONAVIRUS\" style=\"margin: 0px 5px; float: right; width: 300px;\"></a></p>\\r\\n<p class=\"ex\">Important Notice: Please Comply with Statewide Stay at Home Order</p>\\r\\n</div>\\r\\n<div>\\r\\n<h2><a href=\"/departments/departments-n-z/public-information/coronavirus-disease-2019-information\" target=\"_self\">Visit our coronavirus page</a> to stay up-to-date on the latest  information and resources. </h2>\\r\\n</div>\\r\\n\\r\\n\\r\\n\\r\\n<h2>Important Notice: City Closes  Public Facilities </h2>\\r\\n<p>Following Boulder County Public Health and Governor Polis\\'s announcements on Monday, March 16, the City has made the decision to close all public facilities as a proactive and precautionary measure. The City will continue to monitor the situation. To stay up-to-date on the latest Longmont information, please visit our main <a href=\"/departments/departments-n-z/public-information/coronavirus-disease-2019-information\">Coronavirus Page</a> or our News Feed at <a href=\"/news\">https://www.longmontcolorado.gov/news</a>.</p>\\r\\n\\r\\n<h2>Important Notice: Utility Bill Pay Application Maintenance</h2>\\r\\n<p>A planned maintenance period is scheduled for the  <a target=\"_blank\" href=\"https://secure1.longmontcolorado.gov/utilitybilling/\">City of Longmont Utility Bill Pay application</a> website today, Wednesday, February 12 from 5:00 pm to approximately 8:00 pm. This online application will be unavailable entirely or may experience intermittent periods of downtime during this time. Please save your work and avoid using the system during this time frame. We apologize for any inconvenience.</p>\\r\\n\\r\\n\\r\\n<h2>Important Notice: There is a Scheduled System Maintenance for this website beginning at 10pm Thursday, January 16.</h2>\\r\\n<p>If you are visiting the City of Longmont website beginning at 10pm on Thursday, January 16 please be aware you may experience intermittent interruptions.</p>\\r\\n<p>Please save your work frequently and avoid using the system if you can during this time frame. We apologize for any inconvenience. We will remove this banner when the maintenance period has completed.</p>\\r\\n\\r\\n\\r\\n<h2>Important Notice: Latest Update to City Services and Schedules For This Week</h2>\\r\\n<p>The City has made schedule changes to some City services due to this snowstorm, <strong><a href=\"/Home/Components/News/News/9623/3\" target=\"_blank\">please read the full news story for details.</a></strong></p>\\r\\n<p> <a href=\"https://www.longmontcolorado.gov/Home/Components/News/News/9625/3\" target=\"_blank\">Actualizaci\\xc3\\xb3n de la tormenta de nieve en espa\\xc3\\xb1ol</a></p>\\r\\n\\r\\n<h2>Important Notice: Delayed Start for Several City Facilities Tuesday, November 26 Due to Weather</h2>\\r\\n<p>Due to deteriorating weather and road conditions, several facilities will open at 10am Tuesday. <strong><a href=\"/Home/Components/News/News/9619/3\" target=\"_blank\">Read the full news story for details.</a></strong></p>\\r\\n<h2>Important Notice: Website Maintenance Begins at 11pm tonight</h2>\\r\\n<p>If you are visiting the City of Longmont website or any one of our other many online applications this evening, Thursday, March 21 from 11pm through 12am, please be aware that our primary website, LongmontColorado.gov, will not be accessible&nbsp;or will have intermittent periods of downtime during this period for up to an hour due to a scheduled maintenance.</p>\\r\\n<p>Please avoid using the system during this time frame.  We apologize for any inconvenience.</p>\\r\\n\\r\\n<h2>Important Notice: Website Maintenance Begins at 11pm tonight</h2>\\r\\n<p>If you are visiting the City of Longmont website or any one of our other many online applications this evening, Thursday, February 28 from 11pm through 12am, please be aware that our primary website, LongmontColorado.gov, will not be accessible&nbsp;or will have intermittent periods of downtime during this period for up to an hour due to a scheduled maintenance.</p>\\r\\n<p>Please avoid using the system during this time frame.  We apologize for any inconvenience.</p>\\r\\n\\r\\n<h2>Important Update:&nbsp; Severe Weather Update</h2>\\r\\n<p> <a href=\"/news/city-emergency-alert\">When emergencies happen turn to this page as the central source</a> for City of Longmont news and information.&nbsp;</p>\\r\\n<p><a href=\"/Home/Components/News/News/9140/3\" target=\"_blank\">\\xc3\\x9altimas actualizaciones del clima con respecto a servicios municipales y&nbsp; cierres de facilidades</a>.</p>\\r\\n\\r\\n\\r\\n<h2>Important Notice: Utility Bill Pay Application Maintenance</h2>\\r\\n<p>A planned maintenance period is scheduled for the  <a target=\"_blank\" href=\"https://secure1.longmontcolorado.gov/utilitybilling/\">City of Longmont Utility Bill Pay application</a> website on Saturday January 19th, 2019 from 9am to 1pm. This online application will be unavailable entirely or may experience intermittent periods of downtime during this time. Please save your work and avoid using the system during this time frame. We apologize for any inconvenience.</p>\\r\\n\\r\\n<h2>Important Notice: Utility Bill Pay Application Maintenance</h2>\\r\\n<p>A planned maintenance period is scheduled for the <a target=\"_blank\" href=\"https://secure1.longmontcolorado.gov/utilitybilling/\">City of Longmont Utility Bill Pay application</a> on Saturday, October 13 beginning at 8am until approximately 12 pm.  The payment application will be unavailable entirely or have intermittent periods of downtime during this period.</p>\\r\\n<p>Please avoid using the system during this time frame.  For Utility Billing questions, please call 303-651-8664 Monday through Friday. We apologize for any inconvenience.</p>\\r\\n\\r\\n<h2>Important Notice: Website Maintenance Begins at 11pm</h2>\\r\\n<p>If you are visiting the City of Longmont website or any one of our other many online applications on Monday, October 22, beginning at 11pm, please be aware that our website will not be accessible until approximately 3am, October 23, due to a scheduled maintenance.</p>\\r\\n<p>Please avoid using the system during this time frame.  We apologize for any inconvenience.</p>\\r\\n\\r\\n<h2>The Search Engine  is Under Maintenance </h2>\\r\\n<p>Our search engine is being updated. When you search for a term or keyword, you may not get the result(s) you expect. Please be patient as our website is re-indexed. We apologize for this inconvenience. <a href=\"/Home/Components/StaffDirectory/StaffDirectory/2/707\" target=\"_blank\">If you need assistance, please email our website Support staff</a>.</p>\\r\\n\\r\\n<h2>Important Notice: Utility Bill Pay Application Maintenance</h2>\\r\\n<p>A planned maintenance period is scheduled for the <a target=\"_blank\" href=\"https://secure1.longmontcolorado.gov/utilitybilling/\">City of Longmont Utility Bill Pay application</a> on Saturday, June 16 beginning at 8am to approximately 9am.  The payment application will be unavailable entirely or have intermittent periods of downtime during this period.</p>\\r\\n<p>Please avoid using the system during this time frame.  For Utility Billing questions, please call 303-651-8664 Monday through Friday. We apologize for any inconvenience.</p>\\r\\n\\r\\n<h2>Important Notice: Website Maintenance Begins at 3am</h2>\\r\\n<p>If you are visiting the City of Longmont website or any one of our other many online applications on Wednesday, beginning at 3am, please be aware that several of our computer systems will not be accessible for up to an hour due to a scheduled maintenance.</p>\\r\\n<p>On Wednesday, January 31, beginning at 3am until approximately 5am several of our online systems will be unavailable entirely or have intermittent periods of downtime during this period.</p>\\r\\n<p>Please avoid using the system during this time frame.  We apologize for any inconvenience.</p>\\r\\n\\r\\n<h2>Important Notice: Utility Bill Pay Application Maintenance</h2>\\r\\n<p>A planned maintenance period is scheduled for the <a target=\"_blank\" href=\"https://secure1.longmontcolorado.gov/utilitybilling/\">City of Longmont Utility Bill Pay application</a> on January 13th, 2018 beginning at 10 am to approximately 12 pm.  The payment application will be unavailable entirely or have intermittent periods of downtime during this period.</p>\\r\\n<p>Please avoid using the system during this time frame.  For Utility Billing questions, please call 303-651-8664. We apologize for any inconvenience.</p>\\r\\n\\r\\n<h2>Important Notice: The Employee Opportunities Website is Not Available due to a Scheduled System Maintenance.</h2>\\r\\n<p>If you are visiting the City of Longmont website,  please be aware that you will not be able to access our Online Self Service Portal website to view our Open Job Position listings and apply for jobs until further notice. Any job positions that were due to close tomorrow, Friday, January 5, 2018 have had their deadlines extended into next week.</p>\\r\\n<p>We apologize for any inconvenience. We will remove this banner when the maintenance period has completed.</p>\\r\\n\\r\\n<h2>Important Notice: Some website content is not displaying currently.</h2>\\r\\n<p>We are aware and are actively working to resolve this issue. We apologize for any inconvenience. We will remove this banner when the issues have been resolved.</p>\\r\\n\\r\\n<h2>Important Notice: There is a Scheduled System Maintenance for this website for tonight.</h2>\\r\\n<p>If you are visiting the City of Longmont website tonight between 8 pm and 10pm Wednesday, December 13, please be aware you may experience intermittent interruptions.</p>\\r\\n<p>Please save your work and avoid using the system during this time frame. We apologize for any inconvenience. We will remove this banner when the maintenance period has completed.</p>\\r\\n\\r\\n<h2>RESOLVED: The Search Engine  is Working Again </h2>\\r\\n<p>Our search engine is working once again, however, it has not completed a full index of our website. When you search for a term or keyword, you may not get the result(s) you expect. Please be patient as our website is re-indexed. We apologize for this inconvenience. <a href=\"/Home/Components/StaffDirectory/StaffDirectory/2/707\" target=\"_blank\">If you need assistance, please email our website Support staff</a>.</p>\\r\\n\\r\\n<h2>Important Notice: Utility Bill Pay Application Maintenance</h2>\\r\\n<p>If you are logging into the <a target=\"_blank\" href=\"https://secure1.longmontcolorado.gov/utilitybilling/\">City of Longmont Utility Bill Pay application</a> this afternoon, November 15 between 3 pm and 5 pm approximately, please be aware the system may experience unexpected intermittent downtime while you are accessing the payment website.</p>\\r\\n<p>Please save your work and avoid using the system during this time frame.  For Utility Billing questions, please call 303-651-8664. We apologize for any inconvenience.</p>\\r\\n\\r\\n\\r\\n<h2>Important Notice: The City is Currently Experiencing Intermittent Telephone and Network Issues</h2>\\r\\n<p>We are actively working to address the issues with our phones and network. <a href=\"/online-services/contact-city-staff\">If you need to contact city staff, please visit the Contact Us page for other options.</a></p>\\r\\n\\r\\n\\r\\n<h2>Important Notice: Utility Bill Pay Application Maintenance</h2>\\r\\n<p>If you are logging into the <a target=\"_blank\" href=\"https://secure1.longmontcolorado.gov/utilitybilling/\">City of Longmont Utility Bill Pay application</a> this evening, Tuesday, July 11, 2017 between 6 pm and 7:30 pm approximately, please be aware the system may experience unexpected intermittent downtime while you are accessing the payment website. </p>\\r\\n<p>Please save your work and avoid using the system during this time frame. We apologize for any inconvenience. We will remove this banner when the maintenance period is over.</p>\\r\\n<h2>Important Notice: Scheduled Website Maintenance</h2>\\r\\n<p>If you are visiting the City of Longmont website tonight between 11:00 pm and 2:00 am Tuesday, please be aware that you may experience intermittent interruptions or it may be slower than normal due to a scheduled maintenance occurring during this time frame.</p>\\r\\n\\r\\n<h2>Important Notice: The City is Currently Experiencing Intermittent Telephone Issues</h2>\\r\\n<p>We are actively working to address the issues with our phones. <a href=\"/online-services/contact-city-staff\">If you need to contact city staff, please visit the Contact Us page for other options.</a></p>\\r\\n\\r\\n\\r\\n\\r\\n\\r\\n<h2>Important Notice: Online Web Application Maintenance</h2>\\r\\n<p>Our online web applications (like the Utility Bill Pay, Library Pay Fines, ServiceWorks, Accela, etc.) will be inaccessible due to a scheduled maintenance on Thursday, March 30, 2017 beginning at 4:00 pm until 6:00 pm.</p>\\r\\n<p>Please avoid using <a href=\"/online-services\">these online applications</a> during this specified maintenance window as unexpected outages may occur. We apologize for any inconvenience.</p>\\r\\n\\r\\n<h2>Important Notice: Grass Fire in Boulder County</h2>\\r\\n<p>Boulder County OEM is actively managing a grass fire in Boulder County at this time West of Longmont. Please visit <a href=\"/?splash=http%3a%2f%2fboulderoem.com&____isexternal=true\" target=\"_blank\">Boulder County OEM</a> and <a href=\"/?splash=http%3a%2f%2flongmontoem.org&____isexternal=true\" target=\"_blank\">Longmont OEM</a> for updates.</p>\\r\\n\\r\\n<h2>Important Notice: Test of the Outdoor Warning System</h2>\\r\\n<p>The Outdoor Warning System will sound today at 10 am. The City of Longmont tests the <a href=\"/departments/departments-n-z/public-safety-department/public-safety-services/outdoor-emergency-warning-system\">Outdoor Emergency Warning System (OEWS)</a> every Monday at 10am from April to August each year. This siren will last between 2-4 minutes. </p>\\r\\n\\r\\n<h2>Important Notice: The City is Currently Experiencing Intermittent Telephone Issues</h2>\\r\\n<p>We are actively working to address the issues with our phones. <a href=\"/online-services/contact-city-staff\">If you need to contact city staff, please visit the Contact Us page for other options.</a></p>\\r\\n\\r\\n<h2>Important Notice: Test of the Outdoor Warning System</h2>\\r\\n<p>The Outdoor Warning System will sound today at 10 am. In April the City of Longmont will be testing the <a href=\"/departments/departments-n-z/public-safety-department/public-safety-services/outdoor-emergency-warning-system\">Outdoor Emergency Warning System (OEWS)</a> every Monday at 10am for the rest of the month (April 18, 25). This siren will last between 2-4 minutes. Should the weather be inclement (rainy, stormy, etc.) on one of those dates, the test will not be held.</p>\\r\\n\\r\\n\\r\\n<h2>Important Update:&nbsp; Severe Weather Update</h2>\\r\\n<p>Weather Related Information:  To see the latest updates on road conditions, power outages, trash collection, and other City services <a href=\"/news/city-emergency-alert\">visit the Weather Update page</a>.    </p>\\r\\n<p>&nbsp;</p>\\r\\n\\r\\n\\r\\n<h2>Important Notice: Online Services including Utility Bill Pay Application Maintenance</h2>\\r\\n<p>Online Services including Utility Bill Pay may be inaccessible due to a scheduled maintenance on on Saturday January 19th, 2019 from 9am to 1pmm.</p>\\r\\n<p>In addition the <a target=\"_blank\" href=\"https://secure1.longmontcolorado.gov/utilitybilling/\">City of Longmont Utility Bill Pay application</a>  will remain inaccessible for a few more hours due to a scheduled maintenance on Monday, March 13, 2017 between 5:00 pm to 7:00 pm.</p>\\r\\n<p>Please save your work and avoid using the online service applications during this specified maintenance window as unexpected outages may occur while accessing them. We apologize for any inconvenience.</p>\\r\\n\\r\\n<h2>Important Notice: There will be a System Maintenance for both the City of Longmont Self Service and the Employment Opportunities Portals beginning Friday, January 10 at Noon MST.</h2>\\r\\n<p>Beginning at 12pm MST, these two sites will be unavailable as we upgrade the system to a new version. These applications will be available again beginning on Monday, January 13 at 8:00 AM MST. We are sorry for any inconvenience. <a href=\"https://mss.longmontcolorado.gov/MSS/default.aspx\" target=\"_blank\">City of Longmont Self Service Portal</a> | <a href=\"https://mss.longmontcolorado.gov/MSS/employmentopportunities/default.aspx\" target=\"_blank\">Employment Opportunities</a></p>\\r\\n-->\\r\\n<p>&nbsp;</p></div>\\r\\n        </div>\\r\\n    </div>\\r\\n</div>\\r\\n<!--startindex-->\\r\\n\\r\\n\\r\\n<div class=\"sitewrapper  site_template mainSpan_wrapper\">\\r\\n    \\r\\n<div id=\"sitecolumn\" class=\"site_template_column  site_collage   \" >\\r\\n\\r\\n                <!--stopindex-->\\r\\n                \\r\\n\\r\\n\\t<img src=\"/Home/ShowPublishedImage/23129/637187548036630000\" alt=\"Rogers-Grove_interior1-new\" />\\r\\n\\r\\n                <!--startindex-->\\r\\n            \\r\\n<div id=\\'widget_27_0_3\\' class=\\'content_area normal_content_area clearfix  \\'><br></div>\\r\\n            \\r\\n<div id=\\'widget_29_0_3\\' class=\\'content_area normal_content_area clearfix  \\'><br></div>\\r\\n            \\r\\n\\r\\n</div>\\r\\n\\r\\n    <div class=\"mainSpan\" id=\"mainSpan_wrapper_Screen\">\\r\\n        <!--stopindex-->\\r\\n        <div id=\"skipnav\" tabindex=\"-1\">\\r\\n            <a href=\"#sitebody\" tabindex=\"-1\">\\r\\n                <img alt=\"Skip to page body\" src=\"/DefaultContent/Default/_gfx/spacer.gif\" /></a>\\r\\n            \\r\\n            <a title=\"Home\" href=\"/home\" tabindex=\"-1\">\\r\\n                <img alt=\"Home\" src=\"/DefaultContent/Default/_gfx/spacer.gif\" /></a>\\r\\n            \\r\\n            <a title=\"News\" href=\"/news\" tabindex=\"-1\">\\r\\n                <img alt=\"News\" src=\"/DefaultContent/Default/_gfx/spacer.gif\" /></a>\\r\\n            \\r\\n            <a title=\"Community\" href=\"/community\" tabindex=\"-1\">\\r\\n                <img alt=\"Community\" src=\"/DefaultContent/Default/_gfx/spacer.gif\" /></a>\\r\\n            \\r\\n            <a title=\"Business Resources\" href=\"/business-resources\" tabindex=\"-1\">\\r\\n                <img alt=\"Business Resources\" src=\"/DefaultContent/Default/_gfx/spacer.gif\" /></a>\\r\\n            \\r\\n            <a title=\"Online Services\" href=\"/online-services\" tabindex=\"-1\">\\r\\n                <img alt=\"Online Services\" src=\"/DefaultContent/Default/_gfx/spacer.gif\" /></a>\\r\\n            \\r\\n            <a title=\"Departments\" href=\"/departments\" tabindex=\"-1\">\\r\\n                <img alt=\"Departments\" src=\"/DefaultContent/Default/_gfx/spacer.gif\" /></a>\\r\\n            \\r\\n            <a title=\"I want to...\" href=\"/i-want-to-\" tabindex=\"-1\">\\r\\n                <img alt=\"I want to...\" src=\"/DefaultContent/Default/_gfx/spacer.gif\" /></a>\\r\\n            \\r\\n        </div>\\r\\n        <!--startindex-->\\r\\n\\r\\n        <header id=\"siteheader\" class=\"\">\\r\\n            <!--stopindex-->\\r\\n\\t\\t\\t<h1 class=\"wcag_only\">City of Longmont, Colorado</h1>\\r\\n            <a id=\"home_link\" href=\"/home\">Home</a>\\r\\n            <a href=\"/home\" class=\"desktop_only\" id=\"home_link2\">Home</a>\\r\\n            <a id=\"sitemap_link\" href=\"/online-services/sitemap\" class=\"mobile_only\">Sitemap</a>\\r\\n            <a id=\"contact_link\" href=\"/online-services/contact-city-staff\" class=\"mobile_only\">Contact</a>\\r\\n            <!--startindex-->\\r\\n            \\r\\n<div id=\"headercolumn\" class=\"site_template_column  header_column   \" >\\r\\n\\r\\n                <!--stopindex-->\\r\\n                  \\r\\n\\r\\n<div id=\"top_nav\">\\r\\n    \\t\\t<a href=\"https://mss.longmontcolorado.gov/ess/employmentopportunities/default.aspx\" target=\"_blank\">Jobs</a>\\r\\n    \\t\\t<a href=\"/news/calendar\" target=\"_self\">Calendar</a>\\r\\n    \\t\\t<a href=\"/online-services/service-request\" target=\"_self\">Request for Service</a>\\r\\n    \\t\\t<a href=\"/online-services/e-notification-subscription\" target=\"_self\">eNotification</a>\\r\\n    \\t\\t<a href=\"/online-services/frequently-asked-questions\" target=\"_self\">FAQs</a>\\r\\n    \\t\\t<a href=\"/online-services/contact-city-staff\" target=\"_self\">Contact Us</a>\\r\\n\\t<a id=\"translate\" href=\"//translate.google.com/translate?js=y&prev=_t&hl=en&ie=UTF-8&layout=1&eotf=1&sl=en&tl=es&u=https%3a%2f%2fwww.longmontcolorado.gov%2fnews%2f-npage-2\">Translate</a>\\r\\n</div>\\r\\n                <!--startindex-->\\r\\n            \\r\\n\\r\\n                <!--stopindex-->\\r\\n                \\r\\n<div id=\"searchbox\" class=\"clearfix\">\\r\\n\\t<form id=\"search-box-form\" name=\"gs\" method=\"GET\" action _lpchecked=\"1\">\\r\\n\\t\\t<label style=\"display: none;\" for=\"search_text\">Search</label>\\r\\n\\t\\t<input type=\"text\" title=\"Search...\"  name=\"q\" value=\"\" id=\"search_text\" placeholder=\"Search...\" class=\"valid\"/>\\t\\t\\r\\n\\t\\t<input type=\"hidden\" name=\"entqr\" value=\"0\">\\r\\n\\t\\t<input type=\"hidden\" name=\"amp;proxystylesheet\" value=\"default_frontend\">\\r\\n\\t\\t<input type=\"hidden\" name=\"entsp\" value=\"0\">\\r\\n\\t\\t<input type=\"hidden\" name=\"sort\" value=\"date:D:L:d1\">\\r\\n\\t\\t<input type=\"hidden\" name=\"output\" value=\"xml_no_dtd\">\\r\\n\\t\\t<input type=\"hidden\" name=\"lr\" value=\"lang_en|lang_es\">\\r\\n\\t\\t<input type=\"hidden\" name=\"client\" value=\"default_frontend\">\\r\\n\\t\\t<input type=\"hidden\" name=\"gt;\" value=\"\">\\r\\n\\t\\t<input type=\"hidden\" name=\"amp;proxycustom\" value=\"\">\\r\\n\\t\\t<input type=\"hidden\" name=\"amp;client\" value=\"default_frontend\">\\r\\n\\t\\t<input type=\"hidden\" name=\"ud\" value=\"1\">\\r\\n\\t\\t<input type=\"hidden\" name=\"lt;HOME/\" value=\"\">\\r\\n\\t\\t<input type=\"hidden\" name=\"amp;output\" value=\"xml_no_dtd\">\\r\\n\\t\\t<input type=\"hidden\" name=\"oe\" value=\"UTF-8\"><input type=\"hidden\" name=\"ie\" value=\"UTF-8\">\\r\\n\\t\\t<input type=\"hidden\" name=\"proxystylesheet\" value=\"default_frontend\">\\r\\n\\t\\t<input type=\"hidden\" name=\"site\" value=\"internet_collection\">\\r\\n\\t\\t<input type=\"submit\" name=\"btnG\" value=\"Search\">\\r\\n\\t</form>\\r\\n</div>\\r\\n<script>\\r\\n    $(document).on(\\'submit\\',\\'form#search-box-form\\',function(){\\r\\n       $(this).attr(\"action\", \"https://gsa.longmontcolorado.gov/search\");\\r\\n    });\\r\\n</script>\\r\\n                <!--startindex-->\\r\\n            \\r\\n\\r\\n</div>\\r\\n\\r\\n        </header>\\r\\n\\r\\n        \\r\\n<div class=\"standardlayout clearfix\" id=\"sitebody\">\\r\\n    \\r\\n<div id=\"ColumnUserControl1\" class=\"column   top_col clearfix  \"  >\\r\\n    <!--!!WidgetStart, vi-orderdata=\"0\"  vi-hideonmobile=\"false\" vi-widgetinstancedata=\"37\"WidgetStart!!-->    \\r\\n\\r\\n                <!--stopindex-->\\r\\n                <div class=\" main_menu_widget\"><link href=\"/DefaultContent/Default/StyleBundleMegaMenuDropDown.cssbnd?v=CD_eN-fYJU8KKPigt6x-Ey-z8_WTsoZ7bqx2pLTZtXU1\" rel=\"stylesheet\"/>\\r\\n<link href=\"/Project/Contents/Main/StyleBundleMegaMenuDropDown.cssbnd?v=QsFhkQHC3AqMKXocf1GeNqO4JYdh2LvWPHnnHXcd5iQ1\" rel=\"stylesheet\"/>\\r\\n<nav class=\"advancedmegamenu mainnav\" id=\"menuContainer_37_0_13\"><ul class=\"dropdownmenu clearfix\"><li class=\"megamenu_first\" id=\"dropdownrootitem1\"><a class=\"dropdownrootitem1\" href=\"/home\" title=\"Home\" data-navid=\"1\" target=\"_self\">Home</a></li><li class=\"megamenu_first\" id=\"dropdownrootitem2\"><a class=\"dropdownrootitem2\" href=\"/news\" title=\"Citywide News\" data-navid=\"3\" target=\"_self\">News</a><div class=\"megamenu_container widthcontainer4col \"><div class=\"inner_container\"><ul class=\"megamenu_column\"><li class=\"megamenu_level1\"><a class=\"megamenu_level1\" href=\"/news/calendar\" title=\"Citywide Calendar\" data-navid=\"629\" target=\"_self\">Calendar</a></li><li class=\"megamenu_level1\"><a class=\"megamenu_level1\" href=\"/news/city-emergency-alert\" title=\"City Emergency Alert\" data-navid=\"3207\" target=\"_self\">City Emergency Alert</a></li><li class=\"megamenu_level1\"><a class=\"megamenu_level1\" href=\"/news/city-line-newsletter\" title=\"City Line Newsletter\" data-navid=\"124\" target=\"_self\">City Line Newsletter</a></li><li class=\"megamenu_level1\"><a class=\"megamenu_level1\" href=\"/news/citywide-news\" title=\"Citywide News\" data-navid=\"1768\" target=\"_self\">Citywide News</a></li><li class=\"megamenu_level1\"><a class=\"megamenu_level1\" href=\"/news/e-notification-subscription\" title=\"Sign Up for eNotifications\" data-navid=\"659\" target=\"_self\">eNotification Subscription</a></li><li class=\"megamenu_level1\"><a class=\"megamenu_level1\" href=\"/news/news-releases\" title=\"News Releases\" data-navid=\"661\" target=\"_self\">News Releases</a></li></ul><ul class=\"megamenu_column\"><li class=\"megamenu_level1\"><a class=\"megamenu_level1\" href=\"/news/public\" title=\"Public Information\" data-navid=\"6142\" target=\"_self\">Public Information</a></li><li class=\"megamenu_level1\"><a class=\"megamenu_level1\" href=\"/news/social-media\" title=\"Social Media\" data-navid=\"157\" target=\"_self\">Social Media</a><ul class=\"megamenu_level1\"><li class=\"megamenu_level2\"><a class=\"megamenu_level2\" href=\"/news/social-media/facebook-twitter-feed-city-of-longmont\" title=\"City Facebook/Twitter Feed\" data-navid=\"3204\" target=\"_self\">City Facebook/Twitter Feed</a></li><li class=\"megamenu_level2\"><a class=\"megamenu_level2\" href=\"/news/social-media/facebook-city-of-longmont\" title=\"Public Safety Facebook/Twitter Feed\" data-navid=\"3201\" target=\"_self\">Public Safety Facebook/Twitter Feed</a></li></ul></li><li class=\"megamenu_level1\"><a class=\"megamenu_level1\" href=\"/news/video-listings\" title=\"Video Listings\" data-navid=\"158\" target=\"_self\">Video Listings</a></li></ul>\\r\\n<ul class=\"megamenu_column megamenu_column_content\"><li class=\"megamenu_level1\"><div id=\\'widget_8\\' class=\\'content_area normal_content_area clearfix  \\'><img src=\"/Home/ShowPublishedImage/23025/637172762678900000\" alt=\"Census 2020\" style=\"margin:15px;\"><br>\\r\\n<p>The United States Census counts every resident in the United States every 10 years. April 1, 2020 is Census Day! Participating in the Census is very important for Longmont. <a href=\"/community/census-information\">Please help us make sure&nbsp;<strong>Everyone Counts in Longmont</strong><strong>&nbsp;</strong>by completing the Census</a>!</p></div>\\r\\n</li></ul>\\r\\n<ul class=\"megamenu_column megamenu_column_content\"><li class=\"megamenu_level1\"><h2>News</h2>\\r\\n<p><img style=\"\" alt=\"council_meeting-thb\" src=\"/Home/ShowPublishedImage/4416/636771945738170000\"></p>\\r\\n<p>Longmont City Council meetings can be seen every Tuesday at 7 pm at <a target=\"_blank\" href=\"/?splash=http%3a%2f%2fwww.LongmontChannel.com&____isexternal=true\">LongmontChannel.com</a>. </p>\\r\\n<p>Additional video can be seen on <a target=\"_blank\" href=\"/?splash=http%3a%2f%2fwww.youtube.com%2fplaylist%3flist%3dPL8A0A5EA9A2D2CD5C&____isexternal=true\">Longmont\\xe2\\x80\\x99s YouTube channel</a>.</p>\\r\\n<p>&nbsp;</p>\\r\\n</li></ul>\\r\\n</div></div></li><li class=\"megamenu_first\" id=\"dropdownrootitem3\"><a class=\"dropdownrootitem3\" href=\"/community\" title=\"Community\" data-navid=\"4\" target=\"_self\">Community</a><div class=\"megamenu_container widthcontainer4col \"><div class=\"inner_container\"><ul class=\"megamenu_column\"><li class=\"megamenu_level1\"><a class=\"megamenu_level1\" href=\"/community/about-longmont\" title=\"About Longmont\" data-navid=\"6135\" target=\"_self\">About Longmont</a><ul class=\"megamenu_level1\"><li class=\"megamenu_level2\"><a class=\"megamenu_level2\" href=\"/community/about-longmont/accessibility-and-quality-assurance\" title=\"Accessibility and Quality Assurance\" data-navid=\"5869\" target=\"_self\">Accessibility and Quality Assurance</a></li><li class=\"megamenu_level2\"><a class=\"megamenu_level2\" href=\"/community/about-longmont/annual-report-to-the-community\" title=\"Annual Report to the Community\" data-navid=\"4782\" target=\"_self\">Annual Report to the Community</a></li><li class=\"megamenu_level2\"><a class=\"megamenu_level2\" href=\"/community/about-longmont/a-z-phone-directory\" title=\"A-Z Phone Directory\" data-navid=\"120\" target=\"_self\">A-Z Phone Directory</a></li><li class=\"megamenu_level2\"><a class=\"megamenu_level2\" href=\"/community/about-longmont/city-line-newsletter\" title=\"City Line Newsletter\" data-navid=\"612\" target=\"_self\">City Line Newsletter</a></li><li class=\"megamenu_level2\"><a class=\"megamenu_level2\" href=\"/community/about-longmont/departments\" title=\"Government, Departments, Services\" data-navid=\"662\" target=\"_self\">Departments</a></li><li class=\"megamenu_level2\"><a class=\"megamenu_level2\" href=\"/community/about-longmont/frequently-asked-questions\" title=\"Frequently Asked Questions\" data-navid=\"121\" target=\"_self\">Frequently Asked Questions</a></li><li class=\"megamenu_level2\"><a class=\"megamenu_level2\" href=\"/community/about-longmont/longmont-s-history\" title=\"Historic Longmont\" data-navid=\"123\" target=\"_self\">Longmont&#39;s History</a></li><li class=\"megamenu_level2\"><a class=\"megamenu_level2\" href=\"/community/about-longmont/terms-of-use-and-privacy-policy\" title=\"Terms of Use and Privacy Policy\" data-navid=\"699\" target=\"_self\">Terms of Use and Privacy Policy</a></li></ul></li><li class=\"megamenu_level1\"><a class=\"megamenu_level1\" href=\"/community/census-information\" title=\"Longmont Census 2020 Information\" data-navid=\"6116\" target=\"_self\">Census 2020 Information</a></li><li class=\"megamenu_level1\"><a class=\"megamenu_level1\" href=\"/community/community-data-summary\" title=\"Community Data Summary\" data-navid=\"159\" target=\"_self\">Community Data Summary</a></li><li class=\"megamenu_level1\"><a class=\"megamenu_level1\" href=\"/community/customer-satisfaction-surveys\" title=\"Customer Satisfaction Surveys\" data-navid=\"1547\" target=\"_self\">Customer Satisfaction Surveys</a></li></ul><ul class=\"megamenu_column\"><li class=\"megamenu_level1\"><a class=\"megamenu_level1\" href=\"/community/community-engagement\" title=\"Engage Longmont: your ticket to community involvement\" data-navid=\"3370\" target=\"_self\">Engage Longmont</a></li><li class=\"megamenu_level1\"><a class=\"megamenu_level1\" href=\"/community/financial-assistance-and-rebate-programs\" title=\"Longmont CAReS\" data-navid=\"5941\" target=\"_self\">Financial Assistance and Rebate Programs</a></li><li class=\"megamenu_level1\"><a class=\"megamenu_level1\" href=\"/community/fun-things-to-do-in-longmont\" title=\"Fun Things To Do In Longmont\" data-navid=\"1671\" target=\"_self\">Fun Things To Do In Longmont</a><ul class=\"megamenu_level1\"><li class=\"megamenu_level2\"><a class=\"megamenu_level2\" href=\"/community/fun-things-to-do-in-longmont/the-callahan-house\" title=\"The Callahan House\" data-navid=\"1710\" target=\"_self\">Callahan House</a></li><li class=\"megamenu_level2\"><a class=\"megamenu_level2\" href=\"/community/fun-things-to-do-in-longmont/museum\" title=\"Museum\" data-navid=\"6130\" target=\"_self\">Museum</a></li><li class=\"megamenu_level2\"><a class=\"megamenu_level2\" href=\"/community/fun-things-to-do-in-longmont/park-or-lake-area\" title=\"Park or Lake Area\" data-navid=\"1660\" target=\"_self\">Park or Lake Area</a></li><li class=\"megamenu_level2\"><a class=\"megamenu_level2\" href=\"/community/fun-things-to-do-in-longmont/recreation-services-special-events\" title=\"Recreation Services Special  Events\" data-navid=\"1579\" target=\"_self\">Recreation Services Special  Events</a></li><li class=\"megamenu_level2\"><a class=\"megamenu_level2\" href=\"/community/fun-things-to-do-in-longmont/sandstone-ranch-park\" title=\"Sandstone Ranch Park\" data-navid=\"1711\" target=\"_self\">Sandstone Ranch Park</a></li><li class=\"megamenu_level2\"><a class=\"megamenu_level2\" href=\"/community/fun-things-to-do-in-longmont/union-reservoir-park\" title=\"Union Reservoir Park\" data-navid=\"1712\" target=\"_self\">Union Reservoir Park</a></li></ul></li><li class=\"megamenu_level1\"><a class=\"megamenu_level1\" href=\"/community/new-resident-information\" title=\"New Resident Information\" data-navid=\"160\" target=\"_self\">New Resident Information</a></li><li class=\"megamenu_level1\"><a class=\"megamenu_level1\" href=\"/community/outside-agency-resources\" title=\"Outside Agency Resources\" data-navid=\"1419\" target=\"_self\">Outside Agency Resources</a></li></ul><ul class=\"megamenu_column\"><li class=\"megamenu_level1\"><a class=\"megamenu_level1\" href=\"/community/sustainability\" title=\"Sustainability\" data-navid=\"3211\" target=\"_self\">Sustainability</a><ul class=\"megamenu_level1\"><li class=\"megamenu_level2\"><a class=\"megamenu_level2\" href=\"/community/sustainability/areas-of-focus\" title=\"Areas of Focus\" data-navid=\"5818\" target=\"_self\">Areas of Focus</a></li><li class=\"megamenu_level2\"><a class=\"megamenu_level2\" href=\"/community/sustainability/climate-action-resiliency\" title=\"Climate Action &amp; Resiliency\" data-navid=\"5830\" target=\"_self\">Climate Action &amp; Resiliency</a></li><li class=\"megamenu_level2\"><a class=\"megamenu_level2\" href=\"/community/sustainability/contact-sustainability\" title=\"Contact Sustainability\" data-navid=\"5814\" target=\"_self\">Contact Sustainability</a></li><li class=\"megamenu_level2\"><a class=\"megamenu_level2\" href=\"/community/sustainability/events\" title=\"Events - Sustainability\" data-navid=\"5831\" target=\"_self\">Events - Sustainability</a></li><li class=\"megamenu_level2\"><a class=\"megamenu_level2\" href=\"/community/sustainability/news-and-updates\" title=\"News and Updates\" data-navid=\"5832\" target=\"_self\">News and Updates</a></li><li class=\"megamenu_level2\"><a class=\"megamenu_level2\" href=\"/community/sustainability/board-of-environmental-affairs\" title=\"Sustainability Advisory Board\" data-navid=\"5816\" target=\"_self\">Sustainability Advisory Board</a></li><li class=\"megamenu_level2\"><a class=\"megamenu_level2\" href=\"/community/sustainability/sustainable-business\" title=\"Sustainable Business Program (SBP)\" data-navid=\"4789\" target=\"_self\">Sustainable Business</a></li><li class=\"megamenu_level2\"><a class=\"megamenu_level2\" href=\"/community/sustainability/sustainable-business/sustainability-coalition\" title=\"Sustainability Coalition\" data-navid=\"5817\" target=\"_self\">Sustainability Coalition</a></li><li class=\"megamenu_level2\"><a class=\"megamenu_level2\" href=\"/community/sustainability/sustainable-library\" title=\"Sustainability Library\" data-navid=\"5833\" target=\"_self\">Sustainability Library</a></li><li class=\"megamenu_level2\"><a class=\"megamenu_level2\" href=\"/community/sustainability/sustainability-metrics-rating-systems\" title=\"Sustainability Metrics &amp; Rating Systems\" data-navid=\"5815\" target=\"_self\">Sustainability Metrics &amp; Rating Systems</a></li></ul></li><li class=\"megamenu_level1\"><a class=\"megamenu_level1\" href=\"/community/visitor-information\" title=\"Visitor Information\" data-navid=\"1672\" target=\"_self\">Visitor Information</a></li></ul>\\r\\n<ul class=\"megamenu_column megamenu_column_content\"><li class=\"megamenu_level1\"><h2>Community</h2>\\r\\n<p>\\r\\n<a href=\"https://engage.longmontcolorado.gov\" target=\"_blank\"><img src=\"/Home/ShowPublishedImage/21378/636922117779630000\" alt=\"engage-longmont\" style=\"margin:15px;\"></a></p>\\r\\n<p>Engage Longmont is our new online engagement platform! The City of Longmont encourages and welcomes its residents to be involved in all aspects of city government. Getting involved begins with a click. <a href=\"https://engage.longmontcolorado.gov\" target=\"_blank\">Visit Engage Longmont and click on what interests you</a>, and get started today.</p>\\r\\n</li></ul>\\r\\n</div></div></li><li class=\"megamenu_first\" id=\"dropdownrootitem4\"><a class=\"dropdownrootitem4\" href=\"/business-resources\" title=\"Business Resources\" data-navid=\"5\" target=\"_self\">Business Resources</a><div class=\"megamenu_container widthcontainer3col \"><div class=\"inner_container\"><ul class=\"megamenu_column\"><li class=\"megamenu_level1\"><a class=\"megamenu_level1\" href=\"/business-resources/apply-for\" title=\"Apply For\" data-navid=\"1465\" target=\"_self\">Apply For</a><ul class=\"megamenu_level1\"><li class=\"megamenu_level2\"><a class=\"megamenu_level2\" href=\"/business-resources/apply-for/business-license\" title=\"Business License\" data-navid=\"1464\" target=\"_self\">Business License</a></li><li class=\"megamenu_level2\"><a class=\"megamenu_level2\" href=\"/business-resources/apply-for/liquor-license\" title=\"Liquor License\" data-navid=\"1466\" target=\"_self\">Liquor License</a></li><li class=\"megamenu_level2\"><a class=\"megamenu_level2\" href=\"/business-resources/apply-for/sales-and-use-tax-license\" title=\"Sales and Use Tax License\" data-navid=\"1467\" target=\"_self\">Sales and Use Tax License</a></li><li class=\"megamenu_level2\"><a class=\"megamenu_level2\" href=\"/business-resources/apply-for/sales-and-use-tax-license/sustainable-business\" title=\"Sustainable Business\" data-navid=\"6128\" target=\"_self\">Sustainable Business</a></li></ul></li></ul><ul class=\"megamenu_column\"><li class=\"megamenu_level1\"><a class=\"megamenu_level1\" href=\"/business-resources/longmont-area-economic-council\" title=\"Longmont Economic Development Partnership\" data-navid=\"1472\" target=\"_blank\">Longmont Economic Development Partnership</a></li><li class=\"megamenu_level1\"><a class=\"megamenu_level1\" href=\"/business-resources/longmont-area-chamber-of-commerce\" title=\"Longmont Area Chamber of Commerce\" data-navid=\"1471\" target=\"_blank\">Longmont Area Chamber of Commerce</a></li><li class=\"megamenu_level1\"><a class=\"megamenu_level1\" href=\"/business-resources/longmont-downtown-development-authority\" title=\"Longmont Downtown Development Authority\" data-navid=\"1473\" target=\"_blank\">Longmont Downtown Development Authority</a></li><li class=\"megamenu_level1\"><a class=\"megamenu_level1\" href=\"/business-resources/pay-my-sales-and-use-tax\" title=\"Pay My Sales and Use Tax\" data-navid=\"1468\" target=\"_self\">Pay My Sales and Use Tax</a></li><li class=\"megamenu_level1\"><a class=\"megamenu_level1\" href=\"/business-resources/register-to-be-a-vendor\" title=\"Register to be a Vendor\" data-navid=\"1469\" target=\"_self\">Register to be a Vendor</a></li></ul>\\r\\n<ul class=\"megamenu_column megamenu_column_content\"><li class=\"megamenu_level1\"><h2 style=\"text-align: left;\">Business</h2>\\r\\n<p><img style=\"\" alt=\"holding-broadband-fiber-thb\" src=\"/Home/ShowPublishedImage/4418/636771946195530000\"> &nbsp;</p>\\r\\n<p><a href=\"/departments/departments-e-m/longmont-power-communications/broadband-service\">NextLight\\xe2\\x84\\xa2, the community-owned high-speed fiber-optic network</a>, has soared into the spotlight with its gigabit service to homes and businesses. In June 2018, PC Magazine named NextLight the fastest ISP in the nation.</p>\\r\\n</li></ul>\\r\\n</div></div></li><li class=\"megamenu_first\" id=\"dropdownrootitem5\"><a class=\"dropdownrootitem5\" href=\"/online-services\" title=\"Online Services\" data-navid=\"6\" target=\"_self\">Online Services</a><div class=\"megamenu_container widthcontainer4col \"><div class=\"inner_container\"><ul class=\"megamenu_column\"><li class=\"megamenu_level1\"><a class=\"megamenu_level1\" href=\"/online-services/agendas-and-minutes\" title=\"Agendas and Minutes\" data-navid=\"2035\" target=\"_self\">Agendas and Minutes</a></li><li class=\"megamenu_level1\"><a class=\"megamenu_level1\" href=\"/online-services/apply-and-pay\" title=\"Apply and Pay\" data-navid=\"1474\" target=\"_self\">Apply and Pay</a><ul class=\"megamenu_level1\"><li class=\"megamenu_level2\"><a class=\"megamenu_level2\" href=\"/online-services/apply-and-pay/city-sales-and-use-tax\" title=\"City Sales and Use Tax\" data-navid=\"1632\" target=\"_self\">Sales and Use Tax</a></li><li class=\"megamenu_level2\"><a class=\"megamenu_level2\" href=\"/online-services/apply-and-pay/utility-bill\" title=\"City Utility Bill\" data-navid=\"1629\" target=\"_self\">Utility Bill</a></li><li class=\"megamenu_level2\"><a class=\"megamenu_level2\" href=\"/online-services/apply-and-pay/library-book-fine\" title=\"Library Book Fine\" data-navid=\"1637\" target=\"_self\">Library Book Fine</a></li><li class=\"megamenu_level2\"><a class=\"megamenu_level2\" href=\"/online-services/apply-and-pay/nextlight-internet-bill\" title=\"NextLight Internet Bill\" data-navid=\"3274\" target=\"_self\">NextLight Internet Bill</a></li></ul></li><li class=\"megamenu_level1\"><a class=\"megamenu_level1\" href=\"/online-services/calendar\" title=\"Citywide Calendar\" data-navid=\"1300\" target=\"_self\">Calendar</a></li><li class=\"megamenu_level1\"><a class=\"megamenu_level1\" href=\"/online-services/employment-opportunities\" title=\"Employment Opportunities\" data-navid=\"630\" target=\"_blank\">Employment Opportunities</a></li><li class=\"megamenu_level1\"><a class=\"megamenu_level1\" href=\"/online-services/e-notification-subscription\" title=\"Sign Up for eNotifications\" data-navid=\"631\" target=\"_self\">eNotification Subscription</a></li></ul><ul class=\"megamenu_column\"><li class=\"megamenu_level1\"><a class=\"megamenu_level1\" href=\"/online-services/facility-directory\" title=\"City Facility Directory\" data-navid=\"710\" target=\"_self\">Facility Directory</a><ul class=\"megamenu_level1\"><li class=\"megamenu_level2\"><a class=\"megamenu_level2\" href=\"/online-services/facility-directory/facility-map\" title=\"City Facility Map\" data-navid=\"708\" target=\"_self\">Facility Map</a></li><li class=\"megamenu_level2\"><a class=\"megamenu_level2\" href=\"/online-services/facility-directory/facility-rentals\" title=\"Facility Rentals\" data-navid=\"2072\" target=\"_self\">Facility Rentals</a></li><li class=\"megamenu_level2\"><a class=\"megamenu_level2\" href=\"/online-services/facility-directory/wedding-venue-rentals\" title=\"Longmont Wedding Venue Rentals\" data-navid=\"3428\" target=\"_self\">Wedding Venue Rentals</a></li></ul></li><li class=\"megamenu_level1\"><a class=\"megamenu_level1\" href=\"/online-services/frequently-asked-questions\" title=\"Citywide FAQs\" data-navid=\"701\" target=\"_self\">Frequently Asked Questions</a></li><li class=\"megamenu_level1\"><a class=\"megamenu_level1\" href=\"/online-services/maps-and-gis\" title=\"GIS: Maps and Webcams\" data-navid=\"1230\" target=\"_self\">GIS:  Maps and Webcams</a><ul class=\"megamenu_level1\"><li class=\"megamenu_level2\"><a class=\"megamenu_level2\" href=\"/online-services/gis-maps-and-webcams/are-you-in-a-floodplain\" title=\"Are You in a Floodplain?\" data-navid=\"3568\" target=\"_self\">Are You in a Floodplain?</a></li></ul></li><li class=\"megamenu_level1\"><a class=\"megamenu_level1\" href=\"/online-services/link2longmont\" title=\"Link2Longmont\" data-navid=\"3267\" target=\"_self\">Link2Longmont</a></li><li class=\"megamenu_level1\"><a class=\"megamenu_level1\" href=\"/online-services/longmont-data-sets\" title=\"Longmont Data Sets\" data-navid=\"1945\" target=\"_self\">Longmont Data Sets</a></li></ul><ul class=\"megamenu_column\"><li class=\"megamenu_level1\"><a class=\"megamenu_level1\" href=\"/online-services/longmont-municipal-code\" title=\"Longmont Municipal Code\" data-navid=\"942\" target=\"_blank\">Longmont Municipal Code</a></li><li class=\"megamenu_level1\"><a class=\"megamenu_level1\" href=\"/online-services/public-records-portal\" title=\"Public Records Portal\" data-navid=\"1285\" target=\"_blank\">Public Records Portal</a></li><li class=\"megamenu_level1\"><a class=\"megamenu_level1\" href=\"/online-services/service-request\" title=\"Link2Longmont\" data-navid=\"698\" target=\"_self\">Service Request</a></li><li class=\"megamenu_level1\"><a class=\"megamenu_level1\" href=\"/online-services/sitemap\" title=\"Sitemap\" data-navid=\"1266\" target=\"_self\">Sitemap</a></li><li class=\"megamenu_level1\"><a class=\"megamenu_level1\" href=\"/online-services/staff-contact-directory\" title=\"City Staff Contact Directory\" data-navid=\"707\" target=\"_self\">Staff Contact Directory</a></li><li class=\"megamenu_level1\"><a class=\"megamenu_level1\" href=\"/online-services/social-media\" title=\"Social Media\" data-navid=\"1572\" target=\"_self\">Social Media</a><ul class=\"megamenu_level1\"><li class=\"megamenu_level2\"><a class=\"megamenu_level2\" href=\"/online-services/social-media/rss-feeds\" title=\"RSS Feeds\" data-navid=\"1751\" target=\"_self\">RSS Feeds</a></li></ul></li><li class=\"megamenu_level1\"><a class=\"megamenu_level1\" href=\"/online-services/video-listings\" title=\"Video Listings\" data-navid=\"1635\" target=\"_self\">Video Listings</a></li></ul>\\r\\n<ul class=\"megamenu_column megamenu_column_content\"><li class=\"megamenu_level1\"><h2 style=\"text-align: left;\">Online Service</h2>\\r\\n<p style=\"text-align: left;\"><img style=\"\" alt=\"kids_playing-thb\" src=\"/Home/ShowPublishedImage/4420/636771946313070000\"> &nbsp;</p>\\r\\n<p style=\"text-align: left;\">Whether registering for recreation classes, paying your utility bill or filing business sales taxes, Longmont provides many online service options 24 hours a day/ 7 days a week.</p>\\r\\n<p>&nbsp;</p>\\r\\n</li></ul>\\r\\n</div></div></li><li class=\"megamenu_first\" id=\"dropdownrootitem6\"><a class=\"dropdownrootitem6\" href=\"/departments\" title=\"Government, Departments, Services\" data-navid=\"7\" target=\"_self\">Departments</a><div class=\"megamenu_container widthcontainer4col \"><div class=\"inner_container\"><ul class=\"megamenu_column\"><li class=\"megamenu_level1\"><a class=\"megamenu_level1\" href=\"/departments/agendas-and-minutes\" title=\"Agendas and Minutes\" data-navid=\"635\" target=\"_self\">Agendas and Minutes</a></li><li class=\"megamenu_level1\"><a class=\"megamenu_level1\" href=\"/departments/city-council\" title=\"City Council\" data-navid=\"162\" target=\"_self\">City Council</a><ul class=\"megamenu_level1\"><li class=\"megamenu_level2\"><a class=\"megamenu_level2\" href=\"/departments/city-council/access-public-records-portal\" title=\"Access Public Records Portal\" data-navid=\"166\" target=\"_self\">Access Public Records Portal</a></li><li class=\"megamenu_level2\"><a class=\"megamenu_level2\" href=\"/departments/city-council/agendas-and-minutes\" title=\"City Council Agendas and Minutes\" data-navid=\"163\" target=\"_self\">City Council Agendas and Minutes</a></li><li class=\"megamenu_level2\"><a class=\"megamenu_level2\" href=\"/departments/city-council/city-council-meetings\" title=\"City Council Meetings\" data-navid=\"165\" target=\"_self\">City Council Meetings</a></li><li class=\"megamenu_level2\"><a class=\"megamenu_level2\" href=\"/departments/city-council/city-council-members\" title=\"City Council Members\" data-navid=\"634\" target=\"_self\">City Council Members</a></li><li class=\"megamenu_level2\"><a class=\"megamenu_level2\" href=\"/departments/city-council/coffee-with-council\" title=\"Coffee with Council\" data-navid=\"1546\" target=\"_self\">Coffee with Council</a></li><li class=\"megamenu_level2\"><a class=\"megamenu_level2\" href=\"/departments/city-council/find-my-council-member\" title=\"Find My Council Member\" data-navid=\"1664\" target=\"_self\">Find My Council Member</a></li><li class=\"megamenu_level2\"><a class=\"megamenu_level2\" href=\"/departments/city-council/how-to-contact-city-council\" title=\"How To Contact City Council\" data-navid=\"175\" target=\"_self\">How To Contact City Council</a></li><li class=\"megamenu_level2\"><a class=\"megamenu_level2\" href=\"/departments/city-council/mayor-and-city-council-calendar\" title=\"Mayor and City Council Calendar\" data-navid=\"5944\" target=\"_self\">Mayor and City Council Calendar</a></li><li class=\"megamenu_level2\"><a class=\"megamenu_level2\" href=\"/departments/city-council/mayors-of-longmont\" title=\"Mayors of Longmont\" data-navid=\"1725\" target=\"_self\">Mayors of Longmont</a></li><li class=\"megamenu_level2\"><a class=\"megamenu_level2\" href=\"/departments/city-council/request-a-proclamation\" title=\"City of Longmont Proclamation Request\" data-navid=\"1610\" target=\"_self\">Request a Proclamation</a></li></ul></li><li class=\"megamenu_level1\"><a class=\"megamenu_level1\" href=\"/departments/boards-committees-and-commissions\" title=\"Boards, Committees and Commissions\" data-navid=\"176\" target=\"_self\">Boards, Committees and Commissions</a><ul class=\"megamenu_level1\"><li class=\"megamenu_level2\"><a class=\"megamenu_level2\" href=\"/departments/boards-committees-and-commissions/application-process\" title=\"Application Process &amp; Current Vacancies\" data-navid=\"177\" target=\"_self\">Application Process</a></li><li class=\"megamenu_level2\"><a class=\"megamenu_level2\" href=\"/departments/boards-committees-and-commissions/directory-of-boards-committees-and-commissions\" title=\"Directory of Boards, Committees and Commissions\" data-navid=\"179\" target=\"_self\">Directory of Boards, Committees and Commissions</a></li><li class=\"megamenu_level2\"><a class=\"megamenu_level2\" href=\"/departments/boards-committees-and-commissions/local-licensing-authority\" title=\"Local Licensing Authority\" data-navid=\"1618\" target=\"_self\">Liquor Licensing Authority</a></li></ul></li></ul><ul class=\"megamenu_column\"><li class=\"megamenu_level1\"><a class=\"megamenu_level1\" href=\"/departments/city-organizational-chart\" title=\"City Organizational Chart\" data-navid=\"959\" target=\"_self\">City Organizational Chart</a><ul class=\"megamenu_level1\"><li class=\"megamenu_level2\"><a class=\"megamenu_level2\" href=\"/departments/city-organizational-chart/a-z-directory\" title=\"A-Z Directory\" data-navid=\"700\" target=\"_self\">A-Z Directory</a></li></ul></li><li class=\"megamenu_level1\"><a class=\"megamenu_level1\" href=\"/departments/departments-a-d\" title=\"Departments A-D\" data-navid=\"189\" target=\"_self\">Departments A-D</a><ul class=\"megamenu_level1\"><li class=\"megamenu_level2\"><a class=\"megamenu_level2\" href=\"/departments/departments-a-d/airport\" title=\"Vance Brand Municipal Airport\" data-navid=\"190\" target=\"_self\">Airport</a></li><li class=\"megamenu_level2\"><a class=\"megamenu_level2\" href=\"/departments/departments-a-d/building-inspection\" title=\"Building Services\" data-navid=\"201\" target=\"_self\">Building Inspection</a></li><li class=\"megamenu_level2\"><a class=\"megamenu_level2\" href=\"/departments/departments-a-d/city-attorney\" title=\"City Attorney\" data-navid=\"200\" target=\"_self\">City Attorney</a></li><li class=\"megamenu_level2\"><a class=\"megamenu_level2\" href=\"/departments/departments-a-d/city-clerk\" title=\"City Clerk\" data-navid=\"215\" target=\"_self\">City Clerk</a></li><li class=\"megamenu_level2\"><a class=\"megamenu_level2\" href=\"/departments/departments-a-d/city-manager\" title=\"City Manager\" data-navid=\"226\" target=\"_self\">City Manager</a></li><li class=\"megamenu_level2\"><a class=\"megamenu_level2\" href=\"/departments/departments-a-d/children-youth-and-families\" title=\"Children, Youth &amp; Families\" data-navid=\"230\" target=\"_self\">Children, Youth and Families</a></li><li class=\"megamenu_level2\"><a class=\"megamenu_level2\" href=\"/departments/departments-a-d/code-enforcement\" title=\"Code Enforcement\" data-navid=\"241\" target=\"_self\">Code Enforcement</a></li><li class=\"megamenu_level2\"><a class=\"megamenu_level2\" href=\"/departments/departments-a-d/community-and-neighborhood-resources\" title=\"Community &amp; Neighborhood Resources \" data-navid=\"261\" target=\"_self\">Community and Neighborhood Resources </a></li><li class=\"megamenu_level2\"><a class=\"megamenu_level2\" href=\"/departments/departments-a-d/community-services-department\" title=\"Community Services Department\" data-navid=\"282\" target=\"_self\">Community Services Department</a></li></ul></li></ul><ul class=\"megamenu_column\"><li class=\"megamenu_level1\"><a class=\"megamenu_level1\" href=\"/departments/departments-e-m\" title=\"Departments E-M\" data-navid=\"560\" target=\"_self\">Departments E-M</a><ul class=\"megamenu_level1\"><li class=\"megamenu_level2\"><a class=\"megamenu_level2\" href=\"/departments/departments-e-m/enterprise-technology-services\" title=\"Enterprise Technology Services\" data-navid=\"357\" target=\"_self\">Enterprise Technology Services</a></li><li class=\"megamenu_level2\"><a class=\"megamenu_level2\" href=\"/departments/departments-e-m/environment\" title=\"Environment\" data-navid=\"748\" target=\"_self\">Environment</a></li><li class=\"megamenu_level2\"><a class=\"megamenu_level2\" href=\"/departments/departments-e-m/finance\" title=\"Finance Department\" data-navid=\"359\" target=\"_self\">Finance</a></li><li class=\"megamenu_level2\"><a class=\"megamenu_level2\" href=\"/departments/departments-e-m/forestry\" title=\"Forestry\" data-navid=\"730\" target=\"_self\">Forestry</a></li><li class=\"megamenu_level2\"><a class=\"megamenu_level2\" href=\"/departments/departments-e-m/golf-services\" title=\"Golf Services\" data-navid=\"425\" target=\"_self\">Golf Services</a></li><li class=\"megamenu_level2\"><a class=\"megamenu_level2\" href=\"/departments/departments-e-m/housing-and-community-investment\" title=\"Housing and Community Investment\" data-navid=\"249\" target=\"_self\">Housing and Community Investment</a></li><li class=\"megamenu_level2\"><a class=\"megamenu_level2\" href=\"/departments/departments-e-m/human-resource-services\" title=\"Human Resource Services\" data-navid=\"450\" target=\"_self\">Human Resource Services</a></li><li class=\"megamenu_level2\"><a class=\"megamenu_level2\" href=\"/departments/departments-e-m/library\" title=\"Welcome to the Longmont Public Library!\" data-navid=\"663\" target=\"_self\">Library</a></li><li class=\"megamenu_level2\"><a class=\"megamenu_level2\" href=\"/departments/departments-e-m/longmont-power-communications\" title=\"Longmont Power &amp; Communications\" data-navid=\"501\" target=\"_self\">Longmont Power &amp; Communications</a></li><li class=\"megamenu_level2\"><a class=\"megamenu_level2\" href=\"/departments/departments-e-m/municipal-court\" title=\"Longmont Judicial Department\" data-navid=\"543\" target=\"_self\">Municipal Court</a></li><li class=\"megamenu_level2\"><a class=\"megamenu_level2\" href=\"/departments/departments-e-m/museum\" title=\"Longmont Museum\" data-navid=\"548\" target=\"_self\">Museum</a></li></ul></li></ul><ul class=\"megamenu_column\"><li class=\"megamenu_level1\"><a class=\"megamenu_level1\" href=\"/departments/departments-n-z\" title=\"Departments N-Z\" data-navid=\"48\" target=\"_self\">Departments N-Z</a><ul class=\"megamenu_level1\"><li class=\"megamenu_level2\"><a class=\"megamenu_level2\" href=\"/departments/departments-n-z/parks-open-space-trails\" title=\"Parks, Open Space and Trails\" data-navid=\"49\" target=\"_self\">Parks, Open Space and Trails</a></li><li class=\"megamenu_level2\"><a class=\"megamenu_level2\" href=\"/departments/departments-n-z/parking-enforcement\" title=\"Parking Enforcement\" data-navid=\"66\" target=\"_self\">Parking Enforcement</a></li><li class=\"megamenu_level2\"><a class=\"megamenu_level2\" href=\"/departments/departments-n-z/planning-and-development-services\" title=\"Planning and Development Services Department\" data-navid=\"637\" target=\"_self\">Planning and Development Services</a></li><li class=\"megamenu_level2\"><a class=\"megamenu_level2\" href=\"/departments/departments-n-z/probation-office\" title=\"City of Longmont Municipal Probation\" data-navid=\"78\" target=\"_self\">Probation Office</a></li><li class=\"megamenu_level2\"><a class=\"megamenu_level2\" href=\"/departments/departments-n-z/public-information\" title=\"Public Information Office\" data-navid=\"228\" target=\"_self\">Public Information</a></li><li class=\"megamenu_level2\"><a class=\"megamenu_level2\" href=\"/departments/departments-n-z/public-safety-department\" title=\"Public Safety Department\" data-navid=\"339\" target=\"_self\">Public Safety Department</a></li><li class=\"megamenu_level2\"><a class=\"megamenu_level2\" href=\"/departments/departments-n-z/public-works-and-natural-resources\" title=\"Public Works &amp; Natural Resources\" data-navid=\"1922\" target=\"_self\">Public Works &amp; Natural Resources</a></li><li class=\"megamenu_level2\"><a class=\"megamenu_level2\" href=\"/departments/departments-n-z/purchasing-and-contracts\" title=\"Purchasing and Contracts\" data-navid=\"116\" target=\"_self\">Purchasing and Contracts</a></li><li class=\"megamenu_level2\"><a class=\"megamenu_level2\" href=\"/departments/departments-n-z/recreation-services\" title=\"Recreation Services\" data-navid=\"128\" target=\"_self\">Recreation Services</a></li><li class=\"megamenu_level2\"><a class=\"megamenu_level2\" href=\"/departments/departments-n-z/redevelopment-and-urban-renewal\" title=\"Redevelopment and Urban Renewal\" data-navid=\"1372\" target=\"_self\">Redevelopment and Urban Renewal</a></li><li class=\"megamenu_level2\"><a class=\"megamenu_level2\" href=\"/departments/departments-n-z/risk-management\" title=\"Risk Management, Safety and Wellness\" data-navid=\"664\" target=\"_self\">Risk Management</a></li><li class=\"megamenu_level2\"><a class=\"megamenu_level2\" href=\"/departments/departments-n-z/senior-services\" title=\"Senior Services\" data-navid=\"1125\" target=\"_self\">Senior Services</a></li><li class=\"megamenu_level2\"><a class=\"megamenu_level2\" href=\"/departments/departments-n-z/transportation\" title=\"Transportation \" data-navid=\"669\" target=\"_self\">Transportation </a></li><li class=\"megamenu_level2\"><a class=\"megamenu_level2\" href=\"/departments/departments-n-z/trash-and-recycling\" title=\"Waste Services: Composting, Recycling &amp; Trash\" data-navid=\"739\" target=\"_self\">Waste Services - Compost/Recycle/Trash</a></li><li class=\"megamenu_level2\"><a class=\"megamenu_level2\" href=\"/departments/departments-n-z/water\" title=\"Water\" data-navid=\"719\" target=\"_self\">Water</a></li><li class=\"megamenu_level2\"><a class=\"megamenu_level2\" href=\"/departments/departments-n-z/utilities\" title=\"Longmont City Utilities\" data-navid=\"1289\" target=\"_self\">Utilities</a></li></ul></li></ul>\\r\\n</div></div></li><li class=\"megamenu_first\" id=\"dropdownrootitem7\"><a class=\"dropdownrootitem7\" href=\"/i-want-to-\" title=\"I Want To...\" data-navid=\"8\" target=\"_self\">I want to...</a><div class=\"megamenu_container widthcontainer4col fullwidthdisplay\"><div class=\"inner_container\"><ul class=\"megamenu_column\"><li class=\"megamenu_level1\"><a class=\"megamenu_level1\" href=\"/i-want-to/apply-register\" title=\"Apply / Register\" data-navid=\"1446\" target=\"_self\">Apply / Register</a></li><li class=\"megamenu_level1\"><a class=\"megamenu_level1\" href=\"/i-want-to/book-request-schedule\" title=\"Book / Request / Schedule\" data-navid=\"1573\" target=\"_self\">Book / Request / Schedule</a></li><li class=\"megamenu_level1\"><a class=\"megamenu_level1\" href=\"/i-want-to/contact-find\" title=\"Contact / Find\" data-navid=\"1447\" target=\"_self\">Contact / Find</a></li><li class=\"megamenu_level1\"><a class=\"megamenu_level1\" href=\"/i-want-to/dispose-of\" title=\"Dispose Of\" data-navid=\"1448\" target=\"_self\">Dispose Of</a></li><li class=\"megamenu_level1\"><a class=\"megamenu_level1\" href=\"/i-want-to/get-involved\" title=\"Get Involved\" data-navid=\"1453\" target=\"_self\">Get Involved</a></li><li class=\"megamenu_level1\"><a class=\"megamenu_level1\" href=\"/i-want-to/learn-know\" title=\"Learn / Know\" data-navid=\"1455\" target=\"_self\">Learn / Know</a></li><li class=\"megamenu_level1\"><a class=\"megamenu_level1\" href=\"/i-want-to/manage-an-account\" title=\"Manage An Account\" data-navid=\"1459\" target=\"_self\">Manage An Account</a></li></ul><ul class=\"megamenu_column\"><li class=\"megamenu_level1\"><a class=\"megamenu_level1\" href=\"/i-want-to/pay-renew-rent\" title=\"Pay / Renew / Rent\" data-navid=\"1475\" target=\"_self\">Pay / Renew / Rent</a><ul class=\"megamenu_level1\"><li class=\"megamenu_level2\"><a class=\"megamenu_level2\" href=\"/i-want-to/pay-renew-rent/animal-license\" title=\"Animal License\" data-navid=\"1544\" target=\"_self\">Animal License</a></li><li class=\"megamenu_level2\"><a class=\"megamenu_level2\" href=\"/i-want-to/pay-renew-rent/block-party-permit\" title=\"Block Party Permit\" data-navid=\"1601\" target=\"_self\">Block Party Permit</a></li><li class=\"megamenu_level2\"><a class=\"megamenu_level2\" href=\"/i-want-to/pay-renew-rent/building-permit-fees\" title=\"Building Permit Fees\" data-navid=\"3693\" target=\"_self\">Building Permit Fees</a></li><li class=\"megamenu_level2\"><a class=\"megamenu_level2\" href=\"/i-want-to/pay-renew-rent/business-license\" title=\"Business License\" data-navid=\"1603\" target=\"_self\">Business License</a></li><li class=\"megamenu_level2\"><a class=\"megamenu_level2\" href=\"/i-want-to/pay-renew-rent/dumpster\" title=\"Dumpster\" data-navid=\"1583\" target=\"_self\">Dumpster</a></li><li class=\"megamenu_level2\"><a class=\"megamenu_level2\" href=\"/i-want-to/pay-renew-rent/fishing-permit\" title=\"Fishing Permit\" data-navid=\"1604\" target=\"_self\">Fishing Permit</a></li><li class=\"megamenu_level2\"><a class=\"megamenu_level2\" href=\"/i-want-to/pay-renew-rent/library-book-fine\" title=\"Library Book Fine\" data-navid=\"1633\" target=\"_self\">Library Book Fine</a></li><li class=\"megamenu_level2\"><a class=\"megamenu_level2\" href=\"/i-want-to/pay-renew-rent/liquor-license\" title=\"Liquor License\" data-navid=\"1599\" target=\"_self\">Liquor License</a></li><li class=\"megamenu_level2\"><a class=\"megamenu_level2\" href=\"/i-want-to-/pay-renew-rent/nextlight-internet-bill\" title=\"NextLight Internet Bill\" data-navid=\"3273\" target=\"_self\">NextLight Internet Bill</a></li><li class=\"megamenu_level2\"><a class=\"megamenu_level2\" href=\"/i-want-to/pay-renew-rent/parking-ticket\" title=\"Parking Ticket\" data-navid=\"1657\" target=\"_self\">Parking Ticket</a></li><li class=\"megamenu_level2\"><a class=\"megamenu_level2\" href=\"/i-want-to/pay-renew-rent/rent-a-facility\" title=\"Rent A Facility\" data-navid=\"1653\" target=\"_self\">Rent A Facility</a></li><li class=\"megamenu_level2\"><a class=\"megamenu_level2\" href=\"/i-want-to/pay-renew-rent/city-sales-and-use-tax\" title=\"City Sales and Use Tax\" data-navid=\"1476\" target=\"_self\">Sales and Use Tax</a></li><li class=\"megamenu_level2\"><a class=\"megamenu_level2\" href=\"/i-want-to/pay-renew-rent/utility-bill\" title=\"City Utility Bill\" data-navid=\"1628\" target=\"_self\">Utility Bill</a></li></ul></li></ul><ul class=\"megamenu_column\"><li class=\"megamenu_level1\"><a class=\"megamenu_level1\" href=\"/i-want-to/report\" title=\"Report\" data-navid=\"1587\" target=\"_self\">Report</a><ul class=\"megamenu_level1\"><li class=\"megamenu_level2\"><a class=\"megamenu_level2\" href=\"/i-want-to/report/abandoned-or-junked-vehicles\" title=\"Abandoned or Junked Vehicles\" data-navid=\"1655\" target=\"_self\">Abandoned or Junked Vehicles</a></li><li class=\"megamenu_level2\"><a class=\"megamenu_level2\" href=\"/i-want-to/report/broken-trash-recycle-cart\" title=\"Broken Trash/Recycle Cart\" data-navid=\"1589\" target=\"_self\">Broken Trash/Recycle Cart</a></li><li class=\"megamenu_level2\"><a class=\"megamenu_level2\" href=\"/i-want-to/report/file-a-police-report\" title=\"File a Police Report\" data-navid=\"4744\" target=\"_self\">File a Police Report</a></li><li class=\"megamenu_level2\"><a class=\"megamenu_level2\" href=\"/i-want-to/report/graffiti\" title=\"Graffiti\" data-navid=\"1656\" target=\"_self\">Graffiti</a></li><li class=\"megamenu_level2\"><a class=\"megamenu_level2\" href=\"/i-want-to/report/overgrown-weeds\" title=\"Overgrown Weeds\" data-navid=\"1654\" target=\"_self\">Overgrown Weeds</a></li><li class=\"megamenu_level2\"><a class=\"megamenu_level2\" href=\"/i-want-to/report/pothole-street-repair-request\" title=\"Pothole / Street Repair Request\" data-navid=\"1590\" target=\"_self\">Pothole / Street Repair Request</a></li><li class=\"megamenu_level2\"><a class=\"megamenu_level2\" href=\"/i-want-to/report/streetlight-or-pedestal-light\" title=\"Streetlight or Pedestal Light\" data-navid=\"1588\" target=\"_self\">Streetlight or Pedestal Light</a></li><li class=\"megamenu_level2\"><a class=\"megamenu_level2\" href=\"/i-want-to/report/tree-limbs-near-power-lines\" title=\"Tree limbs near power lines\" data-navid=\"1649\" target=\"_self\">Tree limbs near power lines</a></li></ul></li><li class=\"megamenu_level1\"><a class=\"megamenu_level1\" href=\"/i-want-to/start-stop-upgrade\" title=\"Start / Stop / Upgrade\" data-navid=\"1645\" target=\"_self\">Start / Stop / Upgrade</a><ul class=\"megamenu_level1\"><li class=\"megamenu_level2\"><a class=\"megamenu_level2\" href=\"/i-want-to/start-stop-upgrade/install-or-upgrade-electric-services\" title=\"Install or Upgrade Electric Services\" data-navid=\"1647\" target=\"_self\">Install or Upgrade Electric Services</a></li><li class=\"megamenu_level2\"><a class=\"megamenu_level2\" href=\"/i-want-to/start-stop-upgrade/nextlight-broadband-internet\" title=\"NextLight Broadband Internet\" data-navid=\"4785\" target=\"_self\">NextLight Broadband Internet</a></li><li class=\"megamenu_level2\"><a class=\"megamenu_level2\" href=\"/i-want-to/start-stop-upgrade/utility-services\" title=\"Utility Services\" data-navid=\"1646\" target=\"_self\">Utility Services</a></li></ul></li></ul><ul class=\"megamenu_column\"><li class=\"megamenu_level1\"><a class=\"megamenu_level1\" href=\"/i-want-to/watch-search\" title=\"Watch / Search\" data-navid=\"1605\" target=\"_self\">Watch / Search</a><ul class=\"megamenu_level1\"><li class=\"megamenu_level2\"><a class=\"megamenu_level2\" href=\"/i-want-to/watch-search/board-committee-or-commission-meetings\" title=\"Board Committee or Commission Meetings\" data-navid=\"4786\" target=\"_self\">Board Committee or Commission Meetings</a></li><li class=\"megamenu_level2\"><a class=\"megamenu_level2\" href=\"/i-want-to/watch-search/city-council-agenda-or-meeting\" title=\"City Council Agenda or Meeting\" data-navid=\"1606\" target=\"_self\">City Council Agenda or Meeting</a></li><li class=\"megamenu_level2\"><a class=\"megamenu_level2\" href=\"/i-want-to/watch-search/previous-council-agendas-and-minutes\" title=\"Previous Council Agendas and Minutes\" data-navid=\"1607\" target=\"_self\">Previous Council Agendas and Minutes</a></li><li class=\"megamenu_level2\"><a class=\"megamenu_level2\" href=\"/i-want-to/watch-search/research-public-records\" title=\"Research Public Records\" data-navid=\"4787\" target=\"_self\">Research Public Records</a></li><li class=\"megamenu_level2\"><a class=\"megamenu_level2\" href=\"/i-want-to/watch-search/youtube-channel\" title=\"YouTube Channel\" data-navid=\"5872\" target=\"_self\">YouTube Channel</a></li></ul></li></ul>\\r\\n</div></div></li></ul>\\r\\n\\r\\n<script>\\r\\n    $(function () {\\r\\n        /**load the Advance Mega Menu which is set to async load**/\\r\\n        $(\".async_widget_container.custominvoke\").loadAsyncContainer();\\r\\n    });\\r\\n</script>\\r\\n<script>\\n$(function () {\\n var menuContainer = $(\\'#menuContainer_37_0_13\\');\\n menuContainer.find(\\'.dropdownmenu>li>a[data-navid=\"3\"]\\').closest(\\'li\\').addClass(\\'active\\');\\n});\\n</script></nav></div>\\r\\n\\r\\n\\r\\n<script>\\r\\n    /**********************************************************\\r\\n    Dropdown Menu delay disappearance on mouse out\\r\\n    *********************************************************/\\r\\n    /*javascript to delay the disappearance of the menu when the user mouses out.  Uses jquery library.*/\\r\\n    $(function () {\\r\\n        \\r\\n\\r\\n        var timer = null;\\r\\n        var delay = 800; //change this number for shorter or longer delay\\r\\n\\r\\n        \\r\\n        //using megamenu\\r\\n        var dropdowncontainer = \\'>.megamenu_container\\';\\r\\n        var activePage = $(\".mainnav .dropdownmenu > li.active\");\\r\\n        $(\".mainnav > .dropdownmenu > li\").hoverIntent(\\r\\n\\r\\n            //what happens on hover over\\r\\n            function () {\\r\\n                 //end timer and stop hiding if they are mousing back in.\\r\\n                 if (timer != null) {\\r\\n                     clearTimeout(timer);\\r\\n                     timer = null;\\r\\n                 }\\r\\n                 // Find the hovered menu\\'s sub-menu\\r\\n                 var $menu = $(this);\\r\\n                 var $submenu = $(this).find(dropdowncontainer);\\r\\n\\r\\n                 // hide any other submenus that are open\\r\\n                 $(\\'.mainnav > .dropdownmenu>li\\' + dropdowncontainer).not($submenu).css(\\'display\\', \\'none\\');\\r\\n                 $(\\'.mainnav > .dropdownmenu li.active\\').not($menu).not(activePage).removeClass(\\'active\\');\\r\\n\\r\\n                 // show current menu\\r\\n                 $submenu.css(\\'display\\', \\'block\\');\\r\\n                 $menu.addClass(\\'active\\');\\r\\n             },\\r\\n\\r\\n            //what happens on mouse out\\r\\n            function () {\\r\\n                var $submenu = $(this).find(dropdowncontainer);\\r\\n                var $menu = $(this);\\r\\n                // delay disappearance\\r\\n                var mouseDelay = $(this).data(\"mouseDelay\") || delay;\\r\\n                clearTimeout(timer);\\r\\n                timer = setTimeout(function () {\\r\\n                    $submenu.css(\\'display\\', \\'none\\'); $menu.not(activePage).removeClass(\\'active\\');\\r\\n                    clearTimeout(timer); timer = null;\\r\\n                }, mouseDelay);\\r\\n            }\\r\\n        );\\r\\n\\r\\n\\r\\n        $(\\'body\\').bind(\\'keyup\\', function (event) {\\r\\n            if (event.keyCode == 9) {\\r\\n                // Find the hovered menu\\'s sub-menu\\r\\n                var $menu = $(event.target).closest(\\'li\\');\\r\\n                if ($menu.hasClass(\\'megamenu_first\\')) {\\r\\n                    var $submenu = $menu.find(dropdowncontainer);\\r\\n\\r\\n                    // hide any other submenus that are open\\r\\n                    $(\\'.mainnav > .dropdownmenu>li\\' + dropdowncontainer).not($submenu).css(\\'display\\', \\'none\\');\\r\\n                    $(\\'.mainnav > .dropdownmenu li.active\\').not($menu).not(activePage).removeClass(\\'active\\');\\r\\n\\r\\n                    // show current menu\\r\\n                    $submenu.css(\\'display\\', \\'block\\');\\r\\n                    $menu.addClass(\\'active\\');\\r\\n                }\\r\\n            }\\r\\n        });\\r\\n\\r\\n        \\r\\n    });\\r\\n</script>\\r\\n\\r\\n<script>\\r\\n    //$(function () \\r\\n    {\\r\\n        var menuContainerID = \"menuContainer_37_0_13\";\\r\\n        var menuContainer = $(\"#\" + menuContainerID);\\r\\n        \\r\\n        function isIE(userAgent) {\\r\\n            userAgent = userAgent || navigator.userAgent;\\r\\n            return userAgent.indexOf(\"MSIE \") > -1 || userAgent.indexOf(\"Trident/\") > -1;\\r\\n        }\\r\\n\\r\\n        function isIE9(userAgent) {\\r\\n            userAgent = userAgent || navigator.userAgent;\\r\\n            return userAgent.indexOf(\"MSIE 9\") > -1;\\r\\n        }\\r\\n\\r\\n        function isTouchScreenEvent(event) {\\r\\n            var _isTouchScreen = false;\\r\\n            if (\"ontouchstart\" in window) {\\r\\n                _isTouchScreen = true;\\r\\n            } else if (\"onpointerdown\" in window) {\\r\\n                _isTouchScreen = event.originalEvent.pointerType == \"touch\";\\r\\n            } else if (window.MSPointerEvent) {\\r\\n                _isTouchScreen = event.originalEvent.pointerType == event.originalEvent.MSPOINTER_TYPE_TOUCH; // 2 ; http://blogs.msdn.com/b/ie/archive/2011/09/20/touch-input-for-ie10-and-metro-style-apps.aspx\\r\\n            } else {\\r\\n            }\\r\\n            return _isTouchScreen;\\r\\n        }\\r\\n\\r\\n        var _isIE = isIE();\\r\\n        var _isIE9 = isIE9();\\r\\n        var isMegaMenu = $(\\'.megamenu_first\\', menuContainer).length > 0;\\r\\n        var currentMenu = $(\\'> ul.dropdownmenu > li.active\\', menuContainer);\\r\\n\\r\\n        $(function () {\\r\\n            if (currentMenu.length == 0)\\r\\n                currentMenu = $(\\'> ul.dropdownmenu > li.active\\', menuContainer);\\r\\n        });\\r\\n\\r\\n        if ((\"ontouchstart\" in window   // Chrome & Safari (IOS) && Firefox\\r\\n         || \"onpointerdown\" in window   // IE 11 \\r\\n         || window.MSPointerEvent       // IE 10\\r\\n         ) && ($(window).width() > 648)) {\\r\\n            var eventName = \"ontouchstart\" in window ? \"touchstart\"\\r\\n                          : \"onpointerdown\" in window ? \"pointerdown\"\\r\\n                          : window.MSPointerEvent ? \"MSPointerDown\"\\r\\n                          : \"\";\\r\\n            if (eventName.length > 0) {\\r\\n                $(\\'> ul.dropdownmenu  li>a[data-navid]\\', menuContainer).bind(eventName, function (event) {\\r\\n\\r\\n                    if (isTouchScreenEvent(event) == false) {\\r\\n                        return true;\\r\\n                    }\\r\\n\\r\\n                    var currentLevelAnchor = $(this);\\r\\n                    var currentLeveLi = currentLevelAnchor.closest(\"li\");\\r\\n                    var firstLevelLi = currentLevelAnchor.closest(\"li[id^=\\'dropdownrootitem\\']\");\\r\\n                    var firstLevelAnchor = firstLevelLi.find(\">a[data-navid]\");\\r\\n                    var inFirstLevel = currentLevelAnchor[0] == firstLevelAnchor[0];\\r\\n\\r\\n                    var hasSubMenu = currentLevelAnchor.next(\"ul,div\").length > 0;\\r\\n                    if (hasSubMenu) {\\r\\n                        $(this).closest(\"li\").data(\"mouseDelay\", 1);\\r\\n\\r\\n                        // Menu is not selected\\r\\n                        if (!firstLevelLi.hasClass(\\'touch-active\\')) {\\r\\n                            if ($(this).attr(\"href\")) {\\r\\n                                $(this).attr(\"data-href\", $(this).attr(\"href\"));\\r\\n                                $(this).attr(\"href\", \"javascript:void(0);\");\\r\\n                            }\\r\\n                            $(menuContainer).find(\\'.touch-active\\').removeClass(\\'touch-active\\').not(currentMenu).removeClass(\\'active\\');\\r\\n\\r\\n                            firstLevelLi.addClass(\\'touch-active active\\');\\r\\n                            currentLevelAnchor.addClass(\\'touch-active active\\');\\r\\n                            currentMenu.addClass(\"active\");\\r\\n\\r\\n                            $(\\' li:not(.touch-active)\\', menuContainer).not(firstLevelLi).removeClass(\\'_current\\');\\r\\n                            $(\\' li:not(.touch-active) li\\', menuContainer).not(currentLeveLi).removeClass(\\'_current\\');\\r\\n\\r\\n                            $(\\'> ul.dropdownmenu > li:not(.touch-active) > a[data-navid]\\', menuContainer).next().css(\\'display\\', \\'none\\');\\r\\n                            $(\\'> ul.dropdownmenu > li.touch-active > a[data-navid]\\', menuContainer).next().css(\\'display\\', \\'block\\');\\r\\n\\r\\n                            event.preventDefault();\\r\\n                        }\\r\\n                            // Menu is selected\\r\\n                        else {\\r\\n                            if (inFirstLevel) {\\r\\n                                // non clickable\\r\\n                                if (currentLevelAnchor.attr(\\'href\\') == undefined) {\\r\\n                                    //has class touch-active and no link\\r\\n                                    removeClassAndHideMenu();\\r\\n                                    event.preventDefault();\\r\\n                                } else if ($(this).attr(\"data-href\")) { //clickable, but href have been moved to data.\\r\\n                                    $(this).attr(\"href\", $(this).attr(\"data-href\"));\\r\\n                                }\\r\\n                            }\\r\\n                            else {\\r\\n                                if (isMegaMenu)\\r\\n                                    return true;\\r\\n\\r\\n                                if (!currentLeveLi.hasClass(\\'touch-active\\')) {\\r\\n                                    if ($(this).attr(\"href\")) {\\r\\n                                        $(this).attr(\"data-href\", $(this).attr(\"href\"));\\r\\n                                        $(this).attr(\"href\", \"javascript:void(0);\");\\r\\n                                    }\\r\\n                                    $(firstLevelLi).find(\\'.touch-active\\').removeClass(\\'touch-active\\').not(currentMenu).removeClass(\\'active\\');\\r\\n                                    currentLeveLi.parent().children(\"li._current\").removeClass(\"_current\");\\r\\n                                    currentLeveLi.addClass(\\'touch-active active _current\\');\\r\\n\\r\\n                                    currentLevelAnchor.addClass(\\'touch-active active\\');\\r\\n\\r\\n                                    //$(\\' li:not(.touch-active)\\', menuContainer).not(firstLevelLi).removeClass(\\'_current\\');    \\r\\n                                    //$(\\' li:not(.touch-active) li\\', menuContainer).not(currentLeveLi).removeClass(\\'_current\\');\\r\\n\\r\\n                                    $(\\' li:not(.touch-active) > a[data-navid]\\', currentLeveLi.parent()).next().css(\\'display\\', \\'none\\');\\r\\n                                    $(\\'> li.touch-active > a[data-navid]\\', currentLeveLi.parent()).next().css(\\'display\\', \\'block\\');\\r\\n\\r\\n                                    event.preventDefault();\\r\\n                                } else {\\r\\n                                    if (currentLevelAnchor.attr(\\'href\\') == undefined) {\\r\\n                                        //has class touch-active and no link\\r\\n                                        removeClassAndHideMenu();\\r\\n                                        event.preventDefault();\\r\\n                                    } else if ($(this).attr(\"data-href\")) {\\r\\n                                        $(this).attr(\"href\", $(this).attr(\"data-href\"));\\r\\n                                    }\\r\\n                                }\\r\\n                            }\\r\\n                        }\\r\\n                    }\\r\\n\\r\\n                });\\r\\n            }\\r\\n        }\\r\\n\\r\\n\\r\\n\\r\\n        function removeClassAndHideMenu() {\\r\\n            $(menuContainer).find(\\'a.touch-active, li.touch-active\\').removeClass(\\'touch-active active\\');\\r\\n            $(\\'> ul.dropdownmenu > li > a[data-navid]\\', menuContainer).next().css(\\'display\\', \\'none\\');\\r\\n            // If we don\\'t change the menu item, we should keep the old one.\\r\\n            if ($(\\'> ul.dropdownmenu > li.active\\', menuContainer).length == 0) {\\r\\n                currentMenu.addClass(\"active\");\\r\\n            }\\r\\n        }\\r\\n\\r\\n        $(\\'body\\').bind(eventName, function (event) {\\r\\n            if (isTouchScreenEvent(event) == false) {\\r\\n                return true;\\r\\n            }\\r\\n            if (!$(event.target).closest(\\'li.touch-active\\').length) {\\r\\n                removeClassAndHideMenu();\\r\\n            }\\r\\n        });\\r\\n    }\\r\\n    //);\\r\\n</script>\\r\\n\\r\\n                \\r\\n                <!--startindex-->\\r\\n                <!--!!WidgetEnd-->\\r\\n\\r\\n    \\r\\n</div>\\r\\n\\r\\n    \\r\\n<div id=\"ColumnUserControl2\" class=\"column   left_col  \"  >\\r\\n    <!--!!WidgetStart, vi-orderdata=\"0\"  vi-hideonmobile=\"false\" vi-widgetinstancedata=\"38\"WidgetStart!!-->    \\r\\n\\r\\n                <!--stopindex-->\\r\\n                \\r\\n\\r\\n<nav id=\\'leftNav_38_0_13\\' class=\\'nocontent sidenav mobile_list vi-sidenav-desktop   \\'>\\r\\n    <h2 class=\"mobile_only mobile_header\">Sub-Menu...</h2>\\r\\n    <ul><li><a href=\\'https://www.longmontcolorado.gov/news/calendar\\' target=\\'_self\\'>Calendar</a></li><li><a href=\\'https://www.longmontcolorado.gov/news/city-emergency-alert\\' target=\\'_self\\'>City Emergency Alert</a></li><li class=\"sidenav_haschildren\"><a href=\\'https://www.longmontcolorado.gov/news/city-line-newsletter\\' target=\\'_self\\'>City Line Newsletter</a></li><li><a href=\\'https://www.longmontcolorado.gov/news/citywide-news\\' target=\\'_self\\'>Citywide News</a></li><li><a href=\\'https://www.longmontcolorado.gov/news/e-notification-subscription\\' target=\\'_self\\'>eNotification Subscription</a></li><li><a href=\\'https://www.longmontcolorado.gov/news/news-releases\\' target=\\'_self\\'>News Releases</a></li><li><a href=\\'https://www.longmontcolorado.gov/news/public\\' target=\\'_self\\'>Public Information</a></li><li class=\"sidenav_haschildren\"><a href=\\'https://www.longmontcolorado.gov/news/social-media\\' target=\\'_self\\'>Social Media</a></li><li><a href=\\'https://www.longmontcolorado.gov/news/video-listings\\' target=\\'_self\\'>Video Listings</a></li></ul>\\r\\n</nav>\\r\\n<script>\\r\\n    $(function () {\\r\\n        //test if it is mobile view or not and add classes accordingly. Needed because different sites use different breakpoints for mobile\\r\\n        if ($(\\'.sidenav .mobile_only\\').is(\\':visible\\')) {\\r\\n            $(\\'.sidenav\\').addClass(\\'vi-sidenav-mobile\\');\\r\\n        } else {\\r\\n            $(\\'.sidenav\\').addClass(\\'vi-sidenav-desktop\\');\\r\\n        }\\r\\n        //need to also check for mobile view on resize and change classes if needed\\r\\n        var sidenavResizeTimer;\\r\\n\\r\\n        $(window).on(\\'resize\\', function (e) {\\r\\n\\r\\n            clearTimeout(sidenavResizeTimer);\\r\\n            sidenavResizeTimer = setTimeout(function () {\\r\\n\\r\\n                if ($(\\'.sidenav .mobile_only\\').is(\\':visible\\')) {\\r\\n                    $(\\'.vi-sidenav-desktop\\').addClass(\\'vi-sidenav-mobile\\').removeClass(\\'vi-sidenav-desktop\\');\\r\\n                } else {\\r\\n                    $(\\'.vi-sidenav-mobile\\').addClass(\\'vi-sidenav-desktop\\').removeClass(\\'vi-sidenav-mobile\\');\\r\\n                }\\r\\n            }, 250);\\r\\n\\r\\n        });\\r\\n\\r\\n        //expand/collapse function\\r\\n        $(\"#leftNav_38_0_13 .vi-sidenav-toggle\").click(function () {\\r\\n            var item = $(this),\\r\\n                parent = item.parent(\"li\");\\r\\n\\r\\n            if (parent.length) {\\r\\n                if (parent.hasClass(\"sidenav_expanded\")) {\\r\\n                    parent.removeClass(\"sidenav_expanded\");\\r\\n                } else {\\r\\n                    parent.addClass(\"sidenav_expanded\");\\r\\n                }\\r\\n            }\\r\\n\\r\\n            if (item.html() === \"+\") {\\r\\n                item.html(\\'-\\');\\r\\n            } else {\\r\\n                item.html(\\'+\\');\\r\\n            }\\r\\n        });\\r\\n    });\\r\\n</script>\\r\\n                \\r\\n                <!--startindex-->\\r\\n                <!--!!WidgetEnd-->\\r\\n\\r\\n    <!--!!WidgetStart, vi-orderdata=\"0\"  vi-hideonmobile=\"false\" vi-widgetinstancedata=\"311\"WidgetStart!!-->    \\r\\n<div id=\\'widget_311_1442_13\\' class=\\'content_area normal_content_area clearfix  \\'><div class=\"desktop_only\">\\r\\n<p><strong>Find Us On Facebook</strong></p>\\r\\n<!--Facebook Like Box code Begin -->\\r\\n<iframe src=\"//www.facebook.com/plugins/likebox.php?href=https%3A%2F%2Fwww.facebook.com%2Fcityoflongmontco&amp;width=184&amp;height=258&amp;colorscheme=light&amp;show_faces=true&amp;header=false&amp;stream=false&amp;show_border=false&amp;appId=235712919805223\" scrolling=\"no\" style=\"border:none; overflow:hidden; width:98%; height:258px;\" allowtransparency=\"true\" frameborder=\"0\"></iframe>\\r\\n<!--Facebook Like Box code END -->\\r\\n</div></div>\\r\\n            <!--!!WidgetEnd-->\\r\\n\\r\\n    \\r\\n</div>\\r\\n\\r\\n    \\r\\n<div id=\"ColumnUserControl3\" class=\"column   right_col  \"  >\\r\\n    <!--!!WidgetStart, vi-orderdata=\"0\"  vi-hideonmobile=\"false\" vi-widgetinstancedata=\"312\"WidgetStart!!-->    \\r\\n<div class=\" image_widget\" id=\"widget_312_1422_13\"><a href=\"javascript:void(0);\" target=\"_self\" title=\"\"><img alt=\"News From the City of Longmont\" class=\"img_item\" src=\"/Home/ShowPublishedImage/4903/637189376281570000\" /></a></div> \\r\\n            <!--!!WidgetEnd-->\\r\\n\\r\\n    <!--!!WidgetStart, vi-orderdata=\"0\"  vi-hideonmobile=\"false\" vi-widgetinstancedata=\"39\"WidgetStart!!-->    \\r\\n\\r\\n<a id=\"pagebody\"></a>\\r\\n<header id=\"widget_39_4219_13\" class=\"title_widget clearfix on_page \" >\\r\\n    \\r\\n    <!--stopindex-->\\r\\n    <p class=\"breadcrumb\">\\r\\n        \\r\\n    </p>\\r\\n    <!--startindex-->\\r\\n    \\r\\n    <h1 class=\"titlewidget-title\"><span>Citywide News</span></h1>\\r\\n    \\r\\n    <!--stopindex-->\\r\\n    <div class=\"title_right\">\\r\\n        \\r\\n        <a class=\"printer_friendly\" href=\"javascript:window.print();\" title=\"Click to print this page\">Print</a>\\r\\n        \\r\\n        <a class=\"thickbox feedback_link\" title=\"Click to submit an email to feedback\" href=\"javascript:void(0);\">Feedback</a>\\r\\n        \\r\\n        <script type=\"text/javascript\">\\r\\n            function shareLink(shareType) {\\r\\n                var shareUrl = \"\";\\r\\n                var shareTitle = document.itemTitle ? encodeURIComponent(document.itemTitle.trim()).replace(/[!\\'()*]/g, escape) : \"Citywide+News\";\\r\\n                switch (shareType) {\\r\\n                    case \"facebook\":\\r\\n                        shareUrl = \"http://www.facebook.com/sharer.php?u=https%3a%2f%2fwww.longmontcolorado.gov%2fnews%2f-npage-2&t=\" + shareTitle;\\r\\n                        break;\\r\\n                    case \"linkedin\":\\r\\n                        shareUrl = \"http://www.linkedin.com/shareArticle?mini=true&url=https%3a%2f%2fwww.longmontcolorado.gov%2fnews%2f-npage-2&title=\" + shareTitle;\\r\\n                        break;\\r\\n                    case \"twitter\":\\r\\n                        //Below link works in iOS and other OS\\r\\n                        shareUrl = \"https://twitter.com/intent/tweet?url=https%3a%2f%2fwww.longmontcolorado.gov%2fnews%2f-npage-2&text=Citywide+News+%7c+\";\\r\\n                        break;\\r\\n                    case \"delicious\":\\r\\n                        shareUrl = \"https://secure.delicious.com/login?noui=yes&v=4&jump=https%3a%2f%2fwww.longmontcolorado.gov%2fnews%2f-npage-2%26title%3D\" + shareTitle + \"%26notes%3D%26tags%3D%26v%3D4%26noui%3D%26share%3Dyes%26jump%3Dclose%26time%3D1239993443\";\\r\\n                        break;\\r\\n                    case \"myspace\":\\r\\n                        shareUrl = \"http://www.myspace.com/Modules/PostTo/Pages/?u=https%3a%2f%2fwww.longmontcolorado.gov%2fnews%2f-npage-2&t=\" + shareTitle + \"&c=\";\\r\\n                        break;\\r\\n                    case \"googlebookmark\":\\r\\n                        shareUrl = \"http://www.google.com/bookmarks/mark?op=add&bkmk=https%3a%2f%2fwww.longmontcolorado.gov%2fnews%2f-npage-2&title=\" + shareTitle;\\r\\n                        break;\\r\\n                    case \"stumbleupon\":\\r\\n                        shareUrl = \"http://www.stumbleupon.com/submit?url=https%3a%2f%2fwww.longmontcolorado.gov%2fnews%2f-npage-2&title=\" + shareTitle;\\r\\n                        break;\\r\\n                    case \"digg\":\\r\\n                        shareUrl = \"http://digg.com/submit/?url=https%3a%2f%2fwww.longmontcolorado.gov%2fnews%2f-npage-2\";\\r\\n                        break;\\r\\n                    case \"tumblr\":\\r\\n                        shareUrl = \"https://www.tumblr.com/share/link?url=https%3a%2f%2fwww.longmontcolorado.gov%2fnews%2f-npage-2&name=\" + shareTitle;\\r\\n                        break;\\r\\n                    case \"reddit\":\\r\\n                        shareUrl = \"http://www.reddit.com/submit?url=https%3a%2f%2fwww.longmontcolorado.gov%2fnews%2f-npage-2&title=\" + shareTitle;\\r\\n                        break;\\r\\n                }\\r\\n                if (shareUrl.length > 0) window.open(shareUrl, \"_blank\");\\r\\n            }\\r\\n        </script>\\r\\n        <div id=\"share\">\\r\\n            <a class=\"sharelink\" href=\"javascript:void(0);\" title=\"Click to expand Share & Bookmark options\" aria-haspopup=\"true\" aria-expanded=\"false\" aria-labelledby=\"share-desciption\">Share & Bookmark</a>\\r\\n            <span id=\"share-desciption\" class=\"wcag_only\" >Press Enter to show all options, press Tab go to next option</span>\\r\\n            <ul class=\"no_external_url_indication\">\\r\\n                <li>\\r\\n                    \\r\\n                    <a title=\"Click to submit an email online\" href=\"javascript:void(0);\" class=\"shareemail send_share_email\">Email</a>\\r\\n                    \\r\\n                </li>\\r\\n                <li><a title=\"Click to share with Facebook\" href=\"javascript:shareLink(\\'facebook\\')\" class=\"sharefacebook\">Facebook</a></li>\\r\\n                \\r\\n                <li><a title=\"Click to share with LinkedIn\" href=\"javascript:shareLink(\\'linkedin\\')\" class=\"sharelinkedin\">LinkedIn</a></li>\\r\\n                <li><a title=\"Click to share with Twitter\" href=\"javascript:shareLink(\\'twitter\\')\" class=\"sharetwitter\">Twitter</a></li>\\r\\n                \\r\\n                \\r\\n                \\r\\n                \\r\\n                \\r\\n                \\r\\n                <li><a title=\"Click to share with Reddit\" href=\"javascript:shareLink(\\'reddit\\')\" class=\"sharereddit\">Reddit</a></li>\\r\\n            </ul>\\r\\n        </div>\\r\\n        \\r\\n        <div class=\"font_size\">\\r\\n            <a href=\"javascript:void(0);\" title=\"default font size\" class=\"text_size\">Font Size:</a>\\r\\n            <a href=\"javascript:void(0);\" title=\"larger font size\" class=\"font_larger\">+</a>\\r\\n            <a href=\"javascript:void(0);\" title=\"smaller font size\" class=\"font_smaller\">-</a>\\r\\n        </div>\\r\\n        \\r\\n    </div>\\r\\n    <!--startindex-->\\r\\n\\r\\n    \\r\\n</header>\\r\\n<script type=\"text/javascript\">\\r\\n    $(function () {\\r\\n        var widgetContext = \"widget_39_4219_13\";\\r\\n\\r\\n        $(\"#\" + widgetContext + \" #share\").click(function () {\\r\\n            if (!$(\"#\" + widgetContext + \" div#share\").hasClass(\"click-active\"))\\r\\n                $(\"#\" + widgetContext + \" div#share\").find(\"ul\").show();\\r\\n            else\\r\\n                $(\"#\" + widgetContext + \" div#share\").find(\"ul\").hide();\\r\\n        });\\r\\n\\r\\n        $(\"div\").click(function () {\\r\\n            if ($(\"#\" + widgetContext + \" div#share\").hasClass(\"click-active\")) {\\r\\n                $(\"#\" + widgetContext + \" div#share\").find(\"ul\").hide();\\r\\n            }\\r\\n        });\\r\\n\\r\\n        $(document).click(function (e) {\\r\\n            if (!$(e.target).closest(\"#share\").length > 0) {\\r\\n                $(\"#\" + widgetContext + \" div#share\").removeClass(\"click-active\");\\r\\n                $(\"#\" + widgetContext + \" div#share\").find(\"ul\").hide();\\r\\n            }\\r\\n        });\\r\\n\\r\\n        var shareContainerTimeout = null;\\r\\n        $(\"#\" + widgetContext + \" #share\").bind(\\'mouseover\\', function () {\\r\\n            //If not relate to click event\\r\\n            if (shareContainerTimeout) {\\r\\n                clearTimeout(shareContainerTimeout);\\r\\n                shareContainerTimeout = null;\\r\\n            }\\r\\n            shareContainerTimeout = setTimeout(function () {\\r\\n                if (!$(\"#\" + widgetContext + \" div#share\").hasClass(\"click-active\"))\\r\\n                    $(\"#\" + widgetContext + \" div#share\").find(\"ul\").show();\\r\\n            }, 100);\\r\\n        });\\r\\n\\r\\n        $(\"#\" + widgetContext + \" #share\").bind(\\'mouseleave\\', function () {            \\r\\n            //If not relate to click event     \\r\\n            if (shareContainerTimeout) {\\r\\n                clearTimeout(shareContainerTimeout);\\r\\n                shareContainerTimeout = null;\\r\\n            }\\r\\n            shareContainerTimeout = setTimeout(function () {\\r\\n                if (!$(\"#\" + widgetContext + \" div#share\").hasClass(\"click-active\"))\\r\\n                    $(\"#\" + widgetContext + \" div#share\").find(\"ul\").hide();\\r\\n            }, 200);\\r\\n        });\\r\\n\\r\\n        $(\"header#\" + widgetContext + \" a.feedback_link\").click(function () {\\r\\n            var windowHeight = 485;\\r\\n            if (window.innerWidth <= 648) {\\r\\n                windowHeight = 545;\\r\\n            }\\r\\n            var opts = {\\r\\n                title: \"Feedback\",\\r\\n                url: \"/Template/GetFeedbackPartial?feedbackUrl=https%3a%2f%2fwww.longmontcolorado.gov%2fnews%2f-npage-2\",\\r\\n                useFrame: true,\\r\\n                height: windowHeight,\\r\\n                onClosed: function (result) {\\r\\n                    if (result != undefined && result.IsOk == true) {\\r\\n                        $.refreshTempMessage(result.Message);\\r\\n                    }\\r\\n                },\\r\\n                skin: \\'viClientDialog feedback_lightbox\\',\\r\\n                fixed: false\\r\\n            };\\r\\n            $.viClientDialog(opts).open();\\r\\n        });\\r\\n\\r\\n        //Safari iOS: No click event\\r\\n        $(\"header#\" + widgetContext + \" a.send_share_email\").bind(\"click touchstart\", function () {\\r\\n            var shareEmailTitle = document.itemTitle ? encodeURIComponent(document.itemTitle.trim()).replace(/[!\\'()*]/g, escape) : \"Citywide+News\";\\r\\n            var opts = {\\r\\n                title: \"Click to submit an email online\",\\r\\n                url: \"/Template/GetShareEmailPartial?shareUrl=https%3a%2f%2fwww.longmontcolorado.gov%2fnews%2f-npage-2\" + \"&shareTitle=\" + shareEmailTitle,\\r\\n                useFrame: true,\\r\\n                height: 485,\\r\\n                onClosed: function (result) {\\r\\n                    if (result != undefined && result.IsOk == true) {\\r\\n                        $.refreshTempMessage(result.Message);\\r\\n                    }\\r\\n                },\\r\\n                skin: \\'viClientDialog send_share_email_lightbox\\',\\r\\n                fixed: false\\r\\n            };\\r\\n            $.viClientDialog(opts).open();\\r\\n        });\\r\\n\\r\\n        \\r\\n\\r\\n    });\\r\\n</script>\\r\\n\\r\\n            <!--!!WidgetEnd-->\\r\\n\\r\\n    <!--!!WidgetStart, vi-orderdata=\"0\"  vi-hideonmobile=\"false\" vi-widgetinstancedata=\"40\"WidgetStart!!-->    \\r\\n<div id=\\'widget_40_1411_13\\' class=\\'content_area normal_content_area clearfix  \\'><p>We have a wide variety of news items and they are displayed below initially by the most recent date first, but if you prefer, you can sort them by Category and/or Departments.</p>\\r\\n<p><strong>Subscribe:</strong> To receive an email of news items that we send out to our subscribers, sign-up for our News <a href=\"/online-services/e-notification-subscription\">eNotifications</a> and choose the news categories that you are interested in receiving. </p>\\r\\n<p><strong>Archived News:</strong> News that was published three (3) months or longer will appear in the Archived News area. The link is directly below the drop-down menus.</p></div>\\r\\n            <!--!!WidgetEnd-->\\r\\n\\r\\n    <!--!!WidgetStart, vi-orderdata=\"0\"  vi-hideonmobile=\"false\" vi-widgetinstancedata=\"41\"WidgetStart!!-->    \\r\\n<div class=\" news_widget content_area clearfix\"><div class=\"list-filter\"><select id=\"newscats_41_4867_13\" name=\"newscats_41_4867_13\" onchange=\"return RedirectAfterDropDownListSelectedChanged(this);\" title=\"Categories\"><option data-url=\"/news/-npage-2\" value=\"\">(All Categories)</option>\\r\\n<option data-url=\"/news/-npage-2/-selcat-166\" value=\"166\">City Emergency Alert</option>\\r\\n<option data-url=\"/news/-npage-2/-selcat-3\" value=\"3\">Community News</option>\\r\\n<option data-url=\"/news/-npage-2/-selcat-185\" value=\"185\">Coronavirus Updates</option>\\r\\n<option data-url=\"/news/-npage-2/-selcat-187\" value=\"187\">En espa&#241;ol</option>\\r\\n<option data-url=\"/news/-npage-2/-selcat-5\" value=\"5\">Events</option>\\r\\n<option data-url=\"/news/-npage-2/-selcat-4\" value=\"4\">Job Alerts</option>\\r\\n<option data-url=\"/news/-npage-2/-selcat-154\" value=\"154\">Library News</option>\\r\\n<option data-url=\"/news/-npage-2/-selcat-7\" value=\"7\">News Releases</option>\\r\\n<option data-url=\"/news/-npage-2/-selcat-141\" value=\"141\">NextLight Broadband</option>\\r\\n<option data-url=\"/news/-npage-2/-selcat-178\" value=\"178\">Sustainability</option>\\r\\n<option data-url=\"/news/-npage-2/-selcat-10\" value=\"10\">Traffic and Road Closures</option>\\r\\n<option data-url=\"/news/-npage-2/-selcat-91\" value=\"91\">West Nile</option>\\r\\n</select><select id=\"newsdepts_41_4867_13\" name=\"newsdepts_41_4867_13\" onchange=\"return RedirectAfterDropDownListSelectedChanged(this);\" title=\"Departments\"><option data-url=\"/news/-npage-2\" value=\"\">(All Departments)</option>\\r\\n<option data-url=\"/news/-npage-2/-seldept-1\" value=\"1\">About Longmont</option>\\r\\n<option data-url=\"/news/-npage-2/-seldept-2\" value=\"2\">Airport</option>\\r\\n<option data-url=\"/news/-npage-2/-seldept-4\" value=\"4\">Boards</option>\\r\\n<option data-url=\"/news/-npage-2/-seldept-3\" value=\"3\">Building Inspection</option>\\r\\n<option data-url=\"/news/-npage-2/-seldept-5\" value=\"5\">Callahan</option>\\r\\n<option data-url=\"/news/-npage-2/-seldept-6\" value=\"6\">CDBG</option>\\r\\n<option data-url=\"/news/-npage-2/-seldept-11\" value=\"11\">Children, Youth and Families</option>\\r\\n<option data-url=\"/news/-npage-2/-seldept-7\" value=\"7\">City Attorney</option>\\r\\n<option data-url=\"/news/-npage-2/-seldept-9\" value=\"9\">City Clerks Office</option>\\r\\n<option data-url=\"/news/-npage-2/-seldept-10\" value=\"10\">City Manager</option>\\r\\n<option data-url=\"/news/-npage-2/-seldept-25\" value=\"25\">Community Health and Resilience</option>\\r\\n<option data-url=\"/news/-npage-2/-seldept-12\" value=\"12\">Community Neighborhood Resources</option>\\r\\n<option data-url=\"/news/-npage-2/-seldept-13\" value=\"13\">Community Services</option>\\r\\n<option data-url=\"/news/-npage-2/-seldept-8\" value=\"8\">Council</option>\\r\\n<option data-url=\"/news/-npage-2/-seldept-14\" value=\"14\">Court</option>\\r\\n<option data-url=\"/news/-npage-2/-seldept-43\" value=\"43\">Development Services</option>\\r\\n<option data-url=\"/news/-npage-2/-seldept-44\" value=\"44\">Dispatch</option>\\r\\n<option data-url=\"/news/-npage-2/-seldept-15\" value=\"15\">Economic Development</option>\\r\\n<option data-url=\"/news/-npage-2/-seldept-41\" value=\"41\">Environment</option>\\r\\n<option data-url=\"/news/-npage-2/-seldept-48\" value=\"48\">ETS Training</option>\\r\\n<option data-url=\"/news/-npage-2/-seldept-46\" value=\"46\">External Services</option>\\r\\n<option data-url=\"/news/-npage-2/-seldept-17\" value=\"17\">Finance</option>\\r\\n<option data-url=\"/news/-npage-2/-seldept-18\" value=\"18\">Fire</option>\\r\\n<option data-url=\"/news/-npage-2/-seldept-40\" value=\"40\">Forestry</option>\\r\\n<option data-url=\"/news/-npage-2/-seldept-19\" value=\"19\">GIS</option>\\r\\n<option data-url=\"/news/-npage-2/-seldept-20\" value=\"20\">Golf</option>\\r\\n<option data-url=\"/news/-npage-2/-seldept-21\" value=\"21\">Human Resources</option>\\r\\n<option data-url=\"/news/-npage-2/-seldept-16\" value=\"16\">Information Technology</option>\\r\\n<option data-url=\"/news/-npage-2/-seldept-22\" value=\"22\">Library</option>\\r\\n<option data-url=\"/news/-npage-2/-seldept-23\" value=\"23\">LPC</option>\\r\\n<option data-url=\"/news/-npage-2/-seldept-24\" value=\"24\">Museum</option>\\r\\n<option data-url=\"/news/-npage-2/-seldept-26\" value=\"26\">Parks, Open Space and Trails</option>\\r\\n<option data-url=\"/news/-npage-2/-seldept-27\" value=\"27\">Planning and Development Services</option>\\r\\n<option data-url=\"/news/-npage-2/-seldept-28\" value=\"28\">Police</option>\\r\\n<option data-url=\"/news/-npage-2/-seldept-29\" value=\"29\">Probation</option>\\r\\n<option data-url=\"/news/-npage-2/-seldept-42\" value=\"42\">Public Information</option>\\r\\n<option data-url=\"/news/-npage-2/-seldept-47\" value=\"47\">Public Safety</option>\\r\\n<option data-url=\"/news/-npage-2/-seldept-39\" value=\"39\">Public Works &amp; Natural Resources</option>\\r\\n<option data-url=\"/news/-npage-2/-seldept-31\" value=\"31\">Purchasing</option>\\r\\n<option data-url=\"/news/-npage-2/-seldept-32\" value=\"32\">Recreation</option>\\r\\n<option data-url=\"/news/-npage-2/-seldept-33\" value=\"33\">Risk</option>\\r\\n<option data-url=\"/news/-npage-2/-seldept-34\" value=\"34\">Sandstone Ranch</option>\\r\\n<option data-url=\"/news/-npage-2/-seldept-35\" value=\"35\">Senior Services</option>\\r\\n<option data-url=\"/news/-npage-2/-seldept-45\" value=\"45\">Shared Services</option>\\r\\n<option data-url=\"/news/-npage-2/-seldept-30\" value=\"30\">Transportation</option>\\r\\n<option data-url=\"/news/-npage-2/-seldept-36\" value=\"36\">Trash and Recycling</option>\\r\\n<option data-url=\"/news/-npage-2/-seldept-37\" value=\"37\">Utility Billing</option>\\r\\n<option data-url=\"/news/-npage-2/-seldept-38\" value=\"38\">Water</option>\\r\\n</select><br/><a href=\"/news/-npage-2/-arch-1\" class=\"filter-archive\">Archived News</a></div><ul class=\"list-main clearfix\"><li ><div class=\"item-img\"><img class=\"item-img\" src=\"/Home/ShowPublishedImage/24677/637262697380030000\" alt=\"Tree City USA 40th anniversary logo\"/></div><h2><a class=\"item-title\" href=\"/Home/Components/News/News/11002/3?npage=2\">40th Anniversary of Tree City USA for Longmont</a></h2><p class=\"item-intro\">During the past 40 years, the residents of Longmont have supported the growth and maintenance of our urban forest. The urban forest helps to clean the air we breathe, shade the homes we live in, reduce our energy bills for cooling, and helps define Longmont as a home. </p><p class=\"item-date\">05/28/2020 1:50 PM</p></li><li ><div class=\"item-img\"><img class=\"item-img\" src=\"/Home/ShowPublishedImage/5647/635515778412870000\" alt=\"Restaurant with young couple and menus\"/></div><h2><a class=\"item-title\" href=\"/Home/Components/News/News/10998/3?npage=2\">Longmont Prepared to Help Restaurants to Reopen Under Pandemic Guidelines</a></h2><p class=\"item-intro\">The City of Longmont and its economic development partners have developed an expedited process for reopening local restaurants based on new health and safety guidelines released by Governor Jared Polis.</p><p class=\"item-date\">05/27/2020 8:33 AM</p></li><li ><div class=\"item-img\"><img class=\"item-img\" src=\"/Home/ShowPublishedImage/5647/635515778412870000\" alt=\"Restaurant with young couple and menus\"/></div><h2><a class=\"item-title\" href=\"/Home/Components/News/News/11000/3?npage=2\">Longmont est&#225; preparada para ayudar a los restaurantes a reabrir seg&#250;n las pautas de la pandemia</a></h2><p class=\"item-intro\">De acuerdo a las regulaciones estatales actualizadas, se permitir\\xc3\\xa1 que los restaurantes abran para el consumo de alimentos y bebidas alcoh\\xc3\\xb3licas en el local, y para proporcionar \\xc3\\xa1reas para sentarse al aire libre que promuevan el distanciamiento social.</p><p class=\"item-date\">05/27/2020 8:00 AM</p></li><li ><div class=\"item-img\"><img class=\"item-img\" src=\"/Home/ShowPublishedImage/23497/637227302781230000\" alt=\"This Week in Longmont-Get the latest information about events and news happening this week in Longmont\"/></div><h2><a class=\"item-title\" href=\"/Home/Components/News/News/10994/3?npage=2\">This Week in Longmont - May 22, 2020</a></h2><p class=\"item-intro\">See the latest news and events happening in Longmont.</p><p class=\"item-date\">05/21/2020 9:49 PM</p></li><li ><div class=\"item-img\"><img class=\"item-img\" src=\"/Home/ShowPublishedImage/24543/637239462535330000\" alt=\"City of Longmont Colorado\"/></div><h2><a class=\"item-title\" href=\"/Home/Components/News/News/11004/3?npage=2\">La Ciudad anuncia aperturas de edificios, tiendas para profesionales de golf y campos de pr&#225;ctica de golf, biblioteca (solo en la acera)</a></h2><p class=\"item-intro\">A partir del lunes 1 de junio, la Ciudad de Longmont reabrir\\xc3\\xa1 el Centro C\\xc3\\xadvico, el Centro de Servicios de Desarrollo, el Centro de Servicios y la Corte Municipal para servicios limitados a los residentes.</p><p class=\"item-date\">05/21/2020 4:30 PM</p></li><li ><div class=\"item-img\"><img class=\"item-img\" src=\"/Home/ShowPublishedImage/17603/636559283183300000\" alt=\"Heron standing in lake surrounded by grasses\"/></div><h2><a class=\"item-title\" href=\"/Home/Components/News/News/10990/3?npage=2\">Union Reservoir Season Passes On Sale For Residents, Daily Passes Available For All</a></h2><p class=\"item-intro\">Longmont residents now may purchase season passes to Union Reservoir online. </p><p class=\"item-date\">05/20/2020 4:00 PM</p></li><li ><div class=\"item-img\"><img class=\"item-img\" src=\"/Home/ShowPublishedImage/24633/637254951996430000\" alt=\"MedicareBasics_1080px\"/></div><h2><a class=\"item-title\" href=\"/Home/Components/News/News/10986/3?npage=2\">Medicare Basics offered virtually in May and June</a></h2><p class=\"item-intro\">Choose from a virtual evening option on Tuesday May 26th, or connect during the daytime on Monday, June 15th to get your Medicare questions answered. </p><p class=\"item-date\">05/20/2020 8:00 AM</p></li><li ><div class=\"item-img\"><img class=\"item-img\" src=\"/Home/ShowPublishedImage/2486/635369605091670000\" alt=\"Loomiller Park Disc Golf\"/></div><h2><a class=\"item-title\" href=\"/Home/Components/News/News/10996/3?npage=2\">Los servicios comienzan a reabrir en los parques de Longmont</a></h2><p class=\"item-intro\">Estas regulaciones est\\xc3\\xa1n de acuerdo con la Orden del Gobernador Jared Polis conocida como \\xe2\\x80\\x9cM\\xc3\\xa1s seguros en casa\\xe2\\x80\\x9d y las pautas de Salud P\\xc3\\xbablica del Condado de Boulder. Algunos servicios espec\\xc3\\xadficos pueden tener requisitos adicionales para su uso seguro.</p><p class=\"item-date\">05/18/2020 5:30 PM</p></li><li ><div class=\"item-img\"><img class=\"item-img\" src=\"/Home/ShowPublishedImage/23213/637199826038600000\" alt=\"city logo, thumbnail\"/></div><h2><a class=\"item-title\" href=\"/Home/Components/News/News/10984/3?npage=2\">Amenities Begin Reopening in Longmont Parks</a></h2><p class=\"item-intro\">Several City of Longmont park amenities are reopening with specific requirements in place for public health and safety.</p><p class=\"item-date\">05/18/2020 5:13 PM</p></li><li ><div class=\"item-img\"><img class=\"item-img\" src=\"/Home/ShowPublishedImage/15358/636281236089330000\" alt=\"Blue garbage truck icon with white arrow on side\"/></div><h2><a class=\"item-title\" href=\"/Home/Components/News/News/10982/3?npage=2\">Waste Services Unveils Sustainably Fueled Collection Trucks and New Facility to House Them</a></h2><p class=\"item-intro\">Longmont has become the first city along the Front Range to implement a renewable vehicle fuel project.</p><p class=\"item-date\">05/15/2020 2:45 PM</p></li><li ><div class=\"item-img\"><img class=\"item-img\" src=\"/Home/ShowPublishedImage/24611/637251421857130000\" alt=\"Police Memorial Longmont\"/></div><h2><a class=\"item-title\" href=\"/Home/Components/News/News/10980/3?npage=2\">Longmont Peace Officer Memorial</a></h2><p class=\"item-intro\">Peace Officers Memorial Day is held annually in the United States on May 15 in honor of federal, state and local officers killed or disabled in the line of duty. It is observed in conjunction with Police Week. </p><p class=\"item-date\">05/15/2020 12:21 PM</p></li><li ><div class=\"item-img\"><img class=\"item-img\" src=\"/Home/ShowPublishedImage/23497/637227302781230000\" alt=\"This Week in Longmont-Get the latest information about events and news happening this week in Longmont\"/></div><h2><a class=\"item-title\" href=\"/Home/Components/News/News/10978/3?npage=2\">This Week in Longmont - May 15, 2020</a></h2><p class=\"item-intro\">See the latest news and events happening in Longmont.</p><p class=\"item-date\">05/15/2020 10:32 AM</p></li><li ><div class=\"item-img\"><img class=\"item-img\" src=\"/Home/ShowPublishedImage/23495/637227105150130000\" alt=\"Transfort Flex Bus Update Longmontcolorado.com/news\"/></div><h2><a class=\"item-title\" href=\"/Home/Components/News/News/10976/3?npage=2\">Transfort Resumes Partial and Modified FLEX Service Starting Monday, May 18</a></h2><p class=\"item-intro\">Beginning Monday, May 18, Transfort is resuming partial and modified FLEX service after temporarily suspending service levels due to COVID-19. FLEX will resume three (3) round trips between Boulder, Longmont, Loveland, and Fort Collins on weekdays.</p><p class=\"item-date\">05/14/2020 3:30 PM</p></li><li ><div class=\"item-img\"><img class=\"item-img\" src=\"/Home/ShowPublishedImage/2723/635376669257400000\" alt=\"Longmont Museum\"/></div><h2><a class=\"item-title\" href=\"/Home/Components/News/News/10972/3?npage=2\">Longmont Museum Summer Camps Move Online</a></h2><p class=\"item-intro\">Museum will hold virtual summer camps only in 2020; ages 3 \\xe2\\x80\\x93 6, June through July</p><p class=\"item-date\">05/12/2020 1:20 PM</p></li><li ><div class=\"item-img\"><img class=\"item-img\" src=\"/Home/ShowPublishedImage/24573/637248860679900000\" alt=\"Sex Offender Community Notification\"/></div><h2><a class=\"item-title\" href=\"/Home/Components/News/News/10970/3?npage=2\">Sexually Violent Predator (SVP) Community Notification</a></h2><p class=\"item-intro\">Colorado Law requires police departments to publicly share information about parties determined to be \\xe2\\x80\\x9cSexually Violent Predators\\xe2\\x80\\x9d. This post is part of that compliance.</p><p class=\"item-date\">05/12/2020 11:52 AM</p></li><li ><div class=\"item-img\"><img class=\"item-img\" src=\"/Home/ShowPublishedImage/24553/637245472270600000\" alt=\"group violating social distancing at Union Reservoir beach\"/></div><h2><a class=\"item-title\" href=\"/Home/Components/News/News/10964/3?npage=2\">City Closes Union Reservoir Swim and Dog Beaches, Fishing Pier</a></h2><p class=\"item-intro\">The swim beach, dog beach and fishing pier at Union Reservoir will no longer be open for use beginning Saturday. The closures are a result of large groups not following the social distancing requirements of the statewide Safer-at-Home order.</p><p class=\"item-date\">05/08/2020 4:00 PM</p></li><li ><div class=\"item-img\"><img class=\"item-img\" src=\"/Home/ShowPublishedImage/24557/637245493284770000\" alt=\"Strongmont Fund\"/></div><h2><a class=\"item-title\" href=\"/Home/Components/News/News/10966/3?npage=2\">Longmont businesses urged to take assessment to determine impact, future needs</a></h2><p class=\"item-intro\">We know many Longmont businesses have been deeply impacted by the COVID-19 pandemic. The City, as a partner of the COVID-19 Business Response Team, is asking businesses to share information to help us gain a deeper understanding of the citywide magnitude of economic losses and financial needs. </p><p class=\"item-date\">05/08/2020 3:47 PM</p></li><li ><div class=\"item-img\"><img class=\"item-img\" src=\"/Home/ShowPublishedImage/24557/637245493284770000\" alt=\"Strongmont Fund\"/></div><h2><a class=\"item-title\" href=\"/Home/Components/News/News/10968/3?npage=2\">Se insta a las empresas de Longmont a realizar una evaluaci&#243;n para determinar el impacto y las necesidades futuras</a></h2><p class=\"item-intro\">El BRT pide que los negocios compartan m\\xc3\\xa1s informaci\\xc3\\xb3n detallada sobre su situaci\\xc3\\xb3n para poder mejor entender la magnitud de esta crisis econ\\xc3\\xb3mica, las p\\xc3\\xa9rdidas que han sufrido como resultado de ella, y sus necesidades financieras reales. </p><p class=\"item-date\">05/08/2020 3:00 PM</p></li><li ><div class=\"item-img\"><img class=\"item-img\" src=\"/Home/ShowPublishedImage/23497/637227302781230000\" alt=\"This Week in Longmont-Get the latest information about events and news happening this week in Longmont\"/></div><h2><a class=\"item-title\" href=\"/Home/Components/News/News/10962/3?npage=2\">This Week in Longmont - May 8, 2020</a></h2><p class=\"item-intro\">See the latest news and events happening in Longmont.</p><p class=\"item-date\">05/08/2020 9:00 AM</p></li><li ><div class=\"item-img\"><img class=\"item-img\" src=\"/Home/ShowPublishedImage/24551/637243695557300000\" alt=\"Social Security 101\"/></div><h2><a class=\"item-title\" href=\"/Home/Components/News/News/10959/3?npage=2\">VIRTUAL Social Security 101 webinar</a></h2><p class=\"item-intro\">Join us Friday, May 15 from 10:30a-12p for a free Social Security 101 webinar for pre-retirees. </p><p class=\"item-date\">05/07/2020 12:30 PM</p></li></ul>\\r\\n<div id=\"NewsWidgetPager\" class=\"list-pager\">\\r\\n    <a class=\"pg-normal pg-button pg-first-button\" href=\"/news\"> &#171; First </a>\\r\\n    <a class=\"pg-normal pg-button pg-prev-button\" href=\"/news\"> &#171; Prev </a>\\r\\n     \\r\\n    |\\r\\n    <a class=\"pg-normal\" href=\"/news\">1</a>\\r\\n     \\r\\n    |\\r\\n    <a class=\"pg-selected\">2</a>\\r\\n     \\r\\n    |\\r\\n    <a class=\"pg-normal\" href=\"/news/-npage-3\">3</a>\\r\\n     \\r\\n    |\\r\\n    <a class=\"pg-normal\" href=\"/news/-npage-4\">4</a>\\r\\n     \\r\\n    |\\r\\n    <a class=\"pg-normal\" href=\"/news/-npage-5\">5</a>\\r\\n     \\r\\n    |\\r\\n    <a class=\"pg-normal\" href=\"/news/-npage-6\">...</a>\\r\\n    <a class=\"pg-normal pg-button pg-next-button\" href=\"/news/-npage-3\"> Next &#187; </a>\\r\\n    <a class=\"pg-normal pg-button pg-next-button\" href=\"/news/-npage-7\"> Last &#187; </a>\\r\\n    \\r\\n    <span class=\"pager-info\">\\r\\n        21 - 40 of 129 items\\r\\n    </span>\\r\\n</div>\\r\\n</div>\\r\\n            <!--!!WidgetEnd-->\\r\\n\\r\\n    \\r\\n</div>\\r\\n\\r\\n</div> \\r\\n\\r\\n        <!--stopindex-->\\r\\n        <div id=\"mobile_nav\" class=\"mobile_only\">\\r\\n            <h2 class=\"mobile_header\">Navigation</h2>\\r\\n            <ul>\\r\\n                \\r\\n                <li><a title=\"Home\" href=\"/home\">Home</a></li>\\r\\n                \\r\\n                <li><a title=\"News\" href=\"/news\">News</a></li>\\r\\n                \\r\\n                <li><a title=\"Community\" href=\"/community\">Community</a></li>\\r\\n                \\r\\n                <li><a title=\"Business Resources\" href=\"/business-resources\">Business Resources</a></li>\\r\\n                \\r\\n                <li><a title=\"Online Services\" href=\"/online-services\">Online Services</a></li>\\r\\n                \\r\\n                <li><a title=\"Departments\" href=\"/departments\">Departments</a></li>\\r\\n                \\r\\n                <li><a title=\"I want to...\" href=\"/i-want-to-\">I want to...</a></li>\\r\\n                \\r\\n                <li><a title=\"Sitemap\" href=\"/online-services/sitemap\">Sitemap</a></li>\\r\\n                <li><a title=\"Contact\" href=\"/online-services/contact-city-staff\">Contact</a></li>\\r\\n                <li><a title=\"Translate\" href=\"http://translate.google.com/translate?js=y&prev=_t&hl=en&ie=UTF-8&layout=1&eotf=1&sl=en&tl=es&u=https%3a%2f%2fwww.longmontcolorado.gov%2fnews%2f-npage-2\">Translate this Page</a></li>\\r\\n            </ul>\\r\\n        </div>\\r\\n        <!--startindex-->\\r\\n        \\r\\n\\r\\n    </div>\\r\\n        <footer id=\"page_footer\" class=\"\">\\r\\n            <!--stopindex-->\\r\\n            \\r\\n<div id=\"footercolumn\" class=\"site_template_column  footer_column   \" >\\r\\n  \\r\\n\\r\\n<div class=\"footer_nav\">\\r\\n\\t<ul>\\r\\n\\t\\t\\t<li><a href=\"/news\" target=\"_self\">News</a></li>\\r\\n\\t\\t\\t<li><a href=\"/community\" target=\"_self\">Community</a></li>\\r\\n\\t\\t\\t<li><a href=\"/business-resources\" target=\"_self\">Business Resources</a></li>\\r\\n\\t\\t\\t<li><a href=\"/online-services\" target=\"_self\">Online Services</a></li>\\r\\n\\t\\t\\t<li><a href=\"/departments\" target=\"_self\">Departments</a></li>\\r\\n\\t\\t\\t<li><a href=\"/i-want-to-\" target=\"_self\">I Want to...</a></li>\\r\\n\\t\\t\\t<li><a href=\"/sys/SSO/login\" target=\"_self\">Customer Login</a></li>\\r\\n\\t\\t\\t<li><a href=\"https://mss.longmontcolorado.gov/ess\" target=\"_blank\">Employee Login</a></li>\\r\\n\\t\\t\\t<li><a href=\"/community/about-longmont/accessibility-and-quality-assurance\" target=\"_self\">Accessibility/ADA</a></li>\\r\\n\\t\\t\\t<li><a href=\"/community/about-longmont/terms-of-use-and-privacy-policy\" target=\"_self\">Terms of Use</a></li>\\r\\n\\t\\t\\t<li><a href=\"/community/about-longmont/advanced-components/site-map\" target=\"_self\">Site Map</a></li>\\r\\n\\t</ul>\\r\\n</div>\\r\\n            \\r\\n  \\r\\n<div class=\"footer_seal\">\\r\\n\\t\\r\\n</div>\\r\\n            \\r\\n\\r\\n\\r\\n<div class=\"social_icons\">\\r\\n\\r\\n\\t\\t\\t\\t<a href=\"/news/social-media\" target=\"_self\" title=\"\">\\r\\n\\t\\t\\t\\t\\t<img src=\"/Home/ShowPublishedImage/242/635296221880070000\" alt=\"facebook\" />\\r\\n\\t\\t\\t\\t</a>\\r\\n\\t\\t\\t\\t<a href=\"/news/social-media\" target=\"_self\" title=\"\">\\r\\n\\t\\t\\t\\t\\t<img src=\"/Home/ShowPublishedImage/252/635296221896300000\" alt=\"twitter\" />\\r\\n\\t\\t\\t\\t</a>\\r\\n\\t\\t\\t\\t<a href=\"/news/social-media\" target=\"_self\" title=\"\">\\r\\n\\t\\t\\t\\t\\t<img src=\"/Home/ShowPublishedImage/248/635296221889600000\" alt=\"linkq\" />\\r\\n\\t\\t\\t\\t</a>\\r\\n\\t\\t\\t\\t<a href=\"/news/social-media\" target=\"_self\" title=\"\">\\r\\n\\t\\t\\t\\t\\t<img src=\"/Home/ShowPublishedImage/254/635296221899730000\" alt=\"youtube\" />\\r\\n\\t\\t\\t\\t</a>\\r\\n\\t\\t\\t\\t<a href=\"/departments/departments-n-z/public-information/all-america-city-award\" target=\"_self\" title=\"\">\\r\\n\\t\\t\\t\\t\\t<img src=\"/Home/ShowPublishedImage/19287/636657002749500000\" alt=\"All-America City Award\" />\\r\\n\\t\\t\\t\\t</a>\\r\\n</div>\\r\\n\\r\\n<script type=\"text/javascript\">\\r\\nsetTimeout(function(){var a=document.createElement(\"script\");\\r\\nvar b=document.getElementsByTagName(\"script\")[0];\\r\\na.src=document.location.protocol+\"//dnn506yrbagrg.cloudfront.net/pages/scripts/0004/0456.js?\"+Math.floor(new Date().getTime()/3600000);\\r\\na.async=true;a.type=\"text/javascript\";b.parentNode.insertBefore(a,b)}, 1);\\r\\n</script>\\r\\n            \\r\\n\\r\\n                <!--stopindex-->\\r\\n                  \\r\\n\\r\\n\\r\\n<p class=\"footer_copyright\"><span>350 Kimbark St., Longmont, CO, 80501 USA | (303) 776-6050 | <a href=\"https://mss.longmontcolorado.gov/ess\" target=\"_blank\">Employee Login</a><br>\\r\\n</span>  \\xc2\\xa9 2020 City of Longmont, Colorado | <a href=\"https://granicus.com/government-website-design?utm_source=customer&utm_medium=footer&utm_campaign=govAccesswebsite\">Website Design by Granicus</a></p>\\r\\n\\r\\n\\r\\n\\r\\n                <!--startindex-->\\r\\n            \\r\\n\\r\\n</div>\\r\\n\\r\\n            <!--startindex-->\\r\\n        </footer>\\r\\n        <div id=\"view-options\"><a href=\"javascript:void(0);\" id=\"view-full\" onclick=\"viewfullsite()\" class=\"mobile_only\">View Full Site</a></div>\\r\\n    </div>\\r\\n\\r\\n    \\r\\n    <script>\\r\\n        $(function () {\\r\\n            $(\".reComment[comment]\").removeClass(\"reComment\")\\r\\n                                    .removeAttr(\"comment\")\\r\\n                                    .removeAttr(\"author\")\\r\\n                                    .removeAttr(\"title\")\\r\\n                                    .removeAttr(\"timestamp\");\\r\\n        })\\r\\n    </script>\\r\\n    \\r\\n\\r\\n    \\r\\n\\r\\n    <script src=\"/Scripts/ScriptBundleVisionFrontend.jsbnd?v=HJSpzzso87UZtSEiRwap4uKVJvO1kSJn-JRPKVzmbHg1\"></script>\\r\\n\\r\\n\\r\\n    <script>\\r\\nvar CludoSearch;\\r\\n(function () {\\r\\n    if (document.getElementsByClassName(\\'mainSpan_wrapper_home\\').length) {\\r\\n        console.log(\"homepage\")\\r\\n    var cludoSettings = {\\r\\n        customerId: 10000595,\\r\\n        engineId: 10000890,\\r\\n        searchUrl: \\'https://www.longmontcolorado.gov/online-services/search-results-5923\\',\\r\\n        language: \\'en\\',\\r\\n        searchInputs: [\\'home-search-form\\'],\\r\\n        type: \\'inline\\'\\r\\n    };\\r\\n} else {\\r\\n    console.log(\"interior\")\\r\\n    var cludoSettings = {\\r\\n        customerId: 10000595,\\r\\n        engineId: 10000890,\\r\\n        searchUrl: \\'https://www.longmontcolorado.gov/online-services/search-results-5923\\',\\r\\n        language: \\'en\\',\\r\\n        searchInputs: [\\'search-box-form\\'],\\r\\n        type: \\'inline\\'\\r\\n    };\\r\\n}\\r\\nCludoSearch= new Cludo(cludoSettings);\\r\\nCludoSearch.init();\\r\\n})();\\r\\n</script>\\r\\n<!--[if lte IE 9]>\\r\\n<script src=\"https://api.cludo.com/scripts/xdomain.js\" slave=\"https://api.cludo.com/proxy.html\" type=\"text/javascript\"></script>\\r\\n<![endif]-->\\r\\n\\r\\n\\r\\n    \\r\\n    <script>\\r\\n        try { manualRenderMobile(); } catch (err) {}\\r\\n    </script>\\r\\n    \\r\\n<!-- Google Tag Manager -->\\r\\n<noscript><iframe src=\"//www.googletagmanager.com/ns.html?id=GTM-T7JG59\"\\r\\nheight=\"0\" width=\"0\" style=\"display:none;visibility:hidden\"></iframe></noscript>\\r\\n<script>(function (w, d, s, l, i) {\\r\\n    w[l] = w[l] || []; w[l].push({\\r\\n        \\'gtm.start\\':\\r\\n        new Date().getTime(), event: \\'gtm.js\\'\\r\\n    }); var f = d.getElementsByTagName(s)[0],\\r\\n    j = d.createElement(s), dl = l != \\'dataLayer\\' ? \\'&l=\\' + l : \\'\\'; j.async = true; j.src =\\r\\n    \\'https://www.googletagmanager.com/gtm.js?id=\\' + i + dl; f.parentNode.insertBefore(j, f);\\r\\n})(window, document, \\'script\\', \\'userDataLayer\\', \\'GTM-T7JG59\\');\\r\\n(function (window) {\\r\\n    var dataLayer = window.userDataLayer = window.userDataLayer || [];\\r\\n    dataLayer.push(\\r\\n        {\"Env\":\"LIVE\",\"SessionID\":\"euaj32igjfsgroqfe1fhch42\",\"Identity\":\"d7d20cb3ffd8458d8de379f8b2f93628\",\"OrganizationName\":\"City of Longmont, Colorado\",\"LoginUser\":\"\",\"LoginUserType\":\"\",\"LoginWebsiteUser\":\"\",\"LoginMember\":\"\"}\\r\\n        );\\r\\n})(window)\\r\\n</script>\\r\\n<!-- End Google Tag Manager -->\\r\\n    \\r\\n    <script src=\"/Scripts/Components/ScriptsFEBundle.jsbnd?v=DfCheCkfQMyVRQ54roqWjDiD8YP5vK1eHdrpyN5Pqmo1\"></script>\\r\\n<script src=\"/Scripts/Engagement/ScriptsFEBundle.jsbnd?v=BlUthUwkVvVI4e6wOGRM1zxh8OrZF4wiWItmf-F-Tss1\"></script>\\r\\n\\r\\n    <script>\\r\\n        $(function() {\\r\\n            var sitewrapper = $(\".sitewrapper\");\\r\\n            if(sitewrapper.length && !sitewrapper.hasClass(\"\")) {\\r\\n                sitewrapper.addClass(\"\");\\r\\n            }          \\r\\n        });\\r\\n    </script>      \\r\\n    \\r\\n\\r\\n    \\r\\n</body>\\r\\n</html>\\r\\n'"
      ]
     },
     "execution_count": 6,
     "metadata": {},
     "output_type": "execute_result"
    }
   ],
   "source": [
    "res.content"
   ]
  },
  {
   "cell_type": "code",
   "execution_count": 7,
   "metadata": {},
   "outputs": [],
   "source": [
    "soup = bs(res.content, 'lxml')"
   ]
  },
  {
   "cell_type": "code",
   "execution_count": 8,
   "metadata": {
    "scrolled": false
   },
   "outputs": [],
   "source": [
    "#print(soup.prettify())"
   ]
  },
  {
   "cell_type": "code",
   "execution_count": 9,
   "metadata": {},
   "outputs": [],
   "source": [
    "#divs = soup.find('a', {'class': 'item-title'})"
   ]
  },
  {
   "cell_type": "code",
   "execution_count": 10,
   "metadata": {},
   "outputs": [],
   "source": [
    "#divs1 = soup.find_all(\"a\", \"item-title\")"
   ]
  },
  {
   "cell_type": "code",
   "execution_count": 11,
   "metadata": {},
   "outputs": [],
   "source": [
    "divs = soup.find('ul', {'class': 'list-main'})"
   ]
  },
  {
   "cell_type": "code",
   "execution_count": 12,
   "metadata": {},
   "outputs": [
    {
     "data": {
      "text/plain": [
       "bs4.element.Tag"
      ]
     },
     "execution_count": 12,
     "metadata": {},
     "output_type": "execute_result"
    }
   ],
   "source": [
    "type(divs)"
   ]
  },
  {
   "cell_type": "code",
   "execution_count": 13,
   "metadata": {},
   "outputs": [
    {
     "name": "stdout",
     "output_type": "stream",
     "text": [
      "<ul class=\"list-main clearfix\">\n",
      " <li>\n",
      "  <div class=\"item-img\">\n",
      "   <img alt=\"Tree City USA 40th anniversary logo\" class=\"item-img\" src=\"/Home/ShowPublishedImage/24677/637262697380030000\"/>\n",
      "  </div>\n",
      "  <h2>\n",
      "   <a class=\"item-title\" href=\"/Home/Components/News/News/11002/3?npage=2\">\n",
      "    40th Anniversary of Tree City USA for Longmont\n",
      "   </a>\n",
      "  </h2>\n",
      "  <p class=\"item-intro\">\n",
      "   During the past 40 years, the residents of Longmont have supported the growth and maintenance of our urban forest. The urban forest helps to clean the air we breathe, shade the homes we live in, reduce our energy bills for cooling, and helps define Longmont as a home.\n",
      "  </p>\n",
      "  <p class=\"item-date\">\n",
      "   05/28/2020 1:50 PM\n",
      "  </p>\n",
      " </li>\n",
      " <li>\n",
      "  <div class=\"item-img\">\n",
      "   <img alt=\"Restaurant with young couple and menus\" class=\"item-img\" src=\"/Home/ShowPublishedImage/5647/635515778412870000\"/>\n",
      "  </div>\n",
      "  <h2>\n",
      "   <a class=\"item-title\" href=\"/Home/Components/News/News/10998/3?npage=2\">\n",
      "    Longmont Prepared to Help Restaurants to Reopen Under Pandemic Guidelines\n",
      "   </a>\n",
      "  </h2>\n",
      "  <p class=\"item-intro\">\n",
      "   The City of Longmont and its economic development partners have developed an expedited process for reopening local restaurants based on new health and safety guidelines released by Governor Jared Polis.\n",
      "  </p>\n",
      "  <p class=\"item-date\">\n",
      "   05/27/2020 8:33 AM\n",
      "  </p>\n",
      " </li>\n",
      " <li>\n",
      "  <div class=\"item-img\">\n",
      "   <img alt=\"Restaurant with young couple and menus\" class=\"item-img\" src=\"/Home/ShowPublishedImage/5647/635515778412870000\"/>\n",
      "  </div>\n",
      "  <h2>\n",
      "   <a class=\"item-title\" href=\"/Home/Components/News/News/11000/3?npage=2\">\n",
      "    Longmont está preparada para ayudar a los restaurantes a reabrir según las pautas de la pandemia\n",
      "   </a>\n",
      "  </h2>\n",
      "  <p class=\"item-intro\">\n",
      "   De acuerdo a las regulaciones estatales actualizadas, se permitirá que los restaurantes abran para el consumo de alimentos y bebidas alcohólicas en el local, y para proporcionar áreas para sentarse al aire libre que promuevan el distanciamiento social.\n",
      "  </p>\n",
      "  <p class=\"item-date\">\n",
      "   05/27/2020 8:00 AM\n",
      "  </p>\n",
      " </li>\n",
      " <li>\n",
      "  <div class=\"item-img\">\n",
      "   <img alt=\"This Week in Longmont-Get the latest information about events and news happening this week in Longmont\" class=\"item-img\" src=\"/Home/ShowPublishedImage/23497/637227302781230000\"/>\n",
      "  </div>\n",
      "  <h2>\n",
      "   <a class=\"item-title\" href=\"/Home/Components/News/News/10994/3?npage=2\">\n",
      "    This Week in Longmont - May 22, 2020\n",
      "   </a>\n",
      "  </h2>\n",
      "  <p class=\"item-intro\">\n",
      "   See the latest news and events happening in Longmont.\n",
      "  </p>\n",
      "  <p class=\"item-date\">\n",
      "   05/21/2020 9:49 PM\n",
      "  </p>\n",
      " </li>\n",
      " <li>\n",
      "  <div class=\"item-img\">\n",
      "   <img alt=\"City of Longmont Colorado\" class=\"item-img\" src=\"/Home/ShowPublishedImage/24543/637239462535330000\"/>\n",
      "  </div>\n",
      "  <h2>\n",
      "   <a class=\"item-title\" href=\"/Home/Components/News/News/11004/3?npage=2\">\n",
      "    La Ciudad anuncia aperturas de edificios, tiendas para profesionales de golf y campos de práctica de golf, biblioteca (solo en la acera)\n",
      "   </a>\n",
      "  </h2>\n",
      "  <p class=\"item-intro\">\n",
      "   A partir del lunes 1 de junio, la Ciudad de Longmont reabrirá el Centro Cívico, el Centro de Servicios de Desarrollo, el Centro de Servicios y la Corte Municipal para servicios limitados a los residentes.\n",
      "  </p>\n",
      "  <p class=\"item-date\">\n",
      "   05/21/2020 4:30 PM\n",
      "  </p>\n",
      " </li>\n",
      " <li>\n",
      "  <div class=\"item-img\">\n",
      "   <img alt=\"Heron standing in lake surrounded by grasses\" class=\"item-img\" src=\"/Home/ShowPublishedImage/17603/636559283183300000\"/>\n",
      "  </div>\n",
      "  <h2>\n",
      "   <a class=\"item-title\" href=\"/Home/Components/News/News/10990/3?npage=2\">\n",
      "    Union Reservoir Season Passes On Sale For Residents, Daily Passes Available For All\n",
      "   </a>\n",
      "  </h2>\n",
      "  <p class=\"item-intro\">\n",
      "   Longmont residents now may purchase season passes to Union Reservoir online.\n",
      "  </p>\n",
      "  <p class=\"item-date\">\n",
      "   05/20/2020 4:00 PM\n",
      "  </p>\n",
      " </li>\n",
      " <li>\n",
      "  <div class=\"item-img\">\n",
      "   <img alt=\"MedicareBasics_1080px\" class=\"item-img\" src=\"/Home/ShowPublishedImage/24633/637254951996430000\"/>\n",
      "  </div>\n",
      "  <h2>\n",
      "   <a class=\"item-title\" href=\"/Home/Components/News/News/10986/3?npage=2\">\n",
      "    Medicare Basics offered virtually in May and June\n",
      "   </a>\n",
      "  </h2>\n",
      "  <p class=\"item-intro\">\n",
      "   Choose from a virtual evening option on Tuesday May 26th, or connect during the daytime on Monday, June 15th to get your Medicare questions answered.\n",
      "  </p>\n",
      "  <p class=\"item-date\">\n",
      "   05/20/2020 8:00 AM\n",
      "  </p>\n",
      " </li>\n",
      " <li>\n",
      "  <div class=\"item-img\">\n",
      "   <img alt=\"Loomiller Park Disc Golf\" class=\"item-img\" src=\"/Home/ShowPublishedImage/2486/635369605091670000\"/>\n",
      "  </div>\n",
      "  <h2>\n",
      "   <a class=\"item-title\" href=\"/Home/Components/News/News/10996/3?npage=2\">\n",
      "    Los servicios comienzan a reabrir en los parques de Longmont\n",
      "   </a>\n",
      "  </h2>\n",
      "  <p class=\"item-intro\">\n",
      "   Estas regulaciones están de acuerdo con la Orden del Gobernador Jared Polis conocida como “Más seguros en casa” y las pautas de Salud Pública del Condado de Boulder. Algunos servicios específicos pueden tener requisitos adicionales para su uso seguro.\n",
      "  </p>\n",
      "  <p class=\"item-date\">\n",
      "   05/18/2020 5:30 PM\n",
      "  </p>\n",
      " </li>\n",
      " <li>\n",
      "  <div class=\"item-img\">\n",
      "   <img alt=\"city logo, thumbnail\" class=\"item-img\" src=\"/Home/ShowPublishedImage/23213/637199826038600000\"/>\n",
      "  </div>\n",
      "  <h2>\n",
      "   <a class=\"item-title\" href=\"/Home/Components/News/News/10984/3?npage=2\">\n",
      "    Amenities Begin Reopening in Longmont Parks\n",
      "   </a>\n",
      "  </h2>\n",
      "  <p class=\"item-intro\">\n",
      "   Several City of Longmont park amenities are reopening with specific requirements in place for public health and safety.\n",
      "  </p>\n",
      "  <p class=\"item-date\">\n",
      "   05/18/2020 5:13 PM\n",
      "  </p>\n",
      " </li>\n",
      " <li>\n",
      "  <div class=\"item-img\">\n",
      "   <img alt=\"Blue garbage truck icon with white arrow on side\" class=\"item-img\" src=\"/Home/ShowPublishedImage/15358/636281236089330000\"/>\n",
      "  </div>\n",
      "  <h2>\n",
      "   <a class=\"item-title\" href=\"/Home/Components/News/News/10982/3?npage=2\">\n",
      "    Waste Services Unveils Sustainably Fueled Collection Trucks and New Facility to House Them\n",
      "   </a>\n",
      "  </h2>\n",
      "  <p class=\"item-intro\">\n",
      "   Longmont has become the first city along the Front Range to implement a renewable vehicle fuel project.\n",
      "  </p>\n",
      "  <p class=\"item-date\">\n",
      "   05/15/2020 2:45 PM\n",
      "  </p>\n",
      " </li>\n",
      " <li>\n",
      "  <div class=\"item-img\">\n",
      "   <img alt=\"Police Memorial Longmont\" class=\"item-img\" src=\"/Home/ShowPublishedImage/24611/637251421857130000\"/>\n",
      "  </div>\n",
      "  <h2>\n",
      "   <a class=\"item-title\" href=\"/Home/Components/News/News/10980/3?npage=2\">\n",
      "    Longmont Peace Officer Memorial\n",
      "   </a>\n",
      "  </h2>\n",
      "  <p class=\"item-intro\">\n",
      "   Peace Officers Memorial Day is held annually in the United States on May 15 in honor of federal, state and local officers killed or disabled in the line of duty. It is observed in conjunction with Police Week.\n",
      "  </p>\n",
      "  <p class=\"item-date\">\n",
      "   05/15/2020 12:21 PM\n",
      "  </p>\n",
      " </li>\n",
      " <li>\n",
      "  <div class=\"item-img\">\n",
      "   <img alt=\"This Week in Longmont-Get the latest information about events and news happening this week in Longmont\" class=\"item-img\" src=\"/Home/ShowPublishedImage/23497/637227302781230000\"/>\n",
      "  </div>\n",
      "  <h2>\n",
      "   <a class=\"item-title\" href=\"/Home/Components/News/News/10978/3?npage=2\">\n",
      "    This Week in Longmont - May 15, 2020\n",
      "   </a>\n",
      "  </h2>\n",
      "  <p class=\"item-intro\">\n",
      "   See the latest news and events happening in Longmont.\n",
      "  </p>\n",
      "  <p class=\"item-date\">\n",
      "   05/15/2020 10:32 AM\n",
      "  </p>\n",
      " </li>\n",
      " <li>\n",
      "  <div class=\"item-img\">\n",
      "   <img alt=\"Transfort Flex Bus Update Longmontcolorado.com/news\" class=\"item-img\" src=\"/Home/ShowPublishedImage/23495/637227105150130000\"/>\n",
      "  </div>\n",
      "  <h2>\n",
      "   <a class=\"item-title\" href=\"/Home/Components/News/News/10976/3?npage=2\">\n",
      "    Transfort Resumes Partial and Modified FLEX Service Starting Monday, May 18\n",
      "   </a>\n",
      "  </h2>\n",
      "  <p class=\"item-intro\">\n",
      "   Beginning Monday, May 18, Transfort is resuming partial and modified FLEX service after temporarily suspending service levels due to COVID-19. FLEX will resume three (3) round trips between Boulder, Longmont, Loveland, and Fort Collins on weekdays.\n",
      "  </p>\n",
      "  <p class=\"item-date\">\n",
      "   05/14/2020 3:30 PM\n",
      "  </p>\n",
      " </li>\n",
      " <li>\n",
      "  <div class=\"item-img\">\n",
      "   <img alt=\"Longmont Museum\" class=\"item-img\" src=\"/Home/ShowPublishedImage/2723/635376669257400000\"/>\n",
      "  </div>\n",
      "  <h2>\n",
      "   <a class=\"item-title\" href=\"/Home/Components/News/News/10972/3?npage=2\">\n",
      "    Longmont Museum Summer Camps Move Online\n",
      "   </a>\n",
      "  </h2>\n",
      "  <p class=\"item-intro\">\n",
      "   Museum will hold virtual summer camps only in 2020; ages 3 – 6, June through July\n",
      "  </p>\n",
      "  <p class=\"item-date\">\n",
      "   05/12/2020 1:20 PM\n",
      "  </p>\n",
      " </li>\n",
      " <li>\n",
      "  <div class=\"item-img\">\n",
      "   <img alt=\"Sex Offender Community Notification\" class=\"item-img\" src=\"/Home/ShowPublishedImage/24573/637248860679900000\"/>\n",
      "  </div>\n",
      "  <h2>\n",
      "   <a class=\"item-title\" href=\"/Home/Components/News/News/10970/3?npage=2\">\n",
      "    Sexually Violent Predator (SVP) Community Notification\n",
      "   </a>\n",
      "  </h2>\n",
      "  <p class=\"item-intro\">\n",
      "   Colorado Law requires police departments to publicly share information about parties determined to be “Sexually Violent Predators”. This post is part of that compliance.\n",
      "  </p>\n",
      "  <p class=\"item-date\">\n",
      "   05/12/2020 11:52 AM\n",
      "  </p>\n",
      " </li>\n",
      " <li>\n",
      "  <div class=\"item-img\">\n",
      "   <img alt=\"group violating social distancing at Union Reservoir beach\" class=\"item-img\" src=\"/Home/ShowPublishedImage/24553/637245472270600000\"/>\n",
      "  </div>\n",
      "  <h2>\n",
      "   <a class=\"item-title\" href=\"/Home/Components/News/News/10964/3?npage=2\">\n",
      "    City Closes Union Reservoir Swim and Dog Beaches, Fishing Pier\n",
      "   </a>\n",
      "  </h2>\n",
      "  <p class=\"item-intro\">\n",
      "   The swim beach, dog beach and fishing pier at Union Reservoir will no longer be open for use beginning Saturday. The closures are a result of large groups not following the social distancing requirements of the statewide Safer-at-Home order.\n",
      "  </p>\n",
      "  <p class=\"item-date\">\n",
      "   05/08/2020 4:00 PM\n",
      "  </p>\n",
      " </li>\n",
      " <li>\n",
      "  <div class=\"item-img\">\n",
      "   <img alt=\"Strongmont Fund\" class=\"item-img\" src=\"/Home/ShowPublishedImage/24557/637245493284770000\"/>\n",
      "  </div>\n",
      "  <h2>\n",
      "   <a class=\"item-title\" href=\"/Home/Components/News/News/10966/3?npage=2\">\n",
      "    Longmont businesses urged to take assessment to determine impact, future needs\n",
      "   </a>\n",
      "  </h2>\n",
      "  <p class=\"item-intro\">\n",
      "   We know many Longmont businesses have been deeply impacted by the COVID-19 pandemic. The City, as a partner of the COVID-19 Business Response Team, is asking businesses to share information to help us gain a deeper understanding of the citywide magnitude of economic losses and financial needs.\n",
      "  </p>\n",
      "  <p class=\"item-date\">\n",
      "   05/08/2020 3:47 PM\n",
      "  </p>\n",
      " </li>\n",
      " <li>\n",
      "  <div class=\"item-img\">\n",
      "   <img alt=\"Strongmont Fund\" class=\"item-img\" src=\"/Home/ShowPublishedImage/24557/637245493284770000\"/>\n",
      "  </div>\n",
      "  <h2>\n",
      "   <a class=\"item-title\" href=\"/Home/Components/News/News/10968/3?npage=2\">\n",
      "    Se insta a las empresas de Longmont a realizar una evaluación para determinar el impacto y las necesidades futuras\n",
      "   </a>\n",
      "  </h2>\n",
      "  <p class=\"item-intro\">\n",
      "   El BRT pide que los negocios compartan más información detallada sobre su situación para poder mejor entender la magnitud de esta crisis económica, las pérdidas que han sufrido como resultado de ella, y sus necesidades financieras reales.\n",
      "  </p>\n",
      "  <p class=\"item-date\">\n",
      "   05/08/2020 3:00 PM\n",
      "  </p>\n",
      " </li>\n",
      " <li>\n",
      "  <div class=\"item-img\">\n",
      "   <img alt=\"This Week in Longmont-Get the latest information about events and news happening this week in Longmont\" class=\"item-img\" src=\"/Home/ShowPublishedImage/23497/637227302781230000\"/>\n",
      "  </div>\n",
      "  <h2>\n",
      "   <a class=\"item-title\" href=\"/Home/Components/News/News/10962/3?npage=2\">\n",
      "    This Week in Longmont - May 8, 2020\n",
      "   </a>\n",
      "  </h2>\n",
      "  <p class=\"item-intro\">\n",
      "   See the latest news and events happening in Longmont.\n",
      "  </p>\n",
      "  <p class=\"item-date\">\n",
      "   05/08/2020 9:00 AM\n",
      "  </p>\n",
      " </li>\n",
      " <li>\n",
      "  <div class=\"item-img\">\n",
      "   <img alt=\"Social Security 101\" class=\"item-img\" src=\"/Home/ShowPublishedImage/24551/637243695557300000\"/>\n",
      "  </div>\n",
      "  <h2>\n",
      "   <a class=\"item-title\" href=\"/Home/Components/News/News/10959/3?npage=2\">\n",
      "    VIRTUAL Social Security 101 webinar\n",
      "   </a>\n",
      "  </h2>\n",
      "  <p class=\"item-intro\">\n",
      "   Join us Friday, May 15 from 10:30a-12p for a free Social Security 101 webinar for pre-retirees.\n",
      "  </p>\n",
      "  <p class=\"item-date\">\n",
      "   05/07/2020 12:30 PM\n",
      "  </p>\n",
      " </li>\n",
      "</ul>\n"
     ]
    },
    {
     "name": "stdout",
     "output_type": "stream",
     "text": [
      "\n"
     ]
    }
   ],
   "source": [
    "print(divs.prettify())"
   ]
  },
  {
   "cell_type": "code",
   "execution_count": 14,
   "metadata": {},
   "outputs": [],
   "source": [
    "news = divs.findChildren('li')"
   ]
  },
  {
   "cell_type": "code",
   "execution_count": 15,
   "metadata": {},
   "outputs": [],
   "source": [
    "#news"
   ]
  },
  {
   "cell_type": "code",
   "execution_count": 16,
   "metadata": {},
   "outputs": [
    {
     "data": {
      "text/plain": [
       "<li><div class=\"item-img\"><img alt=\"Restaurant with young couple and menus\" class=\"item-img\" src=\"/Home/ShowPublishedImage/5647/635515778412870000\"/></div><h2><a class=\"item-title\" href=\"/Home/Components/News/News/11000/3?npage=2\">Longmont está preparada para ayudar a los restaurantes a reabrir según las pautas de la pandemia</a></h2><p class=\"item-intro\">De acuerdo a las regulaciones estatales actualizadas, se permitirá que los restaurantes abran para el consumo de alimentos y bebidas alcohólicas en el local, y para proporcionar áreas para sentarse al aire libre que promuevan el distanciamiento social.</p><p class=\"item-date\">05/27/2020 8:00 AM</p></li>"
      ]
     },
     "execution_count": 16,
     "metadata": {},
     "output_type": "execute_result"
    }
   ],
   "source": [
    "news[2]"
   ]
  },
  {
   "cell_type": "code",
   "execution_count": 17,
   "metadata": {},
   "outputs": [
    {
     "data": {
      "text/plain": [
       "'Longmont está preparada para ayudar a los restaurantes a reabrir según las pautas de la pandemia'"
      ]
     },
     "execution_count": 17,
     "metadata": {},
     "output_type": "execute_result"
    }
   ],
   "source": [
    "news[2].find('a', {'class': 'item-title'}).text"
   ]
  },
  {
   "cell_type": "code",
   "execution_count": 18,
   "metadata": {},
   "outputs": [
    {
     "data": {
      "text/plain": [
       "Timestamp('2020-05-27 08:00:00')"
      ]
     },
     "execution_count": 18,
     "metadata": {},
     "output_type": "execute_result"
    }
   ],
   "source": [
    "pd.to_datetime(news[2].find('p', {'class': 'item-date'}).text)"
   ]
  },
  {
   "cell_type": "code",
   "execution_count": null,
   "metadata": {},
   "outputs": [],
   "source": []
  },
  {
   "cell_type": "code",
   "execution_count": 19,
   "metadata": {},
   "outputs": [
    {
     "data": {
      "text/plain": [
       "<a class=\"item-title\" href=\"/Home/Components/News/News/11000/3?npage=2\">Longmont está preparada para ayudar a los restaurantes a reabrir según las pautas de la pandemia</a>"
      ]
     },
     "execution_count": 19,
     "metadata": {},
     "output_type": "execute_result"
    }
   ],
   "source": [
    "news[2].find('a')"
   ]
  },
  {
   "cell_type": "code",
   "execution_count": 20,
   "metadata": {},
   "outputs": [
    {
     "data": {
      "text/plain": [
       "'Longmont está preparada para ayudar a los restaurantes a reabrir según las pautas de la pandemia'"
      ]
     },
     "execution_count": 20,
     "metadata": {},
     "output_type": "execute_result"
    }
   ],
   "source": [
    "news[2].find('a').text"
   ]
  },
  {
   "cell_type": "code",
   "execution_count": 21,
   "metadata": {},
   "outputs": [
    {
     "data": {
      "text/plain": [
       "'/Home/Components/News/News/11000/3?npage=2'"
      ]
     },
     "execution_count": 21,
     "metadata": {},
     "output_type": "execute_result"
    }
   ],
   "source": [
    "news[2].find('a').get('href')"
   ]
  },
  {
   "cell_type": "code",
   "execution_count": 22,
   "metadata": {},
   "outputs": [],
   "source": [
    "BASE_URL = 'https://www.longmontcolorado.gov'"
   ]
  },
  {
   "cell_type": "code",
   "execution_count": 23,
   "metadata": {},
   "outputs": [],
   "source": [
    "url = BASE_URL + news[2].find('a').get('href')"
   ]
  },
  {
   "cell_type": "code",
   "execution_count": 24,
   "metadata": {},
   "outputs": [
    {
     "data": {
      "text/plain": [
       "'https://www.longmontcolorado.gov/Home/Components/News/News/11000/3?npage=2'"
      ]
     },
     "execution_count": 24,
     "metadata": {},
     "output_type": "execute_result"
    }
   ],
   "source": [
    "url"
   ]
  },
  {
   "cell_type": "code",
   "execution_count": 25,
   "metadata": {},
   "outputs": [],
   "source": [
    "url2 = 'https://www.longmontcolorado.gov/Home/Components/News/News/10984/3?npage=2'"
   ]
  },
  {
   "cell_type": "code",
   "execution_count": 26,
   "metadata": {},
   "outputs": [
    {
     "data": {
      "text/plain": [
       "False"
      ]
     },
     "execution_count": 26,
     "metadata": {},
     "output_type": "execute_result"
    }
   ],
   "source": [
    "url == url2"
   ]
  },
  {
   "cell_type": "code",
   "execution_count": 27,
   "metadata": {},
   "outputs": [],
   "source": [
    "for n in news:\n",
    "    date = pd.to_datetime(n.find('p', {'class': 'item-date'}).text)\n",
    "    link = n.find('a')\n",
    "    href = BASE_URL + link.get('href')\n",
    "    title = link.text"
   ]
  },
  {
   "cell_type": "code",
   "execution_count": 28,
   "metadata": {},
   "outputs": [
    {
     "data": {
      "text/plain": [
       "'https://www.longmontcolorado.gov/Home/Components/News/News/10959/3?npage=2'"
      ]
     },
     "execution_count": 28,
     "metadata": {},
     "output_type": "execute_result"
    }
   ],
   "source": [
    "href"
   ]
  },
  {
   "cell_type": "code",
   "execution_count": 29,
   "metadata": {},
   "outputs": [
    {
     "data": {
      "text/plain": [
       "Timestamp('2020-05-07 12:30:00')"
      ]
     },
     "execution_count": 29,
     "metadata": {},
     "output_type": "execute_result"
    }
   ],
   "source": [
    "date"
   ]
  },
  {
   "cell_type": "code",
   "execution_count": 30,
   "metadata": {},
   "outputs": [
    {
     "data": {
      "text/plain": [
       "'VIRTUAL Social Security 101 webinar'"
      ]
     },
     "execution_count": 30,
     "metadata": {},
     "output_type": "execute_result"
    }
   ],
   "source": [
    "title"
   ]
  },
  {
   "cell_type": "code",
   "execution_count": 31,
   "metadata": {},
   "outputs": [],
   "source": [
    "page = 'https://www.longmontcolorado.gov/news/-npage-4'"
   ]
  },
  {
   "cell_type": "code",
   "execution_count": 32,
   "metadata": {},
   "outputs": [],
   "source": [
    "res = req.get(page)"
   ]
  },
  {
   "cell_type": "code",
   "execution_count": 33,
   "metadata": {},
   "outputs": [],
   "source": [
    "soup = bs(res.content)"
   ]
  },
  {
   "cell_type": "code",
   "execution_count": 34,
   "metadata": {},
   "outputs": [],
   "source": [
    "divs = soup.find('ul', {'class': 'list-main'})"
   ]
  },
  {
   "cell_type": "code",
   "execution_count": 60,
   "metadata": {},
   "outputs": [],
   "source": [
    "#divs"
   ]
  },
  {
   "cell_type": "code",
   "execution_count": 37,
   "metadata": {},
   "outputs": [],
   "source": [
    "client = MongoClient()\n",
    "db = client['news']\n",
    "coll = db['longmont']"
   ]
  },
  {
   "cell_type": "code",
   "execution_count": 44,
   "metadata": {},
   "outputs": [
    {
     "data": {
      "application/vnd.jupyter.widget-view+json": {
       "model_id": "f246d3d154774d5996e824bee2807ba2",
       "version_major": 2,
       "version_minor": 0
      },
      "text/plain": [
       "HBox(children=(IntProgress(value=0, max=4), HTML(value='')))"
      ]
     },
     "metadata": {},
     "output_type": "display_data"
    },
    {
     "name": "stdout",
     "output_type": "stream",
     "text": [
      "\n"
     ]
    }
   ],
   "source": [
    "client = MongoClient()\n",
    "db = client['news']\n",
    "coll = db['longmont']\n",
    "\n",
    "PAGE_URL = 'https://www.longmontcolorado.gov/news/-npage-{}'\n",
    "\n",
    "for page in tqdm_notebook(range(1,5)):\n",
    "    divs = soup.find('ul', {'class': 'list-main'})\n",
    "    for d in divs:\n",
    "        news = divs.findChildren('li')\n",
    "        for n in news:\n",
    "            link = n.find('a')\n",
    "            title = link.text\n",
    "            date = pd.to_datetime(n.find('p', {'class': 'item-date'}).text)\n",
    "            href = BASE_URL + link.get('href')\n",
    "            coll.insert_one({'date': date,\n",
    "                             'link': href,\n",
    "                             'title': title})"
   ]
  },
  {
   "cell_type": "code",
   "execution_count": 46,
   "metadata": {},
   "outputs": [
    {
     "ename": "IndentationError",
     "evalue": "unexpected indent (<ipython-input-46-e256c38d58f4>, line 15)",
     "output_type": "error",
     "traceback": [
      "\u001b[1;36m  File \u001b[1;32m\"<ipython-input-46-e256c38d58f4>\"\u001b[1;36m, line \u001b[1;32m15\u001b[0m\n\u001b[1;33m    'title': title})\u001b[0m\n\u001b[1;37m    ^\u001b[0m\n\u001b[1;31mIndentationError\u001b[0m\u001b[1;31m:\u001b[0m unexpected indent\n"
     ]
    }
   ],
   "source": [
    "#client = MongoClient()\n",
    "#db = client['news']\n",
    "#coll = db['longmont']\n",
    "\n",
    "#divs = soup.find('ul', {'class': 'list-main'})\n",
    "#for d in divs:\n",
    " #   news = divs.findChildren('li')\n",
    "  #  for n in news:\n",
    "   #     link = n.find('a')\n",
    "    #    title = link.text\n",
    "     #   date = pd.to_datetime(n.find('p', {'class': 'item-date'}).text)\n",
    "      #  href = BASE_URL + link.get('href')\n",
    "       # coll.insert_one({'date': date,\n",
    "        #                 'link': href,\n",
    "            #             'title': title})\n",
    "        #print(title)\n",
    "        #print(date)\n",
    "        #print(href)\n",
    "#client.close()"
   ]
  },
  {
   "cell_type": "code",
   "execution_count": 38,
   "metadata": {},
   "outputs": [
    {
     "name": "stdout",
     "output_type": "stream",
     "text": [
      "{'_id': ObjectId('5ee109028a7c0daa7c9913ec'),\n",
      " 'date': datetime.datetime(2020, 5, 18, 17, 30),\n",
      " 'link': 'https://www.longmontcolorado.gov/Home/Components/News/News/10996/3?npage=2',\n",
      " 'title': 'Los servicios comienzan a reabrir en los parques de Longmont'}\n"
     ]
    }
   ],
   "source": [
    "client = MongoClient()\n",
    "db = client['news']\n",
    "coll = db['longmont']\n",
    "\n",
    "pprint(coll.find_one())"
   ]
  },
  {
   "cell_type": "code",
   "execution_count": 47,
   "metadata": {},
   "outputs": [],
   "source": [
    "sort = coll.find({},{\"_id\":-1, \"date\":1, \"link\":1, \"title\":1}).sort(\"date\", -1).limit(10)"
   ]
  },
  {
   "cell_type": "code",
   "execution_count": 48,
   "metadata": {},
   "outputs": [
    {
     "data": {
      "text/plain": [
       "<pymongo.cursor.Cursor at 0x16e5e82c508>"
      ]
     },
     "execution_count": 48,
     "metadata": {},
     "output_type": "execute_result"
    }
   ],
   "source": [
    "sort"
   ]
  },
  {
   "cell_type": "code",
   "execution_count": 49,
   "metadata": {},
   "outputs": [],
   "source": [
    "df = pd.io.json.json_normalize(sort)"
   ]
  },
  {
   "cell_type": "code",
   "execution_count": 50,
   "metadata": {},
   "outputs": [
    {
     "data": {
      "text/html": [
       "<div>\n",
       "<style scoped>\n",
       "    .dataframe tbody tr th:only-of-type {\n",
       "        vertical-align: middle;\n",
       "    }\n",
       "\n",
       "    .dataframe tbody tr th {\n",
       "        vertical-align: top;\n",
       "    }\n",
       "\n",
       "    .dataframe thead th {\n",
       "        text-align: right;\n",
       "    }\n",
       "</style>\n",
       "<table border=\"1\" class=\"dataframe\">\n",
       "  <thead>\n",
       "    <tr style=\"text-align: right;\">\n",
       "      <th></th>\n",
       "      <th>_id</th>\n",
       "      <th>date</th>\n",
       "      <th>link</th>\n",
       "      <th>title</th>\n",
       "    </tr>\n",
       "  </thead>\n",
       "  <tbody>\n",
       "    <tr>\n",
       "      <td>0</td>\n",
       "      <td>5ee27a7024b596dd09fd92ab</td>\n",
       "      <td>2020-05-20 08:00:00</td>\n",
       "      <td>https://www.longmontcolorado.gov/Home/Componen...</td>\n",
       "      <td>Medicare Basics offered virtually in May and June</td>\n",
       "    </tr>\n",
       "    <tr>\n",
       "      <td>1</td>\n",
       "      <td>5ee27a7024b596dd09fd92bf</td>\n",
       "      <td>2020-05-20 08:00:00</td>\n",
       "      <td>https://www.longmontcolorado.gov/Home/Componen...</td>\n",
       "      <td>Medicare Basics offered virtually in May and June</td>\n",
       "    </tr>\n",
       "    <tr>\n",
       "      <td>2</td>\n",
       "      <td>5ee27a7024b596dd09fd92d3</td>\n",
       "      <td>2020-05-20 08:00:00</td>\n",
       "      <td>https://www.longmontcolorado.gov/Home/Componen...</td>\n",
       "      <td>Medicare Basics offered virtually in May and June</td>\n",
       "    </tr>\n",
       "    <tr>\n",
       "      <td>3</td>\n",
       "      <td>5ee27a7024b596dd09fd92e7</td>\n",
       "      <td>2020-05-20 08:00:00</td>\n",
       "      <td>https://www.longmontcolorado.gov/Home/Componen...</td>\n",
       "      <td>Medicare Basics offered virtually in May and June</td>\n",
       "    </tr>\n",
       "    <tr>\n",
       "      <td>4</td>\n",
       "      <td>5ee27a7024b596dd09fd92fb</td>\n",
       "      <td>2020-05-20 08:00:00</td>\n",
       "      <td>https://www.longmontcolorado.gov/Home/Componen...</td>\n",
       "      <td>Medicare Basics offered virtually in May and June</td>\n",
       "    </tr>\n",
       "    <tr>\n",
       "      <td>5</td>\n",
       "      <td>5ee27a7024b596dd09fd930f</td>\n",
       "      <td>2020-05-20 08:00:00</td>\n",
       "      <td>https://www.longmontcolorado.gov/Home/Componen...</td>\n",
       "      <td>Medicare Basics offered virtually in May and June</td>\n",
       "    </tr>\n",
       "    <tr>\n",
       "      <td>6</td>\n",
       "      <td>5ee27a7024b596dd09fd9323</td>\n",
       "      <td>2020-05-20 08:00:00</td>\n",
       "      <td>https://www.longmontcolorado.gov/Home/Componen...</td>\n",
       "      <td>Medicare Basics offered virtually in May and June</td>\n",
       "    </tr>\n",
       "    <tr>\n",
       "      <td>7</td>\n",
       "      <td>5ee27a7024b596dd09fd9337</td>\n",
       "      <td>2020-05-20 08:00:00</td>\n",
       "      <td>https://www.longmontcolorado.gov/Home/Componen...</td>\n",
       "      <td>Medicare Basics offered virtually in May and June</td>\n",
       "    </tr>\n",
       "    <tr>\n",
       "      <td>8</td>\n",
       "      <td>5ee27a7024b596dd09fd934b</td>\n",
       "      <td>2020-05-20 08:00:00</td>\n",
       "      <td>https://www.longmontcolorado.gov/Home/Componen...</td>\n",
       "      <td>Medicare Basics offered virtually in May and June</td>\n",
       "    </tr>\n",
       "  </tbody>\n",
       "</table>\n",
       "</div>"
      ],
      "text/plain": [
       "                        _id                date  \\\n",
       "0  5ee27a7024b596dd09fd92ab 2020-05-20 08:00:00   \n",
       "1  5ee27a7024b596dd09fd92bf 2020-05-20 08:00:00   \n",
       "2  5ee27a7024b596dd09fd92d3 2020-05-20 08:00:00   \n",
       "3  5ee27a7024b596dd09fd92e7 2020-05-20 08:00:00   \n",
       "4  5ee27a7024b596dd09fd92fb 2020-05-20 08:00:00   \n",
       "5  5ee27a7024b596dd09fd930f 2020-05-20 08:00:00   \n",
       "6  5ee27a7024b596dd09fd9323 2020-05-20 08:00:00   \n",
       "7  5ee27a7024b596dd09fd9337 2020-05-20 08:00:00   \n",
       "8  5ee27a7024b596dd09fd934b 2020-05-20 08:00:00   \n",
       "\n",
       "                                                link  \\\n",
       "0  https://www.longmontcolorado.gov/Home/Componen...   \n",
       "1  https://www.longmontcolorado.gov/Home/Componen...   \n",
       "2  https://www.longmontcolorado.gov/Home/Componen...   \n",
       "3  https://www.longmontcolorado.gov/Home/Componen...   \n",
       "4  https://www.longmontcolorado.gov/Home/Componen...   \n",
       "5  https://www.longmontcolorado.gov/Home/Componen...   \n",
       "6  https://www.longmontcolorado.gov/Home/Componen...   \n",
       "7  https://www.longmontcolorado.gov/Home/Componen...   \n",
       "8  https://www.longmontcolorado.gov/Home/Componen...   \n",
       "\n",
       "                                               title  \n",
       "0  Medicare Basics offered virtually in May and June  \n",
       "1  Medicare Basics offered virtually in May and June  \n",
       "2  Medicare Basics offered virtually in May and June  \n",
       "3  Medicare Basics offered virtually in May and June  \n",
       "4  Medicare Basics offered virtually in May and June  \n",
       "5  Medicare Basics offered virtually in May and June  \n",
       "6  Medicare Basics offered virtually in May and June  \n",
       "7  Medicare Basics offered virtually in May and June  \n",
       "8  Medicare Basics offered virtually in May and June  "
      ]
     },
     "execution_count": 50,
     "metadata": {},
     "output_type": "execute_result"
    }
   ],
   "source": [
    "df"
   ]
  },
  {
   "cell_type": "code",
   "execution_count": 57,
   "metadata": {},
   "outputs": [],
   "source": [
    "date = coll.find({'date': {'$eq': '2020-05-20 08:00:00'}})"
   ]
  },
  {
   "cell_type": "code",
   "execution_count": 58,
   "metadata": {},
   "outputs": [],
   "source": [
    "df2 = pd.io.json.json_normalize(date)"
   ]
  },
  {
   "cell_type": "code",
   "execution_count": 59,
   "metadata": {},
   "outputs": [
    {
     "data": {
      "text/html": [
       "<div>\n",
       "<style scoped>\n",
       "    .dataframe tbody tr th:only-of-type {\n",
       "        vertical-align: middle;\n",
       "    }\n",
       "\n",
       "    .dataframe tbody tr th {\n",
       "        vertical-align: top;\n",
       "    }\n",
       "\n",
       "    .dataframe thead th {\n",
       "        text-align: right;\n",
       "    }\n",
       "</style>\n",
       "<table border=\"1\" class=\"dataframe\">\n",
       "  <thead>\n",
       "    <tr style=\"text-align: right;\">\n",
       "      <th></th>\n",
       "    </tr>\n",
       "  </thead>\n",
       "  <tbody>\n",
       "  </tbody>\n",
       "</table>\n",
       "</div>"
      ],
      "text/plain": [
       "Empty DataFrame\n",
       "Columns: []\n",
       "Index: []"
      ]
     },
     "execution_count": 59,
     "metadata": {},
     "output_type": "execute_result"
    }
   ],
   "source": [
    "df2"
   ]
  },
  {
   "cell_type": "code",
   "execution_count": null,
   "metadata": {},
   "outputs": [],
   "source": []
  }
 ],
 "metadata": {
  "kernelspec": {
   "display_name": "Python 3",
   "language": "python",
   "name": "python3"
  },
  "language_info": {
   "codemirror_mode": {
    "name": "ipython",
    "version": 3
   },
   "file_extension": ".py",
   "mimetype": "text/x-python",
   "name": "python",
   "nbconvert_exporter": "python",
   "pygments_lexer": "ipython3",
   "version": "3.7.4"
  }
 },
 "nbformat": 4,
 "nbformat_minor": 2
}
